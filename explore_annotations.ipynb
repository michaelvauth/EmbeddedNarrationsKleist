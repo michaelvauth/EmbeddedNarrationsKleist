{
 "cells": [
  {
   "cell_type": "markdown",
   "metadata": {},
   "source": [
    "# Character Speech and Embedded Narrations in Kleist's Dramas and Novellas"
   ]
  },
  {
   "cell_type": "code",
   "execution_count": 1,
   "metadata": {},
   "outputs": [],
   "source": [
    "from narrview.scatter import subcorpus_scatter, single_text_scatter\n",
    "from narrview.network import Network"
   ]
  },
  {
   "cell_type": "markdown",
   "metadata": {},
   "source": [
    "## Visualize Subcorpus Annotations as Interactive Scatter Plot\n",
    "For this plot type exist the following options:\n",
    "- `corpus=`\n",
    "  - `'Novellas'`\n",
    "  - `'Dramas'`\n",
    "- `tags=` (Here you can choose any combination of tags as a list)\n",
    "  - `['direct_speech', 'indirect_speech', 'narrated_character_speech']`\n",
    "  - `['secondary_narration', 'tertiary_narration']`\n",
    "- `color_column=`\n",
    "  - `'tag'`\n",
    "  - `'prop:character_speech'`\n",
    "  - `'prop:informativeness'`\n",
    "  - `'prop:falsification_status'`\n",
    "  - `'prop:relation_narrator-event_time'`"
   ]
  },
  {
   "cell_type": "markdown",
   "metadata": {},
   "source": [
    "### Plot Character Speech in Novellas"
   ]
  },
  {
   "cell_type": "code",
   "execution_count": null,
   "metadata": {},
   "outputs": [],
   "source": [
    "subcorpus_scatter(\n",
    "    corpus='Novellas',                                  \n",
    "    tags=['direct_speech', 'indirect_speech', 'narrated_character_speech'],\n",
    "    color_column='tag'\n",
    ")"
   ]
  },
  {
   "cell_type": "markdown",
   "metadata": {},
   "source": [
    "### Plot Embedded Narrations in Dramas"
   ]
  },
  {
   "cell_type": "code",
   "execution_count": null,
   "metadata": {},
   "outputs": [],
   "source": [
    "subcorpus_scatter(\n",
    "    corpus='Dramas',                                  \n",
    "    tags=['secondary_narration', 'tertiary_narration'],\n",
    "    color_column='prop:relation_narrator-event_time'\n",
    ")"
   ]
  },
  {
   "cell_type": "markdown",
   "metadata": {},
   "source": [
    "## Visualize Single Text Annotations as Interactive Scatter Plot\n",
    "For this plot type exist the following options:\n",
    "- `text=`\n",
    "  - `\"1802-schroffenstein\"`\n",
    "  - `\"1806-amphitryon\"`\n",
    "  - `\"1806-krug\"`\n",
    "  - `\"1807-penthesilea\"`\n",
    "  - `\"1808-hermannsschlacht\"`\n",
    "  - `\"1808-kaethchen\"`\n",
    "  - `\"1810-homburg\"`\n",
    "  - `\"1807-erdbeben\"`\n",
    "  - `\"1808-marquise\"`\n",
    "  - `\"1810-caecilie\"`\n",
    "  - `\"1810-kohlhaas\"`\n",
    "  - `\"1811-findling\"`\n",
    "  - `\"1811-verlobung\"`\n",
    "  - `\"1811-zweikampf\"`\n",
    "- `tags=` (Here you can choose any combination of tags as a list)\n",
    "  - `['direct_speech', 'indirect_speech', 'narrated_character_speech']`\n",
    "  - `['secondary_narration', 'tertiary_narration']`\n",
    "- `y_column=`\n",
    "  - `'prop:speaker'`\n",
    "  - `'prop:addressee'`\n",
    "  - `'tag'`\n",
    "  - `'prop:character_speech'`\n",
    "  - `'prop:informativeness'`\n",
    "  - `'prop:falsification_status'`\n",
    "  - `'prop:relation_narrator-event_time'`\n",
    "- `color_column=`\n",
    "  - `'prop:speaker'`\n",
    "  - `'prop:addressee'`\n",
    "  - `'tag'`\n",
    "  - `'prop:character_speech'`\n",
    "  - `'prop:informativeness'`\n",
    "  - `'prop:falsification_status'`\n",
    "  - `'prop:relation_narrator-event_time'`"
   ]
  },
  {
   "cell_type": "markdown",
   "metadata": {},
   "source": [
    "### Plot Character Speech in a Novella"
   ]
  },
  {
   "cell_type": "code",
   "execution_count": 3,
   "metadata": {},
   "outputs": [
    {
     "data": {
      "application/vnd.plotly.v1+json": {
       "config": {
        "plotlyServerURL": "https://plot.ly"
       },
       "data": [
        {
         "customdata": [
          [
           "<I><br>Er rief den Schlagwärter<br><br><br><br><br><br></I>"
          ],
          [
           "<I><br>daß er ihm öffnen solle<br><br><br><br><br><br></I>"
          ],
          [
           "<I><br>Was gibt's hier Neues?<br><br><br><br><br><br></I>"
          ],
          [
           "<I><br>Ist der alte Herr tot?<br><br><br><br><br><br></I>"
          ],
          [
           "<I><br>Hm! Schade! Ein würdiger alter Herr, der seine Freude am<br>Verkehr der Menschen hatte, Handel und Wandel, wo er nur<br>vermochte, forthalf, und einen Steindamm einst bauen ließ, weil mir<br>eine Stute, draußen, wo der Weg ins Dorf geht, das<br>Bein gebrochen. Nun! Was bin ich schuldig?<br><br></I>"
          ],
          [
           "<I><br>Ja, Alter<br><br><br><br><br><br></I>"
          ]
         ],
         "hovertemplate": "prop:addressee=Zoellner<br>start_point=%{x}<br>prop:speaker=%{y}<br>size=%{marker.size}<br>Annotation=%{customdata[0]}<extra></extra>",
         "legendgroup": "Zoellner",
         "marker": {
          "color": "#636efa",
          "size": [
           113,
           23,
           22,
           22,
           295,
           9
          ],
          "sizemode": "area",
          "sizeref": 16.9275,
          "symbol": "circle"
         },
         "mode": "markers",
         "name": "Zoellner",
         "orientation": "h",
         "showlegend": true,
         "type": "scatter",
         "x": [
          3698,
          3908,
          3933,
          4263,
          4374,
          4793
         ],
         "xaxis": "x",
         "y": [
          "Michael_Kohlhaas",
          "Michael_Kohlhaas",
          "Michael_Kohlhaas",
          "Michael_Kohlhaas",
          "Michael_Kohlhaas",
          "Michael_Kohlhaas"
         ],
         "yaxis": "y"
        },
        {
         "alignmentgroup": "True",
         "bingroup": "x",
         "hovertemplate": "prop:addressee=Zoellner<br>start_point=%{x}<br>count=%{y}<extra></extra>",
         "legendgroup": "Zoellner",
         "marker": {
          "color": "#636efa"
         },
         "name": "Zoellner",
         "offsetgroup": "Zoellner",
         "opacity": 0.5,
         "showlegend": false,
         "type": "histogram",
         "x": [
          3698,
          3908,
          3933,
          4263,
          4374,
          4793
         ],
         "xaxis": "x3",
         "yaxis": "y3"
        },
        {
         "alignmentgroup": "True",
         "bingroup": "y",
         "hovertemplate": "prop:addressee=Zoellner<br>prop:speaker=%{y}<br>count=%{x}<extra></extra>",
         "legendgroup": "Zoellner",
         "marker": {
          "color": "#636efa"
         },
         "name": "Zoellner",
         "offsetgroup": "Zoellner",
         "opacity": 0.5,
         "showlegend": false,
         "type": "histogram",
         "xaxis": "x2",
         "y": [
          "Michael_Kohlhaas",
          "Michael_Kohlhaas",
          "Michael_Kohlhaas",
          "Michael_Kohlhaas",
          "Michael_Kohlhaas",
          "Michael_Kohlhaas"
         ],
         "yaxis": "y2"
        },
        {
         "customdata": [
          [
           "<I><br>Landesherrliches Privilegium dem Junker Wenzel von Tronka verliehen.<br><br><br><br><br><br></I>"
          ],
          [
           "<I><br>Am Schlagfluß gestorben<br><br><br><br><br><br></I>"
          ],
          [
           "<I><br>hurtig! hurtig!<br><br><br><br><br><br></I>"
          ],
          [
           "<I><br>wenn der Baum im Walde stehen geblieben wäre, wär's besser<br>gewesen, für mich und Euch<br><br><br><br><br></I>"
          ],
          [
           "<I><br>halt dort, der Roßkamm!<br><br><br><br><br><br></I>"
          ],
          [
           "<I><br>Der Burgvogt fragte nach dem Paßschein.<br><br><br><br><br><br></I>"
          ],
          [
           "<I><br>daß ohne einen landesherrlichen Erlaubnisschein, kein Roßkamm mit Pferden über<br>die Grenze gelassen würde<br><br><br><br><br></I>"
          ],
          [
           "<I><br>daß er das achtzehnte Mal nicht durchschlüpfen würde, daß die<br>Verordnung deshalb erst neuerlich erschienen wäre , und daß er<br>entweder den Paßschein noch hier lösen, oder zurückkehren müsse, wo<br>er hergekommen sei<br><br><br></I>"
          ],
          [
           "<I><br>was er wolle<br><br><br><br><br><br></I>"
          ],
          [
           "<I><br>Pferde? Wo sind sie?<br><br><br><br><br><br></I>"
          ],
          [
           "<I><br>Der eine lobte den Schweißfuchs mit der Blesse<br><br><br><br><br><br></I>"
          ],
          [
           "<I><br>daß die Pferde wie Hirsche wären, und im Lande keine<br>bessern gezogen würden<br><br><br><br><br></I>"
          ],
          [
           "<I><br>Der Junker befragte ihn auch um den Preis;<br><br><br><br><br><br></I>"
          ],
          [
           "<I><br>daß er nach \n der Tafelrunde reiten und sich den<br>König Arthur aufsuchen müsse, wenn er die Pferde so anschlage<br><br><br><br><br></I>"
          ],
          [
           "<I><br>daß er für den Schweißfuchs wohl, aber nicht eben für<br>die Rappen, Geld ausgeben möchte<br><br><br><br><br></I>"
          ],
          [
           "<I><br>er höre, daß er ohne einen Paßschein nicht reisen dürfe<br><br><br><br><br><br></I>"
          ],
          [
           "<I><br>ja, Kohlhaas, den Paß mußt du lösen. Sprich mit dem<br>Schloßvogt, und zieh deiner Wege<br><br><br><br><br></I>"
          ],
          [
           "<I><br>Nun! laßt den Schlucker laufen.<br><br><br><br><br><br></I>"
          ],
          [
           "<I><br>er möchte nur hinuntergehen und sie holen<br><br><br><br><br><br></I>"
          ],
          [
           "<I><br>er wisse es nicht<br><br><br><br><br><br></I>"
          ],
          [
           "<I><br>daß ihnen weiter kein Unglück zugestoßen wäre, daß sie auch<br>das gehörige Futter bekommen hätten, daß sie aber, da gerade<br>Ernte gewesen sei, wegen Mangels an Zugvieh, ein wenig auf<br>den Feldern gebraucht worden wären<br><br><br></I>"
          ],
          [
           "<I><br>was es hier gäbe<br><br><br><br><br><br></I>"
          ],
          [
           "<I><br>seht den Grobian! Ob der Flegel nicht Gott danken sollte,<br>daß die Mähren überhaupt noch leben?<br><br><br><br><br></I>"
          ],
          [
           "<I><br>wer sie, da der Knecht weggelaufen, hätte pflegen sollen? Ob<br>es nicht billig gewesen wäre, daß die Pferde das Futter,<br>das man ihnen gereicht habe, auf den Feldern abverdient hätten?<br><br><br><br></I>"
          ],
          [
           "<I><br>daß er hier keine Flausen machen möchte, oder daß er<br>die Hunde rufen, und sich durch sie Ruhe im Hofe<br>zu verschaffen wissen würde.<br><br><br><br></I>"
          ],
          [
           "<I><br>weil der Schlingel trotzig im Hofe gewesen ist! Weil er<br>sich gegen einen notwendigen Stallwechsel gesträubt, und verlangt hat, daß<br>die Pferde zweier Jungherren, die auf die Tronkenburg kamen, um<br>seiner Mähren willen, auf der freien Straße übernachten sollten!<br><br><br></I>"
          ],
          [
           "<I><br>was dieser Roßkamm, weil seine Rappen ein wenig gebraucht worden<br>wären, für eine Rebellion verführe<br><br><br><br><br></I>"
          ],
          [
           "<I><br>wenn der H... A... die Pferde nicht wiedernehmen will, so<br>mag er es bleibenlassen. Komm, Günther!<br><br><br><br><br></I>"
          ],
          [
           "<I><br>ja liebster Michael, dieser Herse! Denke dir, daß dieser unselige<br>Mensch, vor etwa vierzehn Tagen, auf das jämmerlichste zerschlagen, hier<br>eintrifft; nein, so zerschlagen, daß er auch nicht frei atmen<br>kann. Wir bringen ihn zu Bett, wo er heftig Blut<br>speit, und vernehmen, auf unsre wiederholten Fragen, eine Geschichte, die<br>keiner versteht. Wie er von dir mit Pferden, denen man<br>[...]</I>"
          ],
          [
           "<I><br>Bis auf das Blutspeien halb und halb. Ich wollte sogleich<br>einen Knecht nach der Tronkenburg schicken, um die Pflege der<br>Rosse, bis zu deiner Ankunft daselbst, besorgen zu lassen. Denn<br>da sich der Herse immer wahrhaftig gezeigt hat, und so<br>getreu uns, in der Tat wie kein anderer, so kam<br>es mir nicht zu, in seine Aussage, von so viel<br>[...]</I>"
          ],
          [
           "<I><br>Er geht seit einigen Tagen schon wieder im Hofe umher.<br><br><br><br><br><br></I>"
          ],
          [
           "<I><br>Kurz, du wirst sehen daß alles seine Richtigkeit hat, und<br>daß diese Begebenheit einer von den Freveln ist, die man<br>sich seit kurzem auf der Tronkenburg gegen die Fremden erlaubt.<br><br><br><br></I>"
          ],
          [
           "<I><br>da habt Ihr recht, Herr! denn einen Schwefelfaden, den ich<br>durch Gottes Fügung bei mir trug, um das Raubnest, aus<br>dem ich verjagt worden war, in Brand zu stecken, warf<br>ich, als ich ein Kind darin jammern hörte, in das<br>Elbwasser, und dachte: mag es Gottes Blitz einäschern; ich will's<br>nicht!<br></I>"
          ],
          [
           "<I><br>durch einen schlechten Streich, Herr; Geschehenes ist aber nicht zu<br>ändern. Ich wollte die Pferde nicht auf der Feldarbeit zugrunde<br>richten lassen, und sagte, daß sie noch jung wären und<br>nicht gezogen hätten.<br><br><br></I>"
          ],
          [
           "<I><br>Das habe ich auch getan , Herr, Ich dachte, da<br>sie mir grämliche Gesichter machten, es wird doch die Rappen<br>just nicht kosten. Am dritten Vormittag spannt ich sie vor,<br>und drei Fuhren Getreide führt ich ein.<br><br><br></I>"
          ],
          [
           "<I><br>daß es so sei<br><br><br><br><br><br></I>"
          ],
          [
           "<I><br>Meine \n Ungefälligkeit bestand darin, daß ich die Pferde, als<br>sie zu Mittag kaum ausgefressen hatten, nicht wieder ins Joch<br>spannen wollte; und daß ich dem Schloßvogt und dem Verwalter,<br>als sie mir vorschlugen frei Futter dafür anzunehmen, und das<br>Geld, das Ihr mir für Futterkosten zurückgelassen hattet, in den<br>Sack zu stecken, antwortete – ich würde ihnen sonstwas tun;<br>[...]</I>"
          ],
          [
           "<I><br>Behüte Gott um eine gottvergessene Missetat! Denn auf den Abend<br>wurden die Pferde zweier Ritter, welche auf die Tronkenburg kamen,<br>in den Stall geführt, und meine an die Stalltüre angebunden.<br>Und da ich dem Schloßvogt, der sie daselbst einquartierte, die<br>Rappen aus der Hand nahm, und fragte, wo die Tiere<br>jetzo bleiben sollten, so zeigte er mir einen Schweinekoben an,<br>[...]</I>"
          ],
          [
           "<I><br>Es war ein Schweinekoben , Herr wirklich und wahrhaftig ein<br>Schweinekoben, in welchem die Schweine aus-und einliefen, und ich nicht<br>aufrecht stehen konnte .<br><br><br><br></I>"
          ],
          [
           "<I><br>Der Platz war eng. Es hauseten jetzt in allem sieben<br>Ritter auf der Burg. Wenn Ihr es gewesen wäret, Ihr<br>hättet die Pferde ein wenig zusammenrücken lassen. Ich sagte, ich<br>wolle mir im Dorf einen Stall zu mieten suchen ;<br>doch der Schloßvogt versetzte, daß er die Pferde unter seinen<br>Augen behalten müsse, und daß ich mich nicht unterstehen solle,<br>[...]</I>"
          ],
          [
           "<I><br>Weil der Verwalter sprach, die beiden Gäste würden bloß übernachten,<br>und am andern Morgen weiterreiten , so führte ich die<br>Pferde in den Schweinekoben hinein. Aber der folgende Tag verfloß,<br>ohne daß es geschah; und\n als der dritte anbrach, hieß<br>es, die Herren würden noch einige Wochen auf der Burg<br>verweilen.<br></I>"
          ],
          [
           "<I><br>'s ist wahr Da ich den Ort ein bissel ausfegte,<br>ging's an. Ich gab der Magd einen Groschen, daß sie<br>die Schweine woanders einstecke. Und den Tag über bewerkstelligte ich<br>auch, daß die Pferde aufrecht stehen konnten, indem ich die<br>Bretter oben, wenn der Morgen dämmerte, von den Latten abnahm,<br>und abends wieder auflegte. Sie guckten nun, wie Gänse, aus<br>[...]</I>"
          ],
          [
           "<I><br>Herr, ich sag's Euch weil man meiner los sein wollte.<br>Weil sie die Pferde, solange ich dabei war, nicht zugrunde<br>richten konnten. Überall schnitten sie mir, im Hofe und in<br>der Gesindestube, widerwärtige Gesichter; und weil ich dachte, zieht ihr<br>die Mäuler, daß sie verrenken, so brachen sie die Gelegenheit<br>vom Zaune, und warfen mich vom Hofe herunter.<br></I>"
          ],
          [
           "<I><br>O allerdings und die allergerechteste. Ich nahm, am Abend des<br>zweiten Tages, den ich im Schweinekoben zugebracht, die Pferde, die<br>sich darin doch zugesudelt hatten, und wollte sie zur Schwemme<br>reiten. Und da ich eben unter dem Schloßtore bin, und<br>mich wenden will, hör ich den Vogt und den Verwalter,<br>mit Knechten, Hunden und Prügeln, aus der Gesindestube, hinter mir<br>[...]</I>"
          ],
          [
           "<I><br>Himmelschlag! Sielzeug und Decken ließ ich ja, und einen Bündel<br>Wäsche, im Schweinekoben zurück. Würd ich drei Reichsgülden nicht zu<br>mir gesteckt haben, die ich, im rotseidnen Halstuch, hinter der<br>Krippe versteckt hatte? Blitz, Höll und Teufel! Wenn Ihr so<br>sprecht, so möcht ich nur gleich den Schwefelfaden, den ich<br>wegwarf, wieder anzünden!<br></I>"
          ],
          [
           "<I><br>daß noch mancher andre Reisende, vielleicht minder duldsam, als er,<br>über jene Burg ziehen würde; daß es ein Werk Gottes<br>wäre, Unordnungen, gleich diesen, Einhalt zu tun; und daß sie<br>die Kosten, die ihm die Führung des Prozesses verursachen würde,<br>schon beitreiben wolle<br><br></I>"
          ],
          [
           "<I><br>daß der Junker Wenzel von Tronka mit zwei Jungherren, Hinz<br>und Kunz von Tronka, verwandt sei, deren einer, bei der<br>Person des Herrn, Mundschenk, der andre gar Kämmerer sei.<br><br><br><br></I>"
          ],
          [
           "<I><br>er möchte, ohne weitere Bemühungen bei der Rechtsinstanz, seiner, auf<br>der Tronkenburg befindlichen, Pferde wieder habhaft zu werden suchen<br><br><br><br><br></I>"
          ],
          [
           "<I><br>daß der Junker, der sich jetzt in der Hauptstadt aufhalte,<br>seine Leute angewiesen zu haben scheine, sie ihm auszuliefern<br><br><br><br><br></I>"
          ],
          [
           "<I><br>und schloß mit dem Gesuch, ihn wenigstens, falls er sich<br>hiermit nicht beruhigen wolle, mit ferneren Aufträgen in dieser Sache<br>zu verschonen<br><br><br><br></I>"
          ],
          [
           "<I><br>was für ein Unfall ihn betroffen<br><br><br><br><br><br></I>"
          ],
          [
           "<I><br>er solle nicht mutlos sein; er werde ihm zu seiner<br>Genugtuung verhelfen!<br><br><br><br><br></I>"
          ],
          [
           "<I><br>daß er nur eine Supplik, mit einer kurzen Darstellung des<br>Vorfalls, an den Kurfürsten von Brandenburg aufsetzen, den Brief des<br>Advokaten beilegen, und wegen der Gewalttätigkeit, die man sich, auf<br>sächsischem Gebiet, gegen ihn erlaubt, den landesherrlichen Schutz aufrufen möchte<br><br><br></I>"
          ],
          [
           "<I><br>die Bittschrift, unter einem anderen Paket, das schon bereit liege,<br>in die Hände des Kurfürsten zu bringen, der seinethalb unfehlbar,<br>wenn es die Verhältnisse zuließen, bei dem Kurfürsten \n von<br>Sachsen einkommen würde; und mehr als eines solchen Schrittes bedürfe<br>es nicht, um ihm bei dem Tribunal in Dresden, den<br>Künsten des Junkers und seines Anhanges zum Trotz, Gerechtigkeit zu<br>[...]</I>"
          ],
          [
           "<I><br>daß der Kurfürst die Supplik seinem Kanzler, dem Grafen Kallheim,<br>übergeben habe, und daß dieser nicht unmittelbar, wie es zweckmäßig<br>schien, bei dem Hofe zu Dresden, um Untersuchung und Bestrafung<br>der Gewalttat, sondern um vorläufige, nähere Information bei dem Junker<br>von Tronka eingekommen sei<br><br></I>"
          ],
          [
           "<I><br>Der Gerichtsherr konnte ihm auf die betroffene Frage: warum man<br>also verfahren? keine befriedigende Auskunft geben.<br><br><br><br><br></I>"
          ],
          [
           "<I><br>der Stadthauptmann ließe ihm sagen, er möchte sich in Geduld<br>fassen<br><br><br><br><br></I>"
          ],
          [
           "<I><br>es tue ihm leid, daß er nichts in seiner Sache<br>tun könne; er schicke ihm eine, an ihn ergangene, Resolution<br>der Staatskanzlei, und rate ihm, die Pferde, die er in<br>der Tronkenburg zurückgelassen, wieder abführen, und die Sache übrigens ruhenzulassen<br><br><br></I>"
          ],
          [
           "<I><br>er sei, nach dem Bericht des Tribunals in Dresden, ein<br>unnützer Querulant; der Junker, bei dem er die Pferde zurückgelassen,<br>halte ihm dieselben, auf keine Weise, zurück; er möchte nach<br>der Burg schicken, und sie holen, oder dem Junker wenigstens<br>wissen lassen, wohin er sie ihm senden solle; die Staatskanzlei<br>aber, auf jeden Fall, mit solchen Plackereien und Stänkereien verschonen.<br></I>"
          ],
          [
           "<I><br>daß die Gaule auf der Tronkenburg, nach wie vor, den<br>übrigen Pferden des Landjunkers gleich, auf dem Felde gebraucht würden<br><br><br><br><br></I>"
          ],
          [
           "<I><br>was ihn plötzlich auf so sonderbare Gedanken bringe<br><br><br><br><br><br></I>"
          ],
          [
           "<I><br>er werde doch nicht gleich Bezahlung verlangen<br><br><br><br><br><br></I>"
          ],
          [
           "<I><br>daß er ja den Wert der Besitzung in Dresden keineswegs<br>beurteilen könne<br><br><br><br><br></I>"
          ],
          [
           "<I><br>Der Amtmann wiederholte endlich ein Gebot, das er ihm vor<br>kurzem schon einmal, halb im Scherz, halb im Ernst, nichtswürdig<br>gegen den Wert der Besitzung, auf einem Spaziergange gemacht hatte.<br><br><br><br></I>"
          ],
          [
           "<I><br>daß er ja die Gestütpferde, die in seinen Ställen wären,<br>nicht brauchen könne<br><br><br><br><br></I>"
          ],
          [
           "<I><br>ob es sein Ernst sei<br><br><br><br><br><br></I>"
          ],
          [
           "<I><br>Wenn du mich irgend mich und die Kinder, die ich<br>dir geboren habe, in deinem Herzen trägst; wenn wir nicht<br>im voraus schon, um welcher Ursach willen, weiß ich nicht,<br>verstoßen sind: so sage mir, was diese entsetzlichen Anstalten zu<br>bedeuten haben!<br><br></I>"
          ],
          [
           "<I><br>Warum willst du dein Haus verkaufen?<br><br><br><br><br><br></I>"
          ],
          [
           "<I><br>Woher weißt du daß man dich in deinen Rechten nicht<br>schützen wird? Wenn du dem Herrn bescheiden, wie es dir<br>zukommt, mit deiner Bittschrift nahst: woher weißt du, daß sie<br>beiseite geworfen, oder mit Verweigerung, dich zu hören, beantwortet werden\n<br>wird?<br><br></I>"
          ],
          [
           "<I><br>Wie? Ich soll nach Schwerin gehen? Über die Grenze mit<br>den Kindern, zu meiner Muhme nach Schwerin?<br><br><br><br><br></I>"
          ],
          [
           "<I><br>Oh! ich verstehe dich! Du brauchst jetzt nichts mehr, als<br>Waffen und Pferde; alles andere kann nehmen, wer will!<br><br><br><br><br></I>"
          ],
          [
           "<I><br>daß der Fuchs gesattelt stünde<br><br><br><br><br><br></I>"
          ],
          [
           "<I><br>sie habe einen Einfall!<br><br><br><br><br><br></I>"
          ],
          [
           "<I><br>ob er ihr die Bittschrift geben, und sie, statt seiner,<br>nach Berlin gehen lassen wolle, um sie dem Landesherrn zu<br>überreichen<br><br><br><br></I>"
          ],
          [
           "<I><br>daß es in tausend Fällen einer Frau leichter sei, als<br>einem Mann, ihm zu nahen<br><br><br><br><br></I>"
          ],
          [
           "<I><br>Gib mir die Bittschrift und wenn du weiter nichts willst,<br>als sie in seinen Händen wissen, so verbürge ich mich<br>dafür: er soll sie bekommen!<br><br><br><br></I>"
          ],
          [
           "<I><br>daß der Kastellan des kurfürstlichen Schlosses, in früheren Zeiten, da<br>er zu Schwerin in Diensten gestanden, um sie geworben habe;<br>daß derselbe zwar jetzt verheiratet sei, und mehrere Kinder habe;<br>daß sie aber immer noch nicht ganz vergessen wäre; –<br>und kurz, daß er es ihr nur überlassen möchte, aus<br>diesem und manchem andern Umstand, der zu beschreiben zu weitläufig<br>[...]</I>"
          ],
          [
           "<I><br>Der Kastellan war nicht zu Hause gewesen; man war also<br>genötigt worden, in einem Wirtshause, das in der Nähe des<br>Schlosses lag, abzusteigen; dies Wirtshaus hatte Lisbeth am andern Morgen<br>verlassen, und dem Knecht befohlen, bei den Pferden zurückzubleiben; und<br>eher nicht, als am Abend, sei sie, in diesem Zustand,<br>zurückgekommen. Es schien, sie hatte sich zu dreist an die<br>[...]</I>"
          ],
          [
           "<I><br>daß es sein Wille gewesen sei, sich gleich auf ein<br>Pferd zu setzen, und ihm von diesem unglücklichen Vorfall Nachricht<br>zu geben; doch sie habe, trotz der Vorstellungen des herbeigerufenen<br>Wundarztes, darauf bestanden, ohne alle vorgängige Benachrichtigungen, zu ihrem Manne<br>nach Kohlhaasenbrück abgeführt zu werden<br><br></I>"
          ],
          [
           "<I><br>er solle die Pferde von der Tronkenburg abholen, und bei<br>Strafe, in das Gefängnis geworfen zu werden, nicht weiter in<br>dieser Sache einkommen<br><br><br><br></I>"
          ],
          [
           "<I><br>Herr, heute noch!<br><br><br><br><br><br></I>"
          ],
          [
           "<I><br>einen Riemen, mit zehn Knoten, um ihm das Striegeln zu<br>lehren, lasse er sich flechten<br><br><br><br><br></I>"
          ],
          [
           "<I><br>sie glaube, er habe sich in die Kapelle geflüchtet<br><br><br><br><br><br></I>"
          ],
          [
           "<I><br>der Schuppen stehe ja schon in Flammen<br><br><br><br><br><br></I>"
          ],
          [
           "<I><br>was er mit den Tieren nun anfangen solle<br><br><br><br><br><br></I>"
          ],
          [
           "<I><br>daß der Junker in dem Stift zu Erlabrunn, bei der<br>alten Dame Antonia von Tronka, seiner Tante, befindlich sei<br><br><br><br><br></I>"
          ],
          [
           "<I><br>daß er, in einem Elbdorf, zum Befremden der Leute, die<br>wegen des Brandes in der Tronkenburg versammelt gewesen, um Mitternacht,<br>in einem Nachen, ohne Steuer und Ruder, angekommen, und mit<br>einem Dorffuhrwerk nach \n Erlabrunn weitergereiset sei<br><br><br></I>"
          ],
          [
           "<I><br>ja<br><br><br><br><br><br></I>"
          ],
          [
           "<I><br>daß das Mandat richtig abgegeben sei<br><br><br><br><br><br></I>"
          ],
          [
           "<I><br>in Wittenberg, Kohlhaas, würdiger Mann!<br><br><br><br><br><br></I>"
          ],
          [
           "<I><br>fürchte Gott und tue kein Unrecht!<br><br><br><br><br><br></I>"
          ],
          [
           "<I><br>eben jetzt!<br><br><br><br><br><br></I>"
          ],
          [
           "<I><br>Zwei Stunden, so wahr mir Gott helfe, nach des Junkers,<br>meines Vetters, bereits vollzogener Abreise!<br><br><br><br><br></I>"
          ],
          [
           "<I><br>daß die Gewässer der Mulde, vom Regen geschwellt, ihn verhindert<br>\n hätten, früher, als eben jetzt, einzutreffen<br><br><br><br><br></I>"
          ],
          [
           "<I><br>Das Volk, von den Landsknechten nur mühsam zurückgehalten, nannte ihn<br>einen Blutigel, einen elenden Landplager und Menschenquäler, den Fluch der<br>Stadt \n Wittenberg, und das Verderben von Sachsen<br><br><br><br></I>"
          ],
          [
           "<I><br>daß der Junker nicht in der Pleißenburg sei<br><br><br><br><br><br></I>"
          ],
          [
           "<I><br>Wenzel, der Junker, befinde sich bei seinen Vettern Hinz und<br>Kunz, in Dresden.<br><br><br><br><br></I>"
          ],
          [
           "<I><br>Kohlhaas, der du dich gesandt zu sein vorgibst, das Schwert<br>der Gerechtigkeit zu handhaben, was unterfängst du dich, Vermessener, im<br>Wahnsinn stockblinder Leidenschaft, du, den Ungerechtigkeit selbst, vom Wirbel bis<br>zur Sohle erfüllt? Weil der Landesherr dir, dem du untertan<br>bist, dein Recht verweigert hat, dein Recht in dem Streit<br>um ein nichtiges Gut, erhebst du dich, Heilloser, mit Feuer<br>[...]</I>"
          ],
          [
           "<I><br>wer er sei?<br><br><br><br><br><br></I>"
          ],
          [
           "<I><br>was er wolle?<br><br><br><br><br><br></I>"
          ],
          [
           "<I><br>weiche fern hinweg!<br><br><br><br><br><br></I>"
          ],
          [
           "<I><br>dein Odem ist Pest und deine Nähe Verderben!<br><br><br><br><br><br></I>"
          ],
          [
           "<I><br>was willst du?<br><br><br><br><br><br></I>"
          ],
          [
           "<I><br>Heilloser und entsetzlicher Mann! wer gab dir das Recht, den<br>Junker von Tronka, in Verfolg eigenmächtiger Rechtsschlüsse, zu überfallen, und<br>da du ihn auf seiner Burg nicht fandst mit Feuer<br>und Schwert die ganze Gemeinschaft heimzusuchen, die ihn beschirmt?<br><br><br></I>"
          ],
          [
           "<I><br>Verstoßen! indem er ihn ansah. Welch eine Raserei der Gedanken<br>ergriff dich? Wer hätte dich aus der Gemeinschaft des Staats,<br>in welchem du lebtest, verstoßen? Ja, wo ist, solange Staaten<br>bestehen, ein Fall, daß jemand, wer es auch sei, daraus<br>verstoßen worden wäre?<br><br></I>"
          ],
          [
           "<I><br>Wer hat dir den Schutz der Gesetze versagt? Schrieb ich<br>dir nicht, daß die Klage, die du eingereicht, dem Landesherrn,<br>dem du sie eingereicht, fremd ist? Wenn Staatsdiener hinter seinem<br>Rücken Prozesse unterschlagen, oder sonst seines geheiligten Namens, in seiner<br>Unwissenheit, spotten; wer anders als Gott darf ihn wegen der<br>Wahl solcher Diener zur Rechenschaft ziehen, und bist du, gottverdammter<br>[...]</I>"
          ],
          [
           "<I><br>was er denn von dem Tribunal zu Dresden verlange?<br><br><br><br><br><br></I>"
          ],
          [
           "<I><br>Bestrafung des Junkers, den Gesetzen gemäß; Wiederherstellung der Pferde in<br>den vorigen Stand; und Ersatz des Schadens, den ich sowohl,<br>als mein bei Mühlberg gefallener Knecht Herse, durch die Gewalttat,<br>die man an uns verübte, erlitten.<br><br><br></I>"
          ],
          [
           "<I><br>Ersatz des Schadens! Summen zu Tausenden, bei Juden und Christen,<br>auf Wechseln und Pfändern, hast du, zur Bestreitung deiner wilden<br>Selbstrache, aufgenommen. Wirst du den Wert auch, auf der Rechnung,<br>wenn es zur Nachfrage kommt, ansetzen?<br><br><br></I>"
          ],
          [
           "<I><br>rasender, unbegreiflicher und entsetzlicher Mensch! und sah ihn an. Nachdem<br>dein Schwert sich, an dem Junker, Rache, die grimmigste, genommen,<br>die sich erdenken läßt: was treibt dich, auf ein Erkenntnis<br>gegen ihn zu bestehen, dessen Schärfe, wenn es zuletzt fällt,<br>ihn mit einem Gewicht von so geringer Erheblichkeit nur trifft?<br><br></I>"
          ],
          [
           "<I><br>schau her, was du forderst, wenn anders die Umstände so<br>sind, wie die öffentliche Stimme hören läßt, ist gerecht; und<br>hättest du den Streit, bevor du eigenmächtig zur Selbstrache geschritten,<br>zu des Landesherrn Entscheidung zu bringen gewußt, so wäre dir<br>deine Forderung, zweifle ich nicht, Punkt vor Punkt bewilligt worden.<br>Doch hättest du nicht, alles wohl erwogen, besser getan, du<br>[...]</I>"
          ],
          [
           "<I><br>er \n wolle mit dem Kurfürsten seinethalben in Unterhandlung treten.<br>Inzwischen möchte er sich, auf dem Schlosse zu Lützen, still<br>halten; wenn der Herr ihm freies Geleit bewillige, so werde<br>man es ihm auf dem Wege öffentlicher Anplackung bekanntmachen.<br><br><br></I>"
          ],
          [
           "<I><br>ob der Kurfürst Gnade für Recht ergehen lassen wird, weiß<br>ich nicht; denn einen Heerhaufen, vernehm ich, zog er zusammen,<br>und steht im Begriff, dich im Schlosse zu Lützen aufzuheben:<br>inzwischen, wie ich dir schon gesagt habe, an meinem Bemühen<br>soll es nicht liegen.<br><br></I>"
          ],
          [
           "<I><br>Wir etc. etc. Kurfürst von Sachsen, erteilen, in besonders gnädiger<br>Rücksicht auf die an Uns ergangene Fürsprache des Doktors Martin<br>Luther, dem Michael Kohlhaas, Roßhändler aus dem Brandenburgischen, unter der<br>Bedingung, binnen drei Tagen nach Sicht die Waffen, die er<br>ergriffen, niederzulegen, behufs einer erneuerten Untersuchung seiner Sache, freies Geleit<br>nach Dresden; dergestalt zwar, daß, wenn derselbe, wie nicht zu<br>[...]</I>"
          ],
          [
           "<I><br>ob, er Kohlhaas, der Roßhändler, wäre<br><br><br><br><br><br></I>"
          ],
          [
           "<I><br>und nachdem er die Art des Mannes noch, durch Fragen<br>mancherlei Gattung, nach seinen Kindern, seinem Vermögen und der Lebensart<br>die er künftig zu führen denke, geprüft<br><br><br><br></I>"
          ],
          [
           "<I><br>daß seinem Prozeß nichts im Wege stünde, und daß er<br>sich nur unmittelbar, um ihn einzuleiten, an den Großkanzler des<br>Tribunals, Grafen Wrede, selbst wenden möchte<br><br><br><br></I>"
          ],
          [
           "<I><br>Inzwischen du wirst auf die ersten Tage eine Wache annehmen<br>müssen, die dich, in deinem Hause sowohl, als wenn du<br>ausgehst, schütze!<br><br><br><br></I>"
          ],
          [
           "<I><br>gleichviel! Was daraus entsteht, du hast es dir selbst beizumessen<br><br><br><br><br><br></I>"
          ],
          [
           "<I><br>das bedürfe der Rede nicht<br><br><br><br><br><br></I>"
          ],
          [
           "<I><br>wies er ihn, zur \n unmittelbaren Abfassung und Einreichung der<br>Klage, an einen, bei dem Gericht angestellten, berühmten Advokaten der<br>Stadt<br><br><br><br></I>"
          ],
          [
           "<I><br>ob die Pferde, die hinter dem Wagen stünden, die seinigen<br>wären<br><br><br><br><br></I>"
          ],
          [
           "<I><br>die Pferde müßten erst ehrlich gemacht werden, bevor man ihm<br>\n das zumute<br><br><br><br><br></I>"
          ],
          [
           "<I><br>erließ derselbe zwar ein Schreiben an den Kohlhaas, worin er<br>ihn ermahnte, einen solchen Antrag, wenn er an ihn ergehen<br>sollte, nicht von der Hand zu weisen<br><br><br><br></I>"
          ],
          [
           "<I><br>was der Nagelschmidt, sein ehemaliger Knecht, sich in den Tälern<br>des Erzgebirges für Freiheiten herausnehme<br><br><br><br><br></I>"
          ],
          [
           "<I><br>forderte er ihn auf, dagegen vorzubringen, was er zu seiner<br>Rechtfertigung vorzubringen wüßte<br><br><br><br><br></I>"
          ],
          [
           "<I><br>Demgemäß beruhigte der Prinz den Kohlhaas über den Verdacht, den<br>man ihm, durch die Umstände notgedrungen, in diesem Verhör habe<br>äußern müssen<br><br><br><br></I>"
          ],
          [
           "<I><br>daß solange er in Dresden wäre, die ihm erteilte Amnestie<br>auf keine Weise gebrochen werden solle<br><br><br><br><br></I>"
          ],
          [
           "<I><br>grüßte den Kohlhaas und entließ ihn<br><br><br><br><br><br></I>"
          ],
          [
           "<I><br>er müsse gestehen, daß seine Anwesenheit grade jetzt notwendiger sei<br>als jemals, indem das Gericht wegen arglistiger und winkelziehender Einwendungen<br>der Gegenpart, seiner Aussagen und Erörterungen, in tausenderlei nicht vorherzusehenden<br>Fällen, bedürfe<br><br><br></I>"
          ],
          [
           "<I><br>er hoffe, daß er sich deshalb Pässe, bei dem Prinzen<br>Christiern von Meißen, ausbitten würde.<br><br><br><br><br></I>"
          ],
          [
           "<I><br>sein Gesuch um Pässe nach Kohlhaasenbrück werde des Kurfürsten Durchlaucht<br>vorgelegt werden, auf dessen höchster Bewilligung, sobald sie einginge, ihm<br>die Pässe zugeschickt werden würden.<br><br><br><br></I>"
          ],
          [
           "<I><br>daß der Prinz vor drei Tagen auf seine Güter gereist,<br>und die Gubernialgeschäfte während seiner Abwesenheit dem Schloßhauptmann Freiherrn Siegfried<br>von Wenk, einem Vetter des oben erwähnten Herren gleiches Namens,<br>übergeben worden wären<br><br><br></I>"
          ],
          [
           "<I><br>Herr! es ist nicht alles wie es sein soll; die<br>Landsknechte, deren heute mehr sind wie gewöhnlich, haben sich bei<br>Einbruch der Nacht um das ganze Haus verteilt; zwei stehen,<br>mit Schild und Spieß, an der vordern Tür auf der<br>Straße; zwei an der hintern im Garten: und noch zwei<br>andere liegen im Vorsaal auf ein Bund Stroh, und sagen,<br>[...]</I>"
          ],
          [
           "<I><br>der ihn, als ein alter Bekannter, einige Tage zuvor in<br>Dresden gesprochen und eingeladen hatte<br><br><br><br><br></I>"
          ],
          [
           "<I><br>daß sie nicht nötig hätten, ihm zu folgen<br><br><br><br><br><br></I>"
          ],
          [
           "<I><br>wohin er wolle?<br><br><br><br><br><br></I>"
          ],
          [
           "<I><br>daß er in diesem Fall einige Augenblicke warten müsse, indem<br>einige berittene Landsknechte, dem Befehl des Prinzen von Meißen gemäß,<br>ihn begleiten würden<br><br><br><br></I>"
          ],
          [
           "<I><br>daß die Gefahr allerdings nicht groß sei; wobei er hinzusetzte:<br>daß ihm die Knechte auch auf keine Weise zur Last<br>fallen sollten<br><br><br><br></I>"
          ],
          [
           "<I><br>und \n da der Offiziant sich über diesen Umstand wunderte,<br>und sich mit vorsichtigen Wendungen auf den Gebrauch, während der<br>ganzen Zeit seiner Anwesenheit, berief<br><br><br><br></I>"
          ],
          [
           "<I><br>Der Offiziant bat ihn selbst auf das Gubernium zu gehen,<br>um den Irrtum, der dabei obwalten müsse, zu berichtigen.<br><br><br><br><br></I>"
          ],
          [
           "<I><br>daß die Befehle des Schloßhauptmanns, Freiherrn von Wenk, der in<br>diesem Augenblick Chef der Polizei sei, ihm die unausgesetzte Beschützung<br>seiner Person zur Pflicht mache<br><br><br><br></I>"
          ],
          [
           "<I><br>falls er sich die Begleitung nicht gefallen lassen wolle<br><br><br><br><br><br></I>"
          ],
          [
           "<I><br>was er wolle<br><br><br><br><br><br></I>"
          ],
          [
           "<I><br>er würde wohltun, wenn er sich still in seinem Hause<br>hielte, und den Schmaus bei dem Lockewitzer Amtmann vor der<br>Hand noch aussetzte.<br><br><br><br></I>"
          ],
          [
           "<I><br>ja! ja! ja!<br><br><br><br><br><br></I>"
          ],
          [
           "<I><br>daß alles nur auf einem Mißverständnis beruhen müsse, das sich<br>in kurzem lösen würde<br><br><br><br><br></I>"
          ],
          [
           "<I><br>daß ihm der vordere Haupteingang nach wie vor, zu seinem<br>beliebigen Gebrauch offenstehe<br><br><br><br><br></I>"
          ],
          [
           "<I><br>Wenn er nach dem Altenburgischen kommen, und die Anführung des<br>Haufens, der sich daselbst, aus Resten des aufgelösten zusammengefunden, wieder<br>übernehmen wolle, so sei er erbötig, ihm zur Flucht aus<br>seiner Haft in Dresden mit Pferden, Leuten und Geld an<br>die Hand zu gehen<br><br></I>"
          ],
          [
           "<I><br>künftig gehorsamer und überhaupt ordentlicher und besser zu sein, als<br>vorher, und sich zum Beweis seiner Treue und Anhänglichkeit anheischig<br>machte, selbst in die Gegend von Dresden zu kommen, um<br>seine Befreiung aus seinem Kerker zu bewirken.<br><br><br></I>"
          ],
          [
           "<I><br>ob er die Handschrift anerkenne<br><br><br><br><br><br></I>"
          ],
          [
           "<I><br>da der Ritter, wegen bereits zu weit vorgerückter Tageszeit, bestimmt<br>in dem Ort übernachten zu wollen erklärte<br><br><br><br><br></I>"
          ],
          [
           "<I><br>wer er sei? und was dem Kinde fehle? auch was<br>er verbrochen und wohin man ihn unter solcher Bedeckung abführe?<br><br><br><br><br></I>"
          ],
          [
           "<I><br>was diese zu bedeuten hätte und was darin befindlich wäre<br><br><br><br><br><br></I>"
          ],
          [
           "<I><br>da! wenn es der Herr wissen will, so mag er<br>dich danach fragen!<br><br><br><br><br></I>"
          ],
          [
           "<I><br>so traf sich die Gelegenheit bald, wo der Junker dem<br>Roßhändler eröffnen konnte, wer er sei, und in welchen besonderen<br>Aufträgen er zu ihm komme.<br><br><br><br></I>"
          ],
          [
           "<I><br>was ihn zu dieser sonderbaren Weigerung, da man ihm doch<br>nichts Minderes, als Freiheit und Leben dafür anbiete, veranlasse<br><br><br><br><br></I>"
          ],
          [
           "<I><br>wie ihm dagegen von Dresden her, in seiner Sache gegen<br>den Junker Wenzel von Tronka, völlige Genugtuung widerfahren werde<br><br><br><br><br></I>"
          ],
          [
           "<I><br>daß sie schon seit geraumer Zeit aus dem Sächsischen ins<br>Brandenburgische zurückgekehrt sei, und sich, auf eine, in den Straßen<br>von Berlin unvorsichtig gewagte Frage des Kämmerers, nach der Zigeunerin,<br>die im Frühjahr des verflossenen Jahres, in Jüterbock gewesen, sogleich<br>an ihn gedrängt, und, unter einem falschen Namen, zu dem<br>Geschäfte, das er besorgt wissen wollte, angetragen habe<br></I>"
          ],
          [
           "<I><br>der Auftrag, den ihr der Kämmerer gegeben, wäre, ihm zu<br>eröffnen, auf welche drei dem sächsischen Hofe wichtigen Fragen der<br>Zettel geheimnisvolle Antwort enthalte; ihn vor einem Abgesandten, der sich<br>in Berlin befinde, um seiner habhaft zu werden, zu warnen:<br>und ihm den Zettel, unter dem Vorwande, daß er an<br>seiner Brust, wo er ihn trage, nicht mehr sicher sei,<br>[...]</I>"
          ],
          [
           "<I><br>daß sie es für klug hielte, von dem Zettel den<br>Gebrauch zu machen, zu welchem sie ihm denselben auf dem<br>Jahrmarkt zu Jüterbock eingehändigt, dem Antrag, den man ihm auf<br>der Grenze durch den Junker vom Stein gemacht, Gehör zu<br>geben, und den Zettel, der ihm selbst weiter nichts nutzen<br>könne, für Freiheit und Leben an den Kurfürsten von Sachsen<br>[...]</I>"
          ],
          [
           "<I><br>nicht um die Welt, Kohlhaas, der Roßhändler; aber um diesen<br>hübschen, kleinen, blonden Jungen!<br><br><br><br><br></I>"
          ],
          [
           "<I><br>daß er in mancherlei Hinsicht recht hätte, und daß er<br>tun und lassen könnte, was er wollte<br><br><br><br><br></I>"
          ],
          [
           "<I><br>daß er ihn ja eröffnen könne, obschon es eine bloße<br>Neugierde wäre<br><br><br><br><br></I>"
          ],
          [
           "<I><br>auf Wiedersehen Kohlhaas, auf Wiedersehn! Es \n soll dir, wenn<br>wir uns wiedertreffen, an Kenntnis über dies alles nicht fehlen!<br><br><br><br><br></I>"
          ],
          [
           "<I><br>Inzwischen war dem Kohlhaas, auf Befehl des Kurfürsten, das Todesurteil<br>vorgelesen,<br><br><br><br><br></I>"
          ],
          [
           "<I><br>wie er es mit dem, was er besitze, nach seinem<br>Tode gehalten wissen wolle<br><br><br><br><br></I>"
          ],
          [
           "<I><br>das ihm ein altes Weib für ihn eingehändigt<br><br><br><br><br><br></I>"
          ],
          [
           "<I><br>Kohlhaas, der Kurfürst von Sachsen ist in Berlin; auf den<br>Richtplatz schon ist er vorangegangen , und wird, wenn dir<br>daran liegt, an einem Hut, mit blauen und weißen Federbüschen<br>kenntlich sein. Die Absicht, in der er kömmt, brauche ich<br>dir nicht zu sagen; er will die Kapsel, sobald du<br>verscharrt bist, ausgraben, und den Zettel, der darin befindlich ist,<br>[...]</I>"
          ],
          [
           "<I><br>Kohlhaas, das Weib<br><br><br><br><br><br></I>"
          ],
          [
           "<I><br>Nun, Kohlhaas, heut ist der Tag, an dem dir dein<br>Recht geschieht! Schau her, hier liefere ich dir alles, was<br>du auf der Tronkenburg gewaltsamer Weise eingebüßt, und was ich,<br>als dein Landesherr, dir wieder zu verschaffen, schuldig war, zurück:<br>Rappen, Halstuch, Reichsgulden, Wäsche, bis auf die Kurkosten sogar für<br>deinen bei Mühlberg gefallenen Knecht Herse. Bist du mit mir<br>[...]</I>"
          ],
          [
           "<I><br>daß sein letzter Wille heilig gehalten werden solle<br><br><br><br><br><br></I>"
          ],
          [
           "<I><br>und forderte ihn auf, auch über die übrigen im Bündel<br>befindlichen Sachen, nach seinem Gutdünken zu schalten.<br><br><br><br><br></I>"
          ],
          [
           "<I><br>nun, Kohlhaas, der Roßhändler, du, dem solchergestalt Genugtuung geworden, mache<br>dich bereit, kaiserlicher Majestät, deren Anwalt hier steht, wegen des<br>Bruchs ihres Landfriedens, deiner seits Genugtuung zu geben!<br><br><br><br></I>"
          ]
         ],
         "hovertemplate": "prop:addressee=Michael_Kohlhaas<br>start_point=%{x}<br>prop:speaker=%{y}<br>size=%{marker.size}<br>Annotation=%{customdata[0]}<extra></extra>",
         "legendgroup": "Michael_Kohlhaas",
         "marker": {
          "color": "#EF553B",
          "size": [
           108,
           23,
           15,
           85,
           23,
           158,
           104,
           210,
           12,
           20,
           46,
           75,
           87,
           109,
           86,
           55,
           84,
           133,
           41,
           17,
           214,
           16,
           94,
           181,
           130,
           259,
           99,
           97,
           612,
           637,
           70,
           195,
           305,
           254,
           220,
           13,
           410,
           449,
           173,
           426,
           308,
           455,
           375,
           1974,
           354,
           269,
           172,
           138,
           120,
           140,
           32,
           72,
           278,
           392,
           296,
           235,
           67,
           248,
           384,
           123,
           51,
           46,
           71,
           664,
           77,
           20,
           258,
           36,
           272,
           117,
           124,
           30,
           23,
           125,
           78,
           158,
           392,
           851,
           314,
           140,
           17,
           85,
           50,
           38,
           40,
           109,
           241,
           2,
           36,
           39,
           34,
           11,
           100,
           110,
           193,
           43,
           78,
           1830,
           11,
           13,
           19,
           44,
           14,
           322,
           278,
           470,
           49,
           237,
           238,
           328,
           602,
           250,
           265,
           860,
           37,
           167,
           162,
           273,
           105,
           26,
           138,
           63,
           72,
           156,
           107,
           93,
           142,
           96,
           35,
           253,
           92,
           187,
           236,
           365,
           94,
           41,
           15,
           153,
           128,
           161,
           364,
           170,
           56,
           12,
           133,
           11,
           84,
           87,
           271,
           242,
           31,
           111,
           110,
           57,
           63,
           145,
           122,
           121,
           387,
           899,
           357,
           94,
           90,
           66,
           125,
           83,
           73,
           58,
           391,
           18,
           387,
           51,
           109,
           212
          ],
          "sizemode": "area",
          "sizeref": 16.9275,
          "symbol": "circle"
         },
         "mode": "markers",
         "name": "Michael_Kohlhaas",
         "orientation": "h",
         "showlegend": true,
         "type": "scatter",
         "x": [
          4030,
          4288,
          4838,
          4897,
          5115,
          5323,
          5783,
          6291,
          7160,
          7334,
          7628,
          7796,
          8008,
          8321,
          8910,
          9317,
          9587,
          9999,
          12789,
          13236,
          13860,
          14401,
          14836,
          14942,
          15135,
          15876,
          16902,
          17375,
          19468,
          20169,
          20899,
          20970,
          21671,
          22088,
          22752,
          23115,
          23130,
          23644,
          24240,
          24561,
          25036,
          25481,
          26016,
          26488,
          28750,
          30072,
          32659,
          32852,
          33014,
          33136,
          34714,
          35072,
          35245,
          35543,
          36576,
          36874,
          37135,
          37822,
          38099,
          39177,
          40228,
          41233,
          42151,
          42444,
          42635,
          43248,
          44927,
          45588,
          46011,
          47051,
          47389,
          48543,
          48681,
          48820,
          49226,
          49306,
          49652,
          50836,
          51705,
          54115,
          55514,
          55601,
          58270,
          59052,
          59707,
          62537,
          62902,
          63269,
          63575,
          64433,
          64524,
          64915,
          64939,
          65182,
          73559,
          79522,
          80553,
          81069,
          86205,
          86221,
          86462,
          86564,
          86946,
          87223,
          87844,
          88595,
          89754,
          89825,
          90078,
          90775,
          91473,
          92655,
          92980,
          105462,
          108491,
          109268,
          109561,
          109725,
          110074,
          110494,
          111324,
          124657,
          128034,
          131836,
          138666,
          138839,
          141049,
          141210,
          141414,
          144212,
          144747,
          145279,
          145725,
          147236,
          148832,
          149732,
          150119,
          150346,
          150752,
          151037,
          151306,
          151337,
          151522,
          152637,
          152978,
          153701,
          154384,
          154601,
          155421,
          155718,
          161638,
          170225,
          172536,
          173010,
          175264,
          182708,
          183514,
          202873,
          207315,
          208480,
          209405,
          210215,
          211269,
          211550,
          212254,
          215017,
          215313,
          217074,
          217419,
          218002,
          219535,
          220850,
          220903,
          221415
         ],
         "xaxis": "x",
         "y": [
          "Zoellner",
          "Zoellner",
          "Zoellner",
          "Zoellner",
          "Burgvogt_von_Tronka",
          "Burgvogt_von_Tronka",
          "Burgvogt_von_Tronka",
          "Burgvogt_von_Tronka",
          "Junker_von_Tronka",
          "Tross_von_Tronka",
          "Burgvogt_von_Tronka",
          "Tross_von_Tronka",
          "Junker_von_Tronka",
          "Junker_von_Tronka",
          "Junker_von_Tronka",
          "Burgvogt_von_Tronka",
          "Junker_von_Tronka",
          "Junker_von_Tronka",
          "Burgvogt_von_Tronka",
          "Stalljunge",
          "Stalljunge",
          "Burgvogt_von_Tronka",
          "Burgvogt_von_Tronka",
          "Burgvogt_von_Tronka",
          "Burgvogt_von_Tronka",
          "Burgvogt_von_Tronka",
          "Burgvogt_von_Tronka",
          "Junker_von_Tronka",
          "Lisbeth_Kohlhaas",
          "Lisbeth_Kohlhaas",
          "Lisbeth_Kohlhaas",
          "Lisbeth_Kohlhaas",
          "Herse",
          "Herse",
          "Herse",
          "Herse",
          "Herse",
          "Herse",
          "Herse",
          "Herse",
          "Herse",
          "Herse",
          "Herse",
          "Herse",
          "Herse",
          "Lisbeth_Kohlhaas",
          "Rechtsgehuelfe",
          "Rechtsgehuelfe",
          "Rechtsgehuelfe",
          "Rechtsgehuelfe",
          "Heinrich_von_Geusau",
          "Heinrich_von_Geusau",
          "Heinrich_von_Geusau",
          "Heinrich_von_Geusau",
          "Gerichtsherr",
          "Gerichtsherr",
          "Gerichtsherr",
          "Heinrich_von_Geusau",
          "Heinrich_von_Geusau",
          "Bekannte_von_Kohlhaas",
          "Nachbar_von_Kohlhaas",
          "Nachbar_von_Kohlhaas",
          "Nachbar_von_Kohlhaas",
          "Nachbar_von_Kohlhaas",
          "Nachbar_von_Kohlhaas",
          "Nachbar_von_Kohlhaas",
          "Lisbeth_Kohlhaas",
          "Lisbeth_Kohlhaas",
          "Lisbeth_Kohlhaas",
          "Lisbeth_Kohlhaas",
          "Lisbeth_Kohlhaas",
          "Ein_Knecht",
          "Lisbeth_Kohlhaas",
          "Lisbeth_Kohlhaas",
          "Lisbeth_Kohlhaas",
          "Lisbeth_Kohlhaas",
          "Lisbeth_Kohlhaas",
          "Sternbald",
          "Sternbald",
          "Landesherrliche_Resolution",
          "Herse",
          "Herse",
          "Haushaelterin_des_Junkers",
          "Pferdeknecht_des_Junkers",
          "Pferdeknecht_des_Junkers",
          "Herse",
          "Herse",
          "unknown",
          "Waldmann",
          "Aebtissin",
          "Aebtissin",
          "Aebtissin",
          "Aebtissin",
          "Waldmann",
          "Bewohner_Wittenbergs",
          "Magistrat",
          "unknown",
          "Luther",
          "Luther",
          "Luther",
          "Luther",
          "Luther",
          "Luther",
          "Luther",
          "Luther",
          "Luther",
          "Luther",
          "Luther",
          "Luther",
          "Luther",
          "Luther",
          "Luther",
          "Luther",
          "Kurfuerst_Sachsen",
          "Prinz_von_Meissen",
          "Prinz_von_Meissen",
          "Prinz_von_Meissen",
          "Prinz_von_Meissen",
          "Prinz_von_Meissen",
          "Prinz_von_Meissen",
          "Graf_Wrede",
          "Freiherr_von_Wenk",
          "Ein_Knecht_von_Kunz",
          "Graf_Wrede",
          "Prinz_von_Meissen",
          "Prinz_von_Meissen",
          "Prinz_von_Meissen",
          "Prinz_von_Meissen",
          "Prinz_von_Meissen",
          "Graf_Wrede",
          "Graf_Wrede",
          "Freiherr_von_Wenk",
          "Rechtsgehuelfe",
          "Thomas",
          "Verwalter_aus_Lockewitz",
          "Tross_Landsknechte",
          "Gubernial_Offiziant",
          "Gubernial_Offiziant",
          "Gubernial_Offiziant",
          "Gubernial_Offiziant",
          "Gubernial_Offiziant",
          "Gubernial_Offiziant",
          "Gubernial_Offiziant",
          "Freiherr_von_Wenk",
          "Freiherr_von_Wenk",
          "Freiherr_von_Wenk",
          "Gubernial_Offiziant",
          "Gubernial_Offiziant",
          "Nagelschmidt",
          "Nagelschmidt",
          "unknown",
          "Saechsische_Landdrost",
          "Heloise",
          "Kurfuerst_Sachsen",
          "Zigeunerin",
          "Jagdjunker_vom_Stein",
          "Jagdjunker_vom_Stein",
          "Brandenburger_Kammergericht",
          "Zigeunerin",
          "Zigeunerin",
          "Zigeunerin",
          "Zigeunerin",
          "Zigeunerin",
          "Zigeunerin",
          "Zigeunerin",
          "Brandenburger_Kammergericht",
          "Brandenburger_Kammergericht",
          "Kastellan",
          "Zigeunerin",
          "Kastellan",
          "Kurfuerst_Brandenburg",
          "Heinrich_von_Geusau",
          "Heinrich_von_Geusau",
          "Kurfuerst_Brandenburg"
         ],
         "yaxis": "y"
        },
        {
         "alignmentgroup": "True",
         "bingroup": "x",
         "hovertemplate": "prop:addressee=Michael_Kohlhaas<br>start_point=%{x}<br>count=%{y}<extra></extra>",
         "legendgroup": "Michael_Kohlhaas",
         "marker": {
          "color": "#EF553B"
         },
         "name": "Michael_Kohlhaas",
         "offsetgroup": "Michael_Kohlhaas",
         "opacity": 0.5,
         "showlegend": false,
         "type": "histogram",
         "x": [
          4030,
          4288,
          4838,
          4897,
          5115,
          5323,
          5783,
          6291,
          7160,
          7334,
          7628,
          7796,
          8008,
          8321,
          8910,
          9317,
          9587,
          9999,
          12789,
          13236,
          13860,
          14401,
          14836,
          14942,
          15135,
          15876,
          16902,
          17375,
          19468,
          20169,
          20899,
          20970,
          21671,
          22088,
          22752,
          23115,
          23130,
          23644,
          24240,
          24561,
          25036,
          25481,
          26016,
          26488,
          28750,
          30072,
          32659,
          32852,
          33014,
          33136,
          34714,
          35072,
          35245,
          35543,
          36576,
          36874,
          37135,
          37822,
          38099,
          39177,
          40228,
          41233,
          42151,
          42444,
          42635,
          43248,
          44927,
          45588,
          46011,
          47051,
          47389,
          48543,
          48681,
          48820,
          49226,
          49306,
          49652,
          50836,
          51705,
          54115,
          55514,
          55601,
          58270,
          59052,
          59707,
          62537,
          62902,
          63269,
          63575,
          64433,
          64524,
          64915,
          64939,
          65182,
          73559,
          79522,
          80553,
          81069,
          86205,
          86221,
          86462,
          86564,
          86946,
          87223,
          87844,
          88595,
          89754,
          89825,
          90078,
          90775,
          91473,
          92655,
          92980,
          105462,
          108491,
          109268,
          109561,
          109725,
          110074,
          110494,
          111324,
          124657,
          128034,
          131836,
          138666,
          138839,
          141049,
          141210,
          141414,
          144212,
          144747,
          145279,
          145725,
          147236,
          148832,
          149732,
          150119,
          150346,
          150752,
          151037,
          151306,
          151337,
          151522,
          152637,
          152978,
          153701,
          154384,
          154601,
          155421,
          155718,
          161638,
          170225,
          172536,
          173010,
          175264,
          182708,
          183514,
          202873,
          207315,
          208480,
          209405,
          210215,
          211269,
          211550,
          212254,
          215017,
          215313,
          217074,
          217419,
          218002,
          219535,
          220850,
          220903,
          221415
         ],
         "xaxis": "x3",
         "yaxis": "y3"
        },
        {
         "alignmentgroup": "True",
         "bingroup": "y",
         "hovertemplate": "prop:addressee=Michael_Kohlhaas<br>prop:speaker=%{y}<br>count=%{x}<extra></extra>",
         "legendgroup": "Michael_Kohlhaas",
         "marker": {
          "color": "#EF553B"
         },
         "name": "Michael_Kohlhaas",
         "offsetgroup": "Michael_Kohlhaas",
         "opacity": 0.5,
         "showlegend": false,
         "type": "histogram",
         "xaxis": "x2",
         "y": [
          "Zoellner",
          "Zoellner",
          "Zoellner",
          "Zoellner",
          "Burgvogt_von_Tronka",
          "Burgvogt_von_Tronka",
          "Burgvogt_von_Tronka",
          "Burgvogt_von_Tronka",
          "Junker_von_Tronka",
          "Tross_von_Tronka",
          "Burgvogt_von_Tronka",
          "Tross_von_Tronka",
          "Junker_von_Tronka",
          "Junker_von_Tronka",
          "Junker_von_Tronka",
          "Burgvogt_von_Tronka",
          "Junker_von_Tronka",
          "Junker_von_Tronka",
          "Burgvogt_von_Tronka",
          "Stalljunge",
          "Stalljunge",
          "Burgvogt_von_Tronka",
          "Burgvogt_von_Tronka",
          "Burgvogt_von_Tronka",
          "Burgvogt_von_Tronka",
          "Burgvogt_von_Tronka",
          "Burgvogt_von_Tronka",
          "Junker_von_Tronka",
          "Lisbeth_Kohlhaas",
          "Lisbeth_Kohlhaas",
          "Lisbeth_Kohlhaas",
          "Lisbeth_Kohlhaas",
          "Herse",
          "Herse",
          "Herse",
          "Herse",
          "Herse",
          "Herse",
          "Herse",
          "Herse",
          "Herse",
          "Herse",
          "Herse",
          "Herse",
          "Herse",
          "Lisbeth_Kohlhaas",
          "Rechtsgehuelfe",
          "Rechtsgehuelfe",
          "Rechtsgehuelfe",
          "Rechtsgehuelfe",
          "Heinrich_von_Geusau",
          "Heinrich_von_Geusau",
          "Heinrich_von_Geusau",
          "Heinrich_von_Geusau",
          "Gerichtsherr",
          "Gerichtsherr",
          "Gerichtsherr",
          "Heinrich_von_Geusau",
          "Heinrich_von_Geusau",
          "Bekannte_von_Kohlhaas",
          "Nachbar_von_Kohlhaas",
          "Nachbar_von_Kohlhaas",
          "Nachbar_von_Kohlhaas",
          "Nachbar_von_Kohlhaas",
          "Nachbar_von_Kohlhaas",
          "Nachbar_von_Kohlhaas",
          "Lisbeth_Kohlhaas",
          "Lisbeth_Kohlhaas",
          "Lisbeth_Kohlhaas",
          "Lisbeth_Kohlhaas",
          "Lisbeth_Kohlhaas",
          "Ein_Knecht",
          "Lisbeth_Kohlhaas",
          "Lisbeth_Kohlhaas",
          "Lisbeth_Kohlhaas",
          "Lisbeth_Kohlhaas",
          "Lisbeth_Kohlhaas",
          "Sternbald",
          "Sternbald",
          "Landesherrliche_Resolution",
          "Herse",
          "Herse",
          "Haushaelterin_des_Junkers",
          "Pferdeknecht_des_Junkers",
          "Pferdeknecht_des_Junkers",
          "Herse",
          "Herse",
          "unknown",
          "Waldmann",
          "Aebtissin",
          "Aebtissin",
          "Aebtissin",
          "Aebtissin",
          "Waldmann",
          "Bewohner_Wittenbergs",
          "Magistrat",
          "unknown",
          "Luther",
          "Luther",
          "Luther",
          "Luther",
          "Luther",
          "Luther",
          "Luther",
          "Luther",
          "Luther",
          "Luther",
          "Luther",
          "Luther",
          "Luther",
          "Luther",
          "Luther",
          "Luther",
          "Kurfuerst_Sachsen",
          "Prinz_von_Meissen",
          "Prinz_von_Meissen",
          "Prinz_von_Meissen",
          "Prinz_von_Meissen",
          "Prinz_von_Meissen",
          "Prinz_von_Meissen",
          "Graf_Wrede",
          "Freiherr_von_Wenk",
          "Ein_Knecht_von_Kunz",
          "Graf_Wrede",
          "Prinz_von_Meissen",
          "Prinz_von_Meissen",
          "Prinz_von_Meissen",
          "Prinz_von_Meissen",
          "Prinz_von_Meissen",
          "Graf_Wrede",
          "Graf_Wrede",
          "Freiherr_von_Wenk",
          "Rechtsgehuelfe",
          "Thomas",
          "Verwalter_aus_Lockewitz",
          "Tross_Landsknechte",
          "Gubernial_Offiziant",
          "Gubernial_Offiziant",
          "Gubernial_Offiziant",
          "Gubernial_Offiziant",
          "Gubernial_Offiziant",
          "Gubernial_Offiziant",
          "Gubernial_Offiziant",
          "Freiherr_von_Wenk",
          "Freiherr_von_Wenk",
          "Freiherr_von_Wenk",
          "Gubernial_Offiziant",
          "Gubernial_Offiziant",
          "Nagelschmidt",
          "Nagelschmidt",
          "unknown",
          "Saechsische_Landdrost",
          "Heloise",
          "Kurfuerst_Sachsen",
          "Zigeunerin",
          "Jagdjunker_vom_Stein",
          "Jagdjunker_vom_Stein",
          "Brandenburger_Kammergericht",
          "Zigeunerin",
          "Zigeunerin",
          "Zigeunerin",
          "Zigeunerin",
          "Zigeunerin",
          "Zigeunerin",
          "Zigeunerin",
          "Brandenburger_Kammergericht",
          "Brandenburger_Kammergericht",
          "Kastellan",
          "Zigeunerin",
          "Kastellan",
          "Kurfuerst_Brandenburg",
          "Heinrich_von_Geusau",
          "Heinrich_von_Geusau",
          "Kurfuerst_Brandenburg"
         ],
         "yaxis": "y2"
        },
        {
         "customdata": [
          [
           "<I><br>Nun, was gibt's Neues?<br><br><br><br><br><br></I>"
          ],
          [
           "<I><br>der Paßschein?<br><br><br><br><br><br></I>"
          ],
          [
           "<I><br>daß er, soviel er wisse, keinen habe; daß man ihm<br>aber nur beschreiben möchte, was dies für ein Ding des<br>Herrn sei: so werde er vielleicht zufälligerweise damit versehen sein<br><br><br><br></I>"
          ],
          [
           "<I><br>daß er siebzehn Mal in seinem Leben, ohne einen solchen<br>Schein, über die Grenze gezogen sei ; daß er alle<br>landesherrlichen Verfügungen, die sein Gewerbe angingen, genau kennte; daß dies<br>wohl nur ein Irrtum sein würde, wegen dessen er sich<br>zu bedenken bitte, und \n daß man ihn, da seine<br>Tagereise lang sei, nicht länger unnützerweise hier aufhalten möge<br></I>"
          ],
          [
           "<I><br>daß er den Junker von Tronka selbst darüber sprechen würde<br><br><br><br><br><br></I>"
          ],
          [
           "<I><br>er von filzigen Geldraffern und nützlichen Aderlässen derselben murmelte<br><br><br><br><br><br></I>"
          ],
          [
           "<I><br>welchen Wert er denn, an Geld \n oder an Sachen,<br>zum Pfande, wegen der Rappen, zurücklassen solle<br><br><br><br><br></I>"
          ],
          [
           "<I><br>er könne ja die Rappen selbst zurücklassen<br><br><br><br><br><br></I>"
          ],
          [
           "<I><br>wenn er die Pferde nicht loslassen will, so schmeißt ihn<br>wieder über den Schlagbaum zurück<br><br><br><br><br></I>"
          ],
          [
           "<I><br>Was es gibt? Wer hat dem Junker von Tronka und<br>dessen Leuten die Erlaubnis gegeben, sich meiner bei ihm zurückgelassenen<br>Rappen zur Feldarbeit zu bedienen?<br><br><br><br></I>"
          ],
          [
           "<I><br>ob das wohl menschlich wäre?<br><br><br><br><br><br></I>"
          ],
          [
           "<I><br>um welchen Versehens halber der Knecht denn aus der Burg<br>entfernt worden sei?<br><br><br><br><br></I>"
          ],
          [
           "<I><br>daß er eher den Abdecker rufen, und die Pferde auf<br>den Schindanger schmeißen lassen, als sie so, wie sie wären,<br>in seinen Stall zu Kohlhaasenbrück führen wolle<br><br><br><br></I>"
          ],
          [
           "<I><br>daß sie noch jung wären und nicht gezogen hätten.<br><br><br><br><br><br></I>"
          ],
          [
           "<I><br>ich wolle mir im Dorf einen Stall zu mieten suchen<br><br><br><br><br><br></I>"
          ],
          [
           "<I><br>was auch gibt's?<br><br><br><br><br><br></I>"
          ],
          [
           "<I><br>wo ich hin will? Himmeldonner! Zur Schwemme will ich reiten.<br>Denkt Er, daß ich –?<br><br><br><br><br></I>"
          ],
          [
           "<I><br>Mord! Hagel! Sielzeug und Decken liegen, und ein Bündel Wäsche<br>von mir, im Stall;<br><br><br><br><br></I>"
          ],
          [
           "<I><br>die Raubhunde! Wo führen sie mir die Pferde hin?<br><br><br><br><br><br></I>"
          ]
         ],
         "hovertemplate": "prop:addressee=Burgvogt_von_Tronka<br>start_point=%{x}<br>prop:speaker=%{y}<br>size=%{marker.size}<br>Annotation=%{customdata[0]}<extra></extra>",
         "legendgroup": "Burgvogt_von_Tronka",
         "marker": {
          "color": "#00cc96",
          "size": [
           22,
           14,
           174,
           350,
           58,
           72,
           95,
           42,
           90,
           176,
           28,
           77,
           159,
           49,
           50,
           16,
           81,
           90,
           48
          ],
          "sizemode": "area",
          "sizeref": 16.9275,
          "symbol": "circle"
         },
         "mode": "markers",
         "name": "Burgvogt_von_Tronka",
         "orientation": "h",
         "showlegend": true,
         "type": "scatter",
         "x": [
          5237,
          5501,
          5546,
          5914,
          6660,
          6774,
          10424,
          10565,
          11046,
          14419,
          14613,
          15771,
          17675,
          22293,
          24784,
          27078,
          27261,
          27630,
          27908
         ],
         "xaxis": "x",
         "y": [
          "Michael_Kohlhaas",
          "Michael_Kohlhaas",
          "Michael_Kohlhaas",
          "Michael_Kohlhaas",
          "Michael_Kohlhaas",
          "Michael_Kohlhaas",
          "Michael_Kohlhaas",
          "Verwalter_von_Tronka",
          "Junker_von_Tronka",
          "Michael_Kohlhaas",
          "Michael_Kohlhaas",
          "Michael_Kohlhaas",
          "Michael_Kohlhaas",
          "Herse",
          "Herse",
          "Herse",
          "Herse",
          "Herse",
          "Herse"
         ],
         "yaxis": "y"
        },
        {
         "alignmentgroup": "True",
         "bingroup": "x",
         "hovertemplate": "prop:addressee=Burgvogt_von_Tronka<br>start_point=%{x}<br>count=%{y}<extra></extra>",
         "legendgroup": "Burgvogt_von_Tronka",
         "marker": {
          "color": "#00cc96"
         },
         "name": "Burgvogt_von_Tronka",
         "offsetgroup": "Burgvogt_von_Tronka",
         "opacity": 0.5,
         "showlegend": false,
         "type": "histogram",
         "x": [
          5237,
          5501,
          5546,
          5914,
          6660,
          6774,
          10424,
          10565,
          11046,
          14419,
          14613,
          15771,
          17675,
          22293,
          24784,
          27078,
          27261,
          27630,
          27908
         ],
         "xaxis": "x3",
         "yaxis": "y3"
        },
        {
         "alignmentgroup": "True",
         "bingroup": "y",
         "hovertemplate": "prop:addressee=Burgvogt_von_Tronka<br>prop:speaker=%{y}<br>count=%{x}<extra></extra>",
         "legendgroup": "Burgvogt_von_Tronka",
         "marker": {
          "color": "#00cc96"
         },
         "name": "Burgvogt_von_Tronka",
         "offsetgroup": "Burgvogt_von_Tronka",
         "opacity": 0.5,
         "showlegend": false,
         "type": "histogram",
         "xaxis": "x2",
         "y": [
          "Michael_Kohlhaas",
          "Michael_Kohlhaas",
          "Michael_Kohlhaas",
          "Michael_Kohlhaas",
          "Michael_Kohlhaas",
          "Michael_Kohlhaas",
          "Michael_Kohlhaas",
          "Verwalter_von_Tronka",
          "Junker_von_Tronka",
          "Michael_Kohlhaas",
          "Michael_Kohlhaas",
          "Michael_Kohlhaas",
          "Michael_Kohlhaas",
          "Herse",
          "Herse",
          "Herse",
          "Herse",
          "Herse",
          "Herse"
         ],
         "yaxis": "y2"
        },
        {
         "customdata": [
          [
           "<I><br>kaum hatte dieser sein Gesuch, die Pferde betreffend, angefangen<br><br><br><br><br><br></I>"
          ],
          [
           "<I><br>der Verwalter lag ihm an, ein Paar Rappen zu kaufen,<br>die er, wegen Pferdemangels, in der Wirtschaft gebrauchen zu können<br>glaubte<br><br><br><br></I>"
          ],
          [
           "<I><br>Herr, die Rappen habe ich vor sechs Monaten für 25<br>Goldgülden gekauft ; gebt mir 30, so sollt Ihr sie<br>haben<br><br><br><br></I>"
          ],
          [
           "<I><br>daß die Pferde wohl so viel wert wären<br><br><br><br><br><br></I>"
          ],
          [
           "<I><br> worauf Kohlhaas sich dem Junker empfahl<br><br><br><br><br><br></I>"
          ],
          [
           "<I><br>er würde vielleicht das nächste Mal, wenn er wieder mit<br>seinen Gaulen durchzöge, einen Handel mit ihm machen<br><br><br><br><br></I>"
          ],
          [
           "<I><br>ob es denn mit diesem Umstand, der sein ganzes Gewerbe<br>zerstöre, in der Tat seine Richtigkeit habe<br><br><br><br><br></I>"
          ],
          [
           "<I><br>Kohlhaas versprach, bei seinem Durchzug durch Dresden, den Paß in<br>der Geheimschreiberei zu lösen, und bat, ihn nur diesmal, da<br>er von dieser Forderung durchaus nichts gewußt, ziehen zu lassen.<br><br><br><br></I>"
          ],
          [
           "<I><br>daß es gar nicht seine Absicht sei, die Verordnungen, die<br>wegen Ausführung der Pferde bestehen möchten, zu umgehen<br><br><br><br><br></I>"
          ],
          [
           "<I><br>daß er wenigstens ein Pfand, zur Sicherheit, daß er den<br>Schein lösen würde, zurücklassen müsse<br><br><br><br><br></I>"
          ],
          [
           "<I><br>Allerdings das ist das zweckmäßigste; ist der Paß gelöst, so<br>kann er sie zu jeder Zeit wieder abholen.<br><br><br><br><br></I>"
          ],
          [
           "<I><br>daß er die Rappen ja verkaufen wolle<br><br><br><br><br><br></I>"
          ],
          [
           "<I><br>daß er sich weigere, die Pferde als die seinigen anzuerkennen<br><br><br><br><br><br></I>"
          ],
          [
           "<I><br>das sind nicht meine Pferde, gestrenger Herr! Das sind die<br>Pferde nicht, die dreißig Goldgülden wert waren! Ich will meine<br>wohlgenährten und gesunden Pferde wiederhaben!<br><br><br><br></I>"
          ],
          [
           "<I><br>Er setzte sich nieder und verfaßte einen Rechtsschluß, in welchem<br>er den Junker Wenzel von Tronka, kraft der ihm angeborenen<br>Macht, verdammte, die Rappen, die er ihm abgenommen, und auf<br>\n den Feldern zugrunde gerichtet, binnen drei Tagen nach Sicht,<br>nach Kohlhaasenbrück zu führen, und in Person in seinen Ställen<br>dick zu füttern.<br></I>"
          ],
          [
           "<I><br>daß er sich ankleiden, und ihm, zu seiner eigenen Sicherheit,<br>in die Gemächer der Ritterhaft folgen möchte<br><br><br><br><br></I>"
          ],
          [
           "<I><br>sie nannten ihn einen Elenden und Nichtswürdigen, der Schande und<br>Schmach über die ganze Familie bringe und forderten ihn auf,<br>nur gleich zur Herbeischaffung der Rappen, zu deren Dickfütterung er,<br>zum Hohngelächter der Welt, verdammt werden werde, Anstalt zu machen.<br><br><br></I>"
          ],
          [
           "<I><br>sie nannten ihn einen Elenden und Nichtswürdigen, der Schande und<br>Schmach über die ganze Familie bringe und forderten ihn auf,<br>nur gleich zur Herbeischaffung der Rappen, zu deren Dickfütterung er,<br>zum Hohngelächter der Welt, verdammt werden werde, Anstalt zu machen.<br><br><br></I>"
          ],
          [
           "<I><br>daß er seinen Prozeß nunmehr unfehlbar verlieren würde<br><br><br><br><br><br></I>"
          ],
          [
           "<I><br>daß er seinen Prozeß nunmehr unfehlbar verlieren würde<br><br><br><br><br><br></I>"
          ],
          [
           "<I><br>daß der Knecht sich, am Morgen jener entsetzlichen Nacht, mit<br>den Pferden nach der brandenburgischen Grenze gewandt habe<br><br><br><br><br></I>"
          ],
          [
           "<I><br>daß um die benannte Zeit ein Knecht mit zwei an<br>der Halfter gehenden Pferden dort angekommen, und die Tiere, weil<br>sie sehr elend gewesen wären, und nicht weiter fort gekonnt<br>hätten, im Kuhstall eines Schäfers, der sie wieder hätte aufbringen<br>wollen, stehengelassen hätte<br><br></I>"
          ],
          [
           "<I><br>Der Kämmerer forderte den Junker auf, ein Wort zu sprechen;<br><br><br><br><br><br></I>"
          ],
          [
           "<I><br>denke, du seist ich, und schaff mir den Zettel!<br><br><br><br><br><br></I>"
          ]
         ],
         "hovertemplate": "prop:addressee=Junker_von_Tronka<br>start_point=%{x}<br>prop:speaker=%{y}<br>size=%{marker.size}<br>Annotation=%{customdata[0]}<extra></extra>",
         "legendgroup": "Junker_von_Tronka",
         "marker": {
          "color": "#ab63fa",
          "size": [
           64,
           128,
           106,
           38,
           157,
           108,
           98,
           325,
           114,
           94,
           125,
           36,
           61,
           169,
           329,
           106,
           341,
           341,
           54,
           54,
           120,
           270,
           280,
           47
          ],
          "sizemode": "area",
          "sizeref": 16.9275,
          "symbol": "circle"
         },
         "mode": "markers",
         "name": "Junker_von_Tronka",
         "orientation": "h",
         "showlegend": true,
         "type": "scatter",
         "x": [
          7242,
          8096,
          8667,
          8846,
          9033,
          9057,
          9418,
          9673,
          9699,
          10259,
          10609,
          10862,
          17032,
          17111,
          54558,
          73144,
          112617,
          112617,
          112740,
          112740,
          114529,
          115006,
          120645,
          201709
         ],
         "xaxis": "x",
         "y": [
          "Michael_Kohlhaas",
          "Verwalter_von_Tronka",
          "Michael_Kohlhaas",
          "Zwei_Ritter_von_Tronka",
          "Michael_Kohlhaas",
          "Michael_Kohlhaas",
          "Michael_Kohlhaas",
          "Michael_Kohlhaas",
          "Michael_Kohlhaas",
          "Burgvogt_von_Tronka",
          "Burgvogt_von_Tronka",
          "Michael_Kohlhaas",
          "Burgvogt_von_Tronka",
          "Michael_Kohlhaas",
          "Michael_Kohlhaas",
          "Otto_von_Gorgas",
          "Hinz_von_Tronka",
          "Hinz_von_Tronka",
          "Hinz_von_Tronka",
          "Hinz_von_Tronka",
          "Haushaelterin_des_Junkers",
          "Maenner_aus_Dresden",
          "Kunz_von_Tronka",
          "Kurfuerst_Sachsen"
         ],
         "yaxis": "y"
        },
        {
         "alignmentgroup": "True",
         "bingroup": "x",
         "hovertemplate": "prop:addressee=Junker_von_Tronka<br>start_point=%{x}<br>count=%{y}<extra></extra>",
         "legendgroup": "Junker_von_Tronka",
         "marker": {
          "color": "#ab63fa"
         },
         "name": "Junker_von_Tronka",
         "offsetgroup": "Junker_von_Tronka",
         "opacity": 0.5,
         "showlegend": false,
         "type": "histogram",
         "x": [
          7242,
          8096,
          8667,
          8846,
          9033,
          9057,
          9418,
          9673,
          9699,
          10259,
          10609,
          10862,
          17032,
          17111,
          54558,
          73144,
          112617,
          112617,
          112740,
          112740,
          114529,
          115006,
          120645,
          201709
         ],
         "xaxis": "x3",
         "yaxis": "y3"
        },
        {
         "alignmentgroup": "True",
         "bingroup": "y",
         "hovertemplate": "prop:addressee=Junker_von_Tronka<br>prop:speaker=%{y}<br>count=%{x}<extra></extra>",
         "legendgroup": "Junker_von_Tronka",
         "marker": {
          "color": "#ab63fa"
         },
         "name": "Junker_von_Tronka",
         "offsetgroup": "Junker_von_Tronka",
         "opacity": 0.5,
         "showlegend": false,
         "type": "histogram",
         "xaxis": "x2",
         "y": [
          "Michael_Kohlhaas",
          "Verwalter_von_Tronka",
          "Michael_Kohlhaas",
          "Zwei_Ritter_von_Tronka",
          "Michael_Kohlhaas",
          "Michael_Kohlhaas",
          "Michael_Kohlhaas",
          "Michael_Kohlhaas",
          "Michael_Kohlhaas",
          "Burgvogt_von_Tronka",
          "Burgvogt_von_Tronka",
          "Michael_Kohlhaas",
          "Burgvogt_von_Tronka",
          "Michael_Kohlhaas",
          "Michael_Kohlhaas",
          "Otto_von_Gorgas",
          "Hinz_von_Tronka",
          "Hinz_von_Tronka",
          "Hinz_von_Tronka",
          "Hinz_von_Tronka",
          "Haushaelterin_des_Junkers",
          "Maenner_aus_Dresden",
          "Kunz_von_Tronka",
          "Kurfuerst_Sachsen"
         ],
         "yaxis": "y2"
        },
        {
         "customdata": [
          [
           "<I><br>Kohlhaas forderte sie auf, zu kaufen.<br><br><br><br><br><br></I>"
          ],
          [
           "<I><br>daß die Pferde nicht besser wären, als die Ritter, die<br>sie reiten sollten<br><br><br><br><br></I>"
          ],
          [
           "<I><br>doch als der Roßkamm sich erklärt hatte<br><br><br><br><br><br></I>"
          ]
         ],
         "hovertemplate": "prop:addressee=Tross_von_Tronka<br>start_point=%{x}<br>prop:speaker=%{y}<br>size=%{marker.size}<br>Annotation=%{customdata[0]}<extra></extra>",
         "legendgroup": "Tross_von_Tronka",
         "marker": {
          "color": "#FFA15A",
          "size": [
           134,
           73,
           39
          ],
          "sizemode": "area",
          "sizeref": 16.9275,
          "symbol": "circle"
         },
         "mode": "markers",
         "name": "Tross_von_Tronka",
         "orientation": "h",
         "showlegend": true,
         "type": "scatter",
         "x": [
          7873,
          7900,
          8226
         ],
         "xaxis": "x",
         "y": [
          "Michael_Kohlhaas",
          "Michael_Kohlhaas",
          "Michael_Kohlhaas"
         ],
         "yaxis": "y"
        },
        {
         "alignmentgroup": "True",
         "bingroup": "x",
         "hovertemplate": "prop:addressee=Tross_von_Tronka<br>start_point=%{x}<br>count=%{y}<extra></extra>",
         "legendgroup": "Tross_von_Tronka",
         "marker": {
          "color": "#FFA15A"
         },
         "name": "Tross_von_Tronka",
         "offsetgroup": "Tross_von_Tronka",
         "opacity": 0.5,
         "showlegend": false,
         "type": "histogram",
         "x": [
          7873,
          7900,
          8226
         ],
         "xaxis": "x3",
         "yaxis": "y3"
        },
        {
         "alignmentgroup": "True",
         "bingroup": "y",
         "hovertemplate": "prop:addressee=Tross_von_Tronka<br>prop:speaker=%{y}<br>count=%{x}<extra></extra>",
         "legendgroup": "Tross_von_Tronka",
         "marker": {
          "color": "#FFA15A"
         },
         "name": "Tross_von_Tronka",
         "offsetgroup": "Tross_von_Tronka",
         "opacity": 0.5,
         "showlegend": false,
         "type": "histogram",
         "xaxis": "x2",
         "y": [
          "Michael_Kohlhaas",
          "Michael_Kohlhaas",
          "Michael_Kohlhaas"
         ],
         "yaxis": "y2"
        },
        {
         "customdata": [
          [
           "<I><br>Er ermahnte ihn, die Pferde, bis zu seiner Zurückkunft, wohl<br>in acht zu nehmen<br><br><br><br><br></I>"
          ],
          [
           "<I><br>Was hast du in der Tronkenburg gemacht? Ich bin nicht<br>eben wohl mit dir zufrieden.<br><br><br><br><br></I>"
          ],
          [
           "<I><br>wodurch aber hast du dir die Verjagung aus der Tronkenburg<br>zugezogen?<br><br><br><br><br></I>"
          ],
          [
           "<I><br>daß er hierin nicht ganz die Wahrheit gesagt, indem die<br>Pferde schon zu Anfange des verflossenen Frühjahrs ein wenig im<br>Geschirr gewesen wären<br><br><br><br></I>"
          ],
          [
           "<I><br>Du hättest dich auf der Burg wo du doch eine<br>Art von Gast warest, schon ein oder etliche Mal, wenn<br>gerade, wegen schleuniger Einführung der Ernte Not war, gefällig zeigen<br>können.<br><br><br></I>"
          ],
          [
           "<I><br>davon hat man mir nichts gesagt, Herse!<br><br><br><br><br><br></I>"
          ],
          [
           "<I><br>Um dieser Ungefälligkeit aber bist du von der Tronkenburg nicht<br>weggejagt worden.<br><br><br><br><br></I>"
          ],
          [
           "<I><br>Du meinst es war ein so schlechtes Behältnis für Pferde,<br>daß es einem Schweinekoben ähnlicher war, als einem Stall.<br><br><br><br><br></I>"
          ],
          [
           "<I><br>Vielleicht war sonst kein Unterkommen für die Rappen aufzufinden, versetzte<br>Kohlhaas; die Pferde der Ritter gingen, auf eine gewisse Art,<br>vor<br><br><br><br></I>"
          ],
          [
           "<I><br>daß er die Pferde unter seinen Augen behalten müsse, und<br>daß ich mich nicht unterstehen solle, sie vom Hofe wegzuführen<br><br><br><br><br></I>"
          ],
          [
           "<I><br>Hm! Was gabst du darauf an<br><br><br><br><br><br></I>"
          ],
          [
           "<I><br>die beiden Gäste würden bloß übernachten, und am andern Morgen<br>weiterreiten<br><br><br><br><br></I>"
          ],
          [
           "<I><br>Am Ende war's nicht so schlimm, Herse, im Schweinekoben als<br>es dir, da du zuerst die Nase hineinstecktest, vorkam.<br><br><br><br><br></I>"
          ],
          [
           "<I><br>Nun denn warum also, in aller Welt, jagte man dich<br>fort?<br><br><br><br><br></I>"
          ],
          [
           "<I><br>Aber die Veranlassung! Sie werden doch irgendeine Veranlassung gehabt haben!<br><br><br><br><br><br></I>"
          ],
          [
           "<I><br>was es gibt?<br><br><br><br><br><br></I>"
          ],
          [
           "<I><br>Wo will Er hin mit den Pferden?<br><br><br><br><br><br></I>"
          ],
          [
           "<I><br>Zur Schwemme? Ich will dich, Gauner, auf der Heerstraße, nach<br>Kohlhaasenbrück schwimmen lehren!<br><br><br><br><br></I>"
          ],
          [
           "<I><br>heraus aus dem Schloßhof!<br><br><br><br><br><br></I>"
          ],
          [
           "<I><br>hast du auch nicht entweichen wollen, Herse?<br><br><br><br><br><br></I>"
          ],
          [
           "<I><br>gesteh mir's, sagte er; es gefiel dir im Schweinekoben nicht;<br>du dachtest, im Stall zu Kohlhaasenbrück ist's doch besser.<br><br><br><br><br></I>"
          ],
          [
           "<I><br>Nun, nun! es war eben nicht böse gemeint! Was du<br>gesagt hast, schau, Wort für Wort, ich glaub es dir;<br>und das Abendmahl, wenn es zur Sprache kommt, will ich<br>selbst nun darauf nehmen. Es tut mir leid, daß es<br>dir in meinen Diensten nicht besser ergangen ist; geh, Herse,<br>geh zu Bett, laß dir eine Flasche Wein geben, und<br>[...]</I>"
          ],
          [
           "<I><br>wie hoch er die Kurkosten anschlage<br><br><br><br><br><br></I>"
          ],
          [
           "<I><br>was er dem Jungherrn, die Dickfütterung derselben anbetreffend, aufgegeben<br><br><br><br><br><br></I>"
          ],
          [
           "<I><br>ob er mit ihm nach der Tronkenburg reiten und den<br>Jungherrn holen<br><br><br><br><br></I>"
          ],
          [
           "<I><br>ob er über den Hergeholten, wenn er bei Erfüllung des<br>Rechtsschlusses, in den Ställen von Kohlhaasenbrück, faul sei, die Peitsche<br>führen wolle<br><br><br><br></I>"
          ]
         ],
         "hovertemplate": "prop:addressee=Herse<br>start_point=%{x}<br>prop:speaker=%{y}<br>size=%{marker.size}<br>Annotation=%{customdata[0]}<extra></extra>",
         "legendgroup": "Herse",
         "marker": {
          "color": "#19d3f3",
          "size": [
           135,
           138,
           69,
           142,
           193,
           39,
           98,
           141,
           141,
           119,
           42,
           75,
           131,
           74,
           91,
           12,
           31,
           117,
           25,
           44,
           121,
           389,
           35,
           74,
           65,
           142
          ],
          "sizemode": "area",
          "sizeref": 16.9275,
          "symbol": "circle"
         },
         "mode": "markers",
         "name": "Herse",
         "orientation": "h",
         "showlegend": true,
         "type": "scatter",
         "x": [
          11391,
          21415,
          22005,
          22412,
          22556,
          23050,
          23543,
          24096,
          24416,
          24867,
          24990,
          25063,
          25347,
          25939,
          26394,
          27095,
          27180,
          27343,
          27974,
          28528,
          28626,
          29105,
          29663,
          55149,
          55247,
          55320
         ],
         "xaxis": "x",
         "y": [
          "Michael_Kohlhaas",
          "Michael_Kohlhaas",
          "Michael_Kohlhaas",
          "Michael_Kohlhaas",
          "Michael_Kohlhaas",
          "Michael_Kohlhaas",
          "Michael_Kohlhaas",
          "Michael_Kohlhaas",
          "Michael_Kohlhaas",
          "Burgvogt_von_Tronka",
          "Michael_Kohlhaas",
          "Burgvogt_von_Tronka",
          "Michael_Kohlhaas",
          "Michael_Kohlhaas",
          "Michael_Kohlhaas",
          "Burgvogt_von_Tronka",
          "Burgvogt_von_Tronka",
          "Burgvogt_von_Tronka",
          "Burgvogt_von_Tronka",
          "Michael_Kohlhaas",
          "Michael_Kohlhaas",
          "Michael_Kohlhaas",
          "Michael_Kohlhaas",
          "Michael_Kohlhaas",
          "Michael_Kohlhaas",
          "Michael_Kohlhaas"
         ],
         "yaxis": "y"
        },
        {
         "alignmentgroup": "True",
         "bingroup": "x",
         "hovertemplate": "prop:addressee=Herse<br>start_point=%{x}<br>count=%{y}<extra></extra>",
         "legendgroup": "Herse",
         "marker": {
          "color": "#19d3f3"
         },
         "name": "Herse",
         "offsetgroup": "Herse",
         "opacity": 0.5,
         "showlegend": false,
         "type": "histogram",
         "x": [
          11391,
          21415,
          22005,
          22412,
          22556,
          23050,
          23543,
          24096,
          24416,
          24867,
          24990,
          25063,
          25347,
          25939,
          26394,
          27095,
          27180,
          27343,
          27974,
          28528,
          28626,
          29105,
          29663,
          55149,
          55247,
          55320
         ],
         "xaxis": "x3",
         "yaxis": "y3"
        },
        {
         "alignmentgroup": "True",
         "bingroup": "y",
         "hovertemplate": "prop:addressee=Herse<br>prop:speaker=%{y}<br>count=%{x}<extra></extra>",
         "legendgroup": "Herse",
         "marker": {
          "color": "#19d3f3"
         },
         "name": "Herse",
         "offsetgroup": "Herse",
         "opacity": 0.5,
         "showlegend": false,
         "type": "histogram",
         "xaxis": "x2",
         "y": [
          "Michael_Kohlhaas",
          "Michael_Kohlhaas",
          "Michael_Kohlhaas",
          "Michael_Kohlhaas",
          "Michael_Kohlhaas",
          "Michael_Kohlhaas",
          "Michael_Kohlhaas",
          "Michael_Kohlhaas",
          "Michael_Kohlhaas",
          "Burgvogt_von_Tronka",
          "Michael_Kohlhaas",
          "Burgvogt_von_Tronka",
          "Michael_Kohlhaas",
          "Michael_Kohlhaas",
          "Michael_Kohlhaas",
          "Burgvogt_von_Tronka",
          "Burgvogt_von_Tronka",
          "Burgvogt_von_Tronka",
          "Burgvogt_von_Tronka",
          "Michael_Kohlhaas",
          "Michael_Kohlhaas",
          "Michael_Kohlhaas",
          "Michael_Kohlhaas",
          "Michael_Kohlhaas",
          "Michael_Kohlhaas",
          "Michael_Kohlhaas"
         ],
         "yaxis": "y2"
        },
        {
         "customdata": [
          [
           "<I><br>was denn derselbe getan? und wer währenddessen die Pferde besorgt<br>hätte<br><br><br><br><br></I>"
          ],
          [
           "<I><br>was seinen Gaulen widerfahren wäre<br><br><br><br><br><br></I>"
          ]
         ],
         "hovertemplate": "prop:addressee=Stalljunge<br>start_point=%{x}<br>prop:speaker=%{y}<br>size=%{marker.size}<br>Annotation=%{customdata[0]}<extra></extra>",
         "legendgroup": "Stalljunge",
         "marker": {
          "color": "#FF6692",
          "size": [
           71,
           34
          ],
          "sizemode": "area",
          "sizeref": 16.9275,
          "symbol": "circle"
         },
         "mode": "markers",
         "name": "Stalljunge",
         "orientation": "h",
         "showlegend": true,
         "type": "scatter",
         "x": [
          13133,
          13782
         ],
         "xaxis": "x",
         "y": [
          "Michael_Kohlhaas",
          "Michael_Kohlhaas"
         ],
         "yaxis": "y"
        },
        {
         "alignmentgroup": "True",
         "bingroup": "x",
         "hovertemplate": "prop:addressee=Stalljunge<br>start_point=%{x}<br>count=%{y}<extra></extra>",
         "legendgroup": "Stalljunge",
         "marker": {
          "color": "#FF6692"
         },
         "name": "Stalljunge",
         "offsetgroup": "Stalljunge",
         "opacity": 0.5,
         "showlegend": false,
         "type": "histogram",
         "x": [
          13133,
          13782
         ],
         "xaxis": "x3",
         "yaxis": "y3"
        },
        {
         "alignmentgroup": "True",
         "bingroup": "y",
         "hovertemplate": "prop:addressee=Stalljunge<br>prop:speaker=%{y}<br>count=%{x}<extra></extra>",
         "legendgroup": "Stalljunge",
         "marker": {
          "color": "#FF6692"
         },
         "name": "Stalljunge",
         "offsetgroup": "Stalljunge",
         "opacity": 0.5,
         "showlegend": false,
         "type": "histogram",
         "xaxis": "x2",
         "y": [
          "Michael_Kohlhaas",
          "Michael_Kohlhaas"
         ],
         "yaxis": "y2"
        },
        {
         "customdata": [
          [
           "<I><br>Hans! Kommt!<br><br><br><br><br><br></I>"
          ],
          [
           "<I><br>schafft Wein!<br><br><br><br><br><br></I>"
          ]
         ],
         "hovertemplate": "prop:addressee=Hans<br>start_point=%{x}<br>prop:speaker=%{y}<br>size=%{marker.size}<br>Annotation=%{customdata[0]}<extra></extra>",
         "legendgroup": "Hans",
         "marker": {
          "color": "#B6E880",
          "size": [
           12,
           13
          ],
          "sizemode": "area",
          "sizeref": 16.9275,
          "symbol": "circle"
         },
         "mode": "markers",
         "name": "Hans",
         "orientation": "h",
         "showlegend": true,
         "type": "scatter",
         "x": [
          17483,
          17571
         ],
         "xaxis": "x",
         "y": [
          "Junker_von_Tronka",
          "Burgvogt_von_Tronka"
         ],
         "yaxis": "y"
        },
        {
         "alignmentgroup": "True",
         "bingroup": "x",
         "hovertemplate": "prop:addressee=Hans<br>start_point=%{x}<br>count=%{y}<extra></extra>",
         "legendgroup": "Hans",
         "marker": {
          "color": "#B6E880"
         },
         "name": "Hans",
         "offsetgroup": "Hans",
         "opacity": 0.5,
         "showlegend": false,
         "type": "histogram",
         "x": [
          17483,
          17571
         ],
         "xaxis": "x3",
         "yaxis": "y3"
        },
        {
         "alignmentgroup": "True",
         "bingroup": "y",
         "hovertemplate": "prop:addressee=Hans<br>prop:speaker=%{y}<br>count=%{x}<extra></extra>",
         "legendgroup": "Hans",
         "marker": {
          "color": "#B6E880"
         },
         "name": "Hans",
         "offsetgroup": "Hans",
         "opacity": 0.5,
         "showlegend": false,
         "type": "histogram",
         "xaxis": "x2",
         "y": [
          "Junker_von_Tronka",
          "Burgvogt_von_Tronka"
         ],
         "yaxis": "y2"
        },
        {
         "customdata": [
          [
           "<I><br>fragte er gleich nach Herse, dem Großknecht<br><br><br><br><br><br></I>"
          ],
          [
           "<I><br>und ob man nichts von ihm gehört habe?<br><br><br><br><br><br></I>"
          ],
          [
           "<I><br>Wie er von dir mit Pferden, denen man den Durchgang<br>nicht verstattet, auf der Tronkenburg zurückgelassen worden sei, wie man<br>ihn, durch die schändlichsten Mißhandlungen, gezwungen habe, die Burg zu<br>verlassen, und wie es ihm unmöglich gewesen wäre, die Pferde<br>mitzunehmen.<br><br></I>"
          ],
          [
           "<I><br>So? Ist er denn schon wiederhergestellt?<br><br><br><br><br><br></I>"
          ],
          [
           "<I><br>Doch er beschwört mich, niemandem zuzumuten, sich in diesem Raubneste<br>zu zeigen, und die Tiere aufzugeben, wenn ich keinen Menschen<br>dafür aufopfern wolle.<br><br><br><br></I>"
          ],
          [
           "<I><br>Liegt er denn noch im Bette?<br><br><br><br><br><br></I>"
          ],
          [
           "<I><br>Das muß ich doch erst untersuchen Ruf ihn mir, Lisbeth,<br>wenn er auf ist, doch her!<br><br><br><br><br></I>"
          ],
          [
           "<I><br>Hierauf erzählte er Lisbeth, seiner Frau, den ganzen Verlauf und<br>inneren Zusammenhang der Geschichte<br><br><br><br><br></I>"
          ],
          [
           "<I><br>wie er entschlossen sei, die öffentliche Gerechtigkeit für sich aufzufordern<br><br><br><br><br><br></I>"
          ],
          [
           "<I><br>Kohlhaas nannte sie sein wackeres Weib<br><br><br><br><br><br></I>"
          ],
          [
           "<I><br>liebstes Weib, nichts, das dich noch, so wie die Sachen<br>stehn, beunruhigen dürfte. Ich habe eine Resolution erhalten, in welcher<br>man mir sagt, daß meine Klage gegen den Junker Wenzel<br>von Tronka eine nichtsnutzige Stänkerei sei. Und weil hier ein<br>Mißverständnis obwalten muß: so habe ich mich entschlossen, meine Klage<br>noch einmal, persönlich bei dem Landesherrn selbst, einzureichen.<br></I>"
          ],
          [
           "<I><br>weil ich in einem Lande, liebste Lisbeth, in welchem man<br>mich, in meinen Rechten, nicht schützen will, nicht bleiben mag.<br>Lieber ein Hund sein, wenn ich von Füßen getreten werden<br>soll, als ein Mensch! Ich bin gewiß, daß meine Frau<br>hierin so denkt, als ich.<br><br></I>"
          ],
          [
           "<I><br>Wohlan wenn meine Furcht hierin ungegründet ist, so ist auch<br>mein Haus noch nicht verkauft. Der Herr selbst, weiß ich,<br>ist gerecht; und wenn es mir nur gelingt, durch die,<br>die ihn umringen, bis an seine Person zu kommen, so<br>zweifle ich nicht, ich verschaffe mir Recht, und kehre fröhlich,<br>noch ehe die Woche verstreicht, zu dir und meinen alten<br>[...]</I>"
          ],
          [
           "<I><br>Doch ratsam ist es daß ich mich auf jeden Fall<br>gefaßt mache; und daher wünschte ich, daß du dich, auf<br>einige Zeit, wenn es sein kann, entferntest, und mit den<br>Kindern zu deiner Muhme nach Schwerin gingst, die du überdies<br>längst hast besuchen wollen.<br><br></I>"
          ],
          [
           "<I><br>Allerdings und das, wenn es sein kann, gleich, damit ich<br>in den Schritten, die ich für meine Sache tun will,<br>durch keine Rücksichten gestört werde.<br><br><br><br></I>"
          ],
          [
           "<I><br>liebste Lisbeth, was machst du? Gott hat mich mit Weib<br>und Kindern und Gütern gesegnet; soll ich heute zum erstenmal<br>wünschen, daß es anders wäre?<br><br><br><br></I>"
          ],
          [
           "<I><br>Sag mir an was soll ich tun? Soll ich meine<br>Sache aufgeben? Soll ich nach der Tronkenburg gehen, und den<br>Ritter bitten, daß er mir die Pferde wiedergebe, mich aufschwingen,<br>und sie dir herreiten?<br><br><br></I>"
          ],
          [
           "<I><br>Nun also! Wenn du fühlst, daß mir, falls ich mein<br>Gewerbe forttreiben soll, Recht werden muß: so \n gönne mir<br>auch die Freiheit, die mir nötig ist, es mir zu<br>verschaffen!<br><br><br></I>"
          ],
          [
           "<I><br>liebste Frau, das ist nicht wohl möglich! Der Landesherr ist<br>vielfach umringt, mancherlei Verdrießlichkeiten ist der ausgesetzt, der ihm naht.<br><br><br><br><br></I>"
          ],
          [
           "<I><br>wie sie es denn anzustellen denke<br><br><br><br><br><br></I>"
          ],
          [
           "<I><br>daß er ihren Vorschlag annähme, belehrte sie, daß es weiter<br>nichts bedürfe, als einer Wohnung bei der Frau desselben, um<br>den Landesherrn, im Schlosse selbst, anzutreten<br><br><br><br></I>"
          ],
          [
           "<I><br>Denn da ein Geistlicher lutherischer Religion neben\n ihrem Bette stand,<br>und ihr mit lauter und empfindlich-feierlicher Stimme, ein Kapitel aus<br>der Bibel vorlas:<br><br><br><br></I>"
          ]
         ],
         "hovertemplate": "prop:addressee=Lisbeth_Kohlhaas<br>start_point=%{x}<br>prop:speaker=%{y}<br>size=%{marker.size}<br>Annotation=%{customdata[0]}<extra></extra>",
         "legendgroup": "Lisbeth_Kohlhaas",
         "marker": {
          "color": "#FF97FF",
          "size": [
           43,
           38,
           271,
           85,
           154,
           28,
           103,
           100,
           76,
           38,
           383,
           256,
           495,
           264,
           169,
           146,
           254,
           185,
           142,
           33,
           168,
           262
          ],
          "sizemode": "area",
          "sizeref": 16.9275,
          "symbol": "circle"
         },
         "mode": "markers",
         "name": "Lisbeth_Kohlhaas",
         "orientation": "h",
         "showlegend": true,
         "type": "scatter",
         "x": [
          19369,
          19414,
          19809,
          20081,
          20652,
          20809,
          21168,
          29770,
          29886,
          30343,
          45202,
          45752,
          46286,
          46784,
          47216,
          47617,
          47877,
          48293,
          49064,
          49554,
          50091,
          52457
         ],
         "xaxis": "x",
         "y": [
          "Michael_Kohlhaas",
          "Michael_Kohlhaas",
          "Herse",
          "Michael_Kohlhaas",
          "Herse",
          "Michael_Kohlhaas",
          "Michael_Kohlhaas",
          "Michael_Kohlhaas",
          "Michael_Kohlhaas",
          "Michael_Kohlhaas",
          "Michael_Kohlhaas",
          "Michael_Kohlhaas",
          "Michael_Kohlhaas",
          "Michael_Kohlhaas",
          "Michael_Kohlhaas",
          "Michael_Kohlhaas",
          "Michael_Kohlhaas",
          "Michael_Kohlhaas",
          "Michael_Kohlhaas",
          "Michael_Kohlhaas",
          "Michael_Kohlhaas",
          "Pastor"
         ],
         "yaxis": "y"
        },
        {
         "alignmentgroup": "True",
         "bingroup": "x",
         "hovertemplate": "prop:addressee=Lisbeth_Kohlhaas<br>start_point=%{x}<br>count=%{y}<extra></extra>",
         "legendgroup": "Lisbeth_Kohlhaas",
         "marker": {
          "color": "#FF97FF"
         },
         "name": "Lisbeth_Kohlhaas",
         "offsetgroup": "Lisbeth_Kohlhaas",
         "opacity": 0.5,
         "showlegend": false,
         "type": "histogram",
         "x": [
          19369,
          19414,
          19809,
          20081,
          20652,
          20809,
          21168,
          29770,
          29886,
          30343,
          45202,
          45752,
          46286,
          46784,
          47216,
          47617,
          47877,
          48293,
          49064,
          49554,
          50091,
          52457
         ],
         "xaxis": "x3",
         "yaxis": "y3"
        },
        {
         "alignmentgroup": "True",
         "bingroup": "y",
         "hovertemplate": "prop:addressee=Lisbeth_Kohlhaas<br>prop:speaker=%{y}<br>count=%{x}<extra></extra>",
         "legendgroup": "Lisbeth_Kohlhaas",
         "marker": {
          "color": "#FF97FF"
         },
         "name": "Lisbeth_Kohlhaas",
         "offsetgroup": "Lisbeth_Kohlhaas",
         "opacity": 0.5,
         "showlegend": false,
         "type": "histogram",
         "xaxis": "x2",
         "y": [
          "Michael_Kohlhaas",
          "Michael_Kohlhaas",
          "Herse",
          "Michael_Kohlhaas",
          "Herse",
          "Michael_Kohlhaas",
          "Michael_Kohlhaas",
          "Michael_Kohlhaas",
          "Michael_Kohlhaas",
          "Michael_Kohlhaas",
          "Michael_Kohlhaas",
          "Michael_Kohlhaas",
          "Michael_Kohlhaas",
          "Michael_Kohlhaas",
          "Michael_Kohlhaas",
          "Michael_Kohlhaas",
          "Michael_Kohlhaas",
          "Michael_Kohlhaas",
          "Michael_Kohlhaas",
          "Michael_Kohlhaas",
          "Michael_Kohlhaas",
          "Pastor"
         ],
         "yaxis": "y2"
        },
        {
         "customdata": [
          [
           "<I><br>halt, den Spitzbuben!<br><br><br><br><br><br></I>"
          ],
          [
           "<I><br>halt, den Galgenstrick!<br><br><br><br><br><br></I>"
          ]
         ],
         "hovertemplate": "prop:addressee=Torwaechter<br>start_point=%{x}<br>prop:speaker=%{y}<br>size=%{marker.size}<br>Annotation=%{customdata[0]}<extra></extra>",
         "legendgroup": "Torwaechter",
         "marker": {
          "color": "#FECB52",
          "size": [
           21,
           23
          ],
          "sizemode": "area",
          "sizeref": 16.9275,
          "symbol": "circle"
         },
         "mode": "markers",
         "name": "Torwaechter",
         "orientation": "h",
         "showlegend": true,
         "type": "scatter",
         "x": [
          26892,
          26921
         ],
         "xaxis": "x",
         "y": [
          "Burgvogt_von_Tronka",
          "Burgvogt_von_Tronka"
         ],
         "yaxis": "y"
        },
        {
         "alignmentgroup": "True",
         "bingroup": "x",
         "hovertemplate": "prop:addressee=Torwaechter<br>start_point=%{x}<br>count=%{y}<extra></extra>",
         "legendgroup": "Torwaechter",
         "marker": {
          "color": "#FECB52"
         },
         "name": "Torwaechter",
         "offsetgroup": "Torwaechter",
         "opacity": 0.5,
         "showlegend": false,
         "type": "histogram",
         "x": [
          26892,
          26921
         ],
         "xaxis": "x3",
         "yaxis": "y3"
        },
        {
         "alignmentgroup": "True",
         "bingroup": "y",
         "hovertemplate": "prop:addressee=Torwaechter<br>prop:speaker=%{y}<br>count=%{x}<extra></extra>",
         "legendgroup": "Torwaechter",
         "marker": {
          "color": "#FECB52"
         },
         "name": "Torwaechter",
         "offsetgroup": "Torwaechter",
         "opacity": 0.5,
         "showlegend": false,
         "type": "histogram",
         "xaxis": "x2",
         "y": [
          "Burgvogt_von_Tronka",
          "Burgvogt_von_Tronka"
         ],
         "yaxis": "y2"
        },
        {
         "customdata": [
          [
           "<I><br>Hier verfaßte er, mit Hülfe eines Rechtsgelehrten, den er kannte,<br>eine Beschwerde, in welcher er, nach einer umständlichen Schilderung des<br>Frevels, den der Junker Wenzel von Tronka, an ihm sowohl,<br>als an seinem Knecht Herse, verübt hatte , auf gesetzmäßige<br>Bestrafung desselben, Wiederherstellung der Pferde in den vorigen Stand, und<br>auf Ersatz des Schadens antrug, den er sowohl, als sein<br>[...]</I>"
          ]
         ],
         "hovertemplate": "prop:addressee=Dresdener_Gericht<br>start_point=%{x}<br>prop:speaker=%{y}<br>size=%{marker.size}<br>Annotation=%{customdata[0]}<extra></extra>",
         "legendgroup": "Dresdener_Gericht",
         "marker": {
          "color": "#636efa",
          "size": [
           421
          ],
          "sizemode": "area",
          "sizeref": 16.9275,
          "symbol": "circle"
         },
         "mode": "markers",
         "name": "Dresdener_Gericht",
         "orientation": "h",
         "showlegend": true,
         "type": "scatter",
         "x": [
          30571
         ],
         "xaxis": "x",
         "y": [
          "Michael_Kohlhaas"
         ],
         "yaxis": "y"
        },
        {
         "alignmentgroup": "True",
         "bingroup": "x",
         "hovertemplate": "prop:addressee=Dresdener_Gericht<br>start_point=%{x}<br>count=%{y}<extra></extra>",
         "legendgroup": "Dresdener_Gericht",
         "marker": {
          "color": "#636efa"
         },
         "name": "Dresdener_Gericht",
         "offsetgroup": "Dresdener_Gericht",
         "opacity": 0.5,
         "showlegend": false,
         "type": "histogram",
         "x": [
          30571
         ],
         "xaxis": "x3",
         "yaxis": "y3"
        },
        {
         "alignmentgroup": "True",
         "bingroup": "y",
         "hovertemplate": "prop:addressee=Dresdener_Gericht<br>prop:speaker=%{y}<br>count=%{x}<extra></extra>",
         "legendgroup": "Dresdener_Gericht",
         "marker": {
          "color": "#636efa"
         },
         "name": "Dresdener_Gericht",
         "offsetgroup": "Dresdener_Gericht",
         "opacity": 0.5,
         "showlegend": false,
         "type": "histogram",
         "xaxis": "x2",
         "y": [
          "Michael_Kohlhaas"
         ],
         "yaxis": "y2"
        },
        {
         "customdata": [
          [
           "<I><br>was eine so übergroße Verzögerung verursache<br><br><br><br><br><br></I>"
          ],
          [
           "<I><br>worin dies seinen Grund habe<br><br><br><br><br><br></I>"
          ],
          [
           "<I><br>wie es zuginge, daß die Gubernial-Resolution von einem Freiherrn Siegfried<br>von Wenk, und nicht von dem Prinzen Christiern von Meißen,<br>an den er sich gewendet, unterschrieben sei<br><br><br><br></I>"
          ]
         ],
         "hovertemplate": "prop:addressee=Rechtsgehuelfe<br>start_point=%{x}<br>prop:speaker=%{y}<br>size=%{marker.size}<br>Annotation=%{customdata[0]}<extra></extra>",
         "legendgroup": "Rechtsgehuelfe",
         "marker": {
          "color": "#EF553B",
          "size": [
           44,
           28,
           177
          ],
          "sizemode": "area",
          "sizeref": 16.9275,
          "symbol": "circle"
         },
         "mode": "markers",
         "name": "Rechtsgehuelfe",
         "orientation": "h",
         "showlegend": true,
         "type": "scatter",
         "x": [
          32392,
          32610,
          145522
         ],
         "xaxis": "x",
         "y": [
          "Michael_Kohlhaas",
          "Michael_Kohlhaas",
          "Michael_Kohlhaas"
         ],
         "yaxis": "y"
        },
        {
         "alignmentgroup": "True",
         "bingroup": "x",
         "hovertemplate": "prop:addressee=Rechtsgehuelfe<br>start_point=%{x}<br>count=%{y}<extra></extra>",
         "legendgroup": "Rechtsgehuelfe",
         "marker": {
          "color": "#EF553B"
         },
         "name": "Rechtsgehuelfe",
         "offsetgroup": "Rechtsgehuelfe",
         "opacity": 0.5,
         "showlegend": false,
         "type": "histogram",
         "x": [
          32392,
          32610,
          145522
         ],
         "xaxis": "x3",
         "yaxis": "y3"
        },
        {
         "alignmentgroup": "True",
         "bingroup": "y",
         "hovertemplate": "prop:addressee=Rechtsgehuelfe<br>prop:speaker=%{y}<br>count=%{x}<extra></extra>",
         "legendgroup": "Rechtsgehuelfe",
         "marker": {
          "color": "#EF553B"
         },
         "name": "Rechtsgehuelfe",
         "offsetgroup": "Rechtsgehuelfe",
         "opacity": 0.5,
         "showlegend": false,
         "type": "histogram",
         "xaxis": "x2",
         "y": [
          "Michael_Kohlhaas",
          "Michael_Kohlhaas",
          "Michael_Kohlhaas"
         ],
         "yaxis": "y2"
        },
        {
         "customdata": [
          [
           "<I><br>Kohlhaas, lebhaft erfreut, dankte dem Stadthauptmann, für diesen neuen Beweis<br>seiner Gewogenheit, aufs herzlichste;<br><br><br><br><br></I>"
          ],
          [
           "<I><br>es tue ihm nur leid, daß er nicht, ohne irgend<br>Schritte in Dresden zu tun, seine Sache gleich in Berlin<br>anhängig gemacht habe<br><br><br><br></I>"
          ],
          [
           "<I><br>daß man sich über die Unfreundschaftlichkeit und Unbilligkeit wundere, mit<br>welcher man dem Hofe zu Dresden das Recht abspräche, den<br>Kohlhaas wegen Verbrechen, die er im Lande begangen, den Gesetzen<br>gemäß zu richten, da doch weltbekannt sei, daß derselbe ein<br>beträchtliches Grundstück in der Hauptstadt besitze, und sich selbst in<br>der Qualität als sächsischen Bürger gar nicht verleugne.<br></I>"
          ],
          [
           "<I><br>daß sein höchster Wunsch auf Erden erfüllt sei<br><br><br><br><br><br></I>"
          ],
          [
           "<I><br>daß er \n sie seinen beiden Söhnen Heinrich und Leopold<br>schenke!<br><br><br><br><br></I>"
          ],
          [
           "<I><br>daß sie in seiner Pagenschule erzogen werden sollten<br><br><br><br><br><br></I>"
          ]
         ],
         "hovertemplate": "prop:addressee=Heinrich_von_Geusau<br>start_point=%{x}<br>prop:speaker=%{y}<br>size=%{marker.size}<br>Annotation=%{customdata[0]}<extra></extra>",
         "legendgroup": "Heinrich_von_Geusau",
         "marker": {
          "color": "#00cc96",
          "size": [
           115,
           125,
           386,
           46,
           62,
           52
          ],
          "sizemode": "area",
          "sizeref": 16.9275,
          "symbol": "circle"
         },
         "mode": "markers",
         "name": "Heinrich_von_Geusau",
         "orientation": "h",
         "showlegend": true,
         "type": "scatter",
         "x": [
          35937,
          36060,
          164700,
          220480,
          220669,
          223257
         ],
         "xaxis": "x",
         "y": [
          "Michael_Kohlhaas",
          "Michael_Kohlhaas",
          "Kunz_von_Tronka",
          "Michael_Kohlhaas",
          "Michael_Kohlhaas",
          "Kurfuerst_Brandenburg"
         ],
         "yaxis": "y"
        },
        {
         "alignmentgroup": "True",
         "bingroup": "x",
         "hovertemplate": "prop:addressee=Heinrich_von_Geusau<br>start_point=%{x}<br>count=%{y}<extra></extra>",
         "legendgroup": "Heinrich_von_Geusau",
         "marker": {
          "color": "#00cc96"
         },
         "name": "Heinrich_von_Geusau",
         "offsetgroup": "Heinrich_von_Geusau",
         "opacity": 0.5,
         "showlegend": false,
         "type": "histogram",
         "x": [
          35937,
          36060,
          164700,
          220480,
          220669,
          223257
         ],
         "xaxis": "x3",
         "yaxis": "y3"
        },
        {
         "alignmentgroup": "True",
         "bingroup": "y",
         "hovertemplate": "prop:addressee=Heinrich_von_Geusau<br>prop:speaker=%{y}<br>count=%{x}<extra></extra>",
         "legendgroup": "Heinrich_von_Geusau",
         "marker": {
          "color": "#00cc96"
         },
         "name": "Heinrich_von_Geusau",
         "offsetgroup": "Heinrich_von_Geusau",
         "opacity": 0.5,
         "showlegend": false,
         "type": "histogram",
         "xaxis": "x2",
         "y": [
          "Michael_Kohlhaas",
          "Michael_Kohlhaas",
          "Kunz_von_Tronka",
          "Michael_Kohlhaas",
          "Michael_Kohlhaas",
          "Kurfuerst_Brandenburg"
         ],
         "yaxis": "y2"
        },
        {
         "customdata": [
          [
           "<I><br>warum man also verfahren?<br><br><br><br><br><br></I>"
          ]
         ],
         "hovertemplate": "prop:addressee=Gerichtsherr<br>start_point=%{x}<br>prop:speaker=%{y}<br>size=%{marker.size}<br>Annotation=%{customdata[0]}<extra></extra>",
         "legendgroup": "Gerichtsherr",
         "marker": {
          "color": "#ab63fa",
          "size": [
           25
          ],
          "sizemode": "area",
          "sizeref": 16.9275,
          "symbol": "circle"
         },
         "mode": "markers",
         "name": "Gerichtsherr",
         "orientation": "h",
         "showlegend": true,
         "type": "scatter",
         "x": [
          37048
         ],
         "xaxis": "x",
         "y": [
          "Michael_Kohlhaas"
         ],
         "yaxis": "y"
        },
        {
         "alignmentgroup": "True",
         "bingroup": "x",
         "hovertemplate": "prop:addressee=Gerichtsherr<br>start_point=%{x}<br>count=%{y}<extra></extra>",
         "legendgroup": "Gerichtsherr",
         "marker": {
          "color": "#ab63fa"
         },
         "name": "Gerichtsherr",
         "offsetgroup": "Gerichtsherr",
         "opacity": 0.5,
         "showlegend": false,
         "type": "histogram",
         "x": [
          37048
         ],
         "xaxis": "x3",
         "yaxis": "y3"
        },
        {
         "alignmentgroup": "True",
         "bingroup": "y",
         "hovertemplate": "prop:addressee=Gerichtsherr<br>prop:speaker=%{y}<br>count=%{x}<extra></extra>",
         "legendgroup": "Gerichtsherr",
         "marker": {
          "color": "#ab63fa"
         },
         "name": "Gerichtsherr",
         "offsetgroup": "Gerichtsherr",
         "opacity": 0.5,
         "showlegend": false,
         "type": "histogram",
         "xaxis": "x2",
         "y": [
          "Michael_Kohlhaas"
         ],
         "yaxis": "y2"
        },
        {
         "customdata": [
          [
           "<I><br>was er für seine Besitzungen, im Brandenburgischen und im Sächsischen,<br>Haus und Hof, in Pausch und Bogen, es sei nagelfest<br>oder nicht, geben wolle<br><br><br><br></I>"
          ],
          [
           "<I><br>der Gedanke, seinen Meierhof, an den Ufern der Havel, zu<br>verkaufen, sei nicht allzuneu; sie hätten beide schon oft über<br>diesen Gegenstand verhandelt ; sein Haus in der Vorstadt in<br>Dresden sei, in Vergleich damit, ein bloßer Anhang, der nicht<br>in Erwägung komme; und kurz, wenn er ihm seinen Willen<br>tun, und beide Grundstücke übernehmen wolle, so sei er bereit,<br>[...]</I>"
          ],
          [
           "<I><br>Kohlhaasenbrück sei ja nicht die Welt; es könne Zwecke geben,<br>in Vergleich mit welchen, seinem Hauswesen, als ein ordentlicher Vater,<br>vorzustehen, untergeordnet und nichtswürdig sei; und kurz, seine Seele, müsse<br>er ihm sagen, sei auf große Dinge gestellt, von welchen<br>er vielleicht bald hören werde<br><br></I>"
          ],
          [
           "<I><br>daß es ein von ihm aufgesetzter eventueller in vier Wochen<br>verfallener Kaufkontrakt sei; zeigte ihm, daß darin nichts fehle, als<br>die Unterschriften, und die Einrückung der Summen, sowohl was den<br>Kaufpreis selbst, als auch den Reukauf, d.h. die Leistung betreffe,<br>zu der er sich, falls er binnen vier Wochen zurückträte,<br>verstehen wolle; und forderte ihn noch einmal munter auf, ein<br>[...]</I>"
          ],
          [
           "<I><br>daß er sie zu 100 Goldgülden anschlage<br><br><br><br><br><br></I>"
          ],
          [
           "<I><br>daß er die Pferde auch gar nicht loszuschlagen willens sei,<br>und daß er auch einige Waffen, die in der Rüstkammer<br>hingen, für sich behalten wolle<br><br><br><br></I>"
          ],
          [
           "<I><br>ob er glaube, daß er bloß seinen Scherz mit ihm<br>treibe<br><br><br><br><br></I>"
          ],
          [
           "<I><br>daß er in kurzem, wenn er zurückkehre, sich offenherziger über<br>das, was er jetzt noch für sich behalten müsse, auslassen<br>würde<br><br><br><br></I>"
          ],
          [
           "<I><br>Hierauf, indem er die Gläser einschenkte, fragte er nach dem<br>Polen und Türken, die gerade damals miteinander im Streit lagen<br><br><br><br><br></I>"
          ]
         ],
         "hovertemplate": "prop:addressee=Nachbar_von_Kohlhaas<br>start_point=%{x}<br>prop:speaker=%{y}<br>size=%{marker.size}<br>Annotation=%{customdata[0]}<extra></extra>",
         "legendgroup": "Nachbar_von_Kohlhaas",
         "marker": {
          "color": "#FFA15A",
          "size": [
           146,
           401,
           298,
           481,
           38,
           144,
           54,
           126,
           124
          ],
          "sizemode": "area",
          "sizeref": 16.9275,
          "symbol": "circle"
         },
         "mode": "markers",
         "name": "Nachbar_von_Kohlhaas",
         "orientation": "h",
         "showlegend": true,
         "type": "scatter",
         "x": [
          39719,
          40354,
          40810,
          41492,
          42325,
          42742,
          43331,
          44427,
          44555
         ],
         "xaxis": "x",
         "y": [
          "Michael_Kohlhaas",
          "Michael_Kohlhaas",
          "Michael_Kohlhaas",
          "Michael_Kohlhaas",
          "Michael_Kohlhaas",
          "Michael_Kohlhaas",
          "Michael_Kohlhaas",
          "Michael_Kohlhaas",
          "Michael_Kohlhaas"
         ],
         "yaxis": "y"
        },
        {
         "alignmentgroup": "True",
         "bingroup": "x",
         "hovertemplate": "prop:addressee=Nachbar_von_Kohlhaas<br>start_point=%{x}<br>count=%{y}<extra></extra>",
         "legendgroup": "Nachbar_von_Kohlhaas",
         "marker": {
          "color": "#FFA15A"
         },
         "name": "Nachbar_von_Kohlhaas",
         "offsetgroup": "Nachbar_von_Kohlhaas",
         "opacity": 0.5,
         "showlegend": false,
         "type": "histogram",
         "x": [
          39719,
          40354,
          40810,
          41492,
          42325,
          42742,
          43331,
          44427,
          44555
         ],
         "xaxis": "x3",
         "yaxis": "y3"
        },
        {
         "alignmentgroup": "True",
         "bingroup": "y",
         "hovertemplate": "prop:addressee=Nachbar_von_Kohlhaas<br>prop:speaker=%{y}<br>count=%{x}<extra></extra>",
         "legendgroup": "Nachbar_von_Kohlhaas",
         "marker": {
          "color": "#FFA15A"
         },
         "name": "Nachbar_von_Kohlhaas",
         "offsetgroup": "Nachbar_von_Kohlhaas",
         "opacity": 0.5,
         "showlegend": false,
         "type": "histogram",
         "xaxis": "x2",
         "y": [
          "Michael_Kohlhaas",
          "Michael_Kohlhaas",
          "Michael_Kohlhaas",
          "Michael_Kohlhaas",
          "Michael_Kohlhaas",
          "Michael_Kohlhaas",
          "Michael_Kohlhaas",
          "Michael_Kohlhaas",
          "Michael_Kohlhaas"
         ],
         "yaxis": "y2"
        },
        {
         "customdata": [
          [
           "<I><br>rief jener\n nach Wein<br><br><br><br><br><br></I>"
          ],
          [
           "<I><br>Sternbald, der Knecht, solle ihm den Fuchs satteln<br><br><br><br><br><br></I>"
          ],
          [
           "<I><br>er müsse nach der Hauptstadt reiten, wo er Verrichtungen habe<br><br><br><br><br><br></I>"
          ]
         ],
         "hovertemplate": "prop:addressee=Eine_Magd<br>start_point=%{x}<br>prop:speaker=%{y}<br>size=%{marker.size}<br>Annotation=%{customdata[0]}<extra></extra>",
         "legendgroup": "Eine_Magd",
         "marker": {
          "color": "#19d3f3",
          "size": [
           21,
           50,
           73
          ],
          "sizemode": "area",
          "sizeref": 16.9275,
          "symbol": "circle"
         },
         "mode": "markers",
         "name": "Eine_Magd",
         "orientation": "h",
         "showlegend": true,
         "type": "scatter",
         "x": [
          44139,
          44278,
          44330
         ],
         "xaxis": "x",
         "y": [
          "Michael_Kohlhaas",
          "Michael_Kohlhaas",
          "Michael_Kohlhaas"
         ],
         "yaxis": "y"
        },
        {
         "alignmentgroup": "True",
         "bingroup": "x",
         "hovertemplate": "prop:addressee=Eine_Magd<br>start_point=%{x}<br>count=%{y}<extra></extra>",
         "legendgroup": "Eine_Magd",
         "marker": {
          "color": "#19d3f3"
         },
         "name": "Eine_Magd",
         "offsetgroup": "Eine_Magd",
         "opacity": 0.5,
         "showlegend": false,
         "type": "histogram",
         "x": [
          44139,
          44278,
          44330
         ],
         "xaxis": "x3",
         "yaxis": "y3"
        },
        {
         "alignmentgroup": "True",
         "bingroup": "y",
         "hovertemplate": "prop:addressee=Eine_Magd<br>prop:speaker=%{y}<br>count=%{x}<extra></extra>",
         "legendgroup": "Eine_Magd",
         "marker": {
          "color": "#19d3f3"
         },
         "name": "Eine_Magd",
         "offsetgroup": "Eine_Magd",
         "opacity": 0.5,
         "showlegend": false,
         "type": "histogram",
         "xaxis": "x2",
         "y": [
          "Michael_Kohlhaas",
          "Michael_Kohlhaas",
          "Michael_Kohlhaas"
         ],
         "yaxis": "y2"
        },
        {
         "customdata": [
          [
           "<I><br>morgen müßten auch die Braunen eingeschirrt werden, um seine Frau<br>nach Schwerin zu führen<br><br><br><br><br></I>"
          ]
         ],
         "hovertemplate": "prop:addressee=Ein_Knecht<br>start_point=%{x}<br>prop:speaker=%{y}<br>size=%{marker.size}<br>Annotation=%{customdata[0]}<extra></extra>",
         "legendgroup": "Ein_Knecht",
         "marker": {
          "color": "#FF6692",
          "size": [
           89
          ],
          "sizemode": "area",
          "sizeref": 16.9275,
          "symbol": "circle"
         },
         "mode": "markers",
         "name": "Ein_Knecht",
         "orientation": "h",
         "showlegend": true,
         "type": "scatter",
         "x": [
          48575
         ],
         "xaxis": "x",
         "y": [
          "Michael_Kohlhaas"
         ],
         "yaxis": "y"
        },
        {
         "alignmentgroup": "True",
         "bingroup": "x",
         "hovertemplate": "prop:addressee=Ein_Knecht<br>start_point=%{x}<br>count=%{y}<extra></extra>",
         "legendgroup": "Ein_Knecht",
         "marker": {
          "color": "#FF6692"
         },
         "name": "Ein_Knecht",
         "offsetgroup": "Ein_Knecht",
         "opacity": 0.5,
         "showlegend": false,
         "type": "histogram",
         "x": [
          48575
         ],
         "xaxis": "x3",
         "yaxis": "y3"
        },
        {
         "alignmentgroup": "True",
         "bingroup": "y",
         "hovertemplate": "prop:addressee=Ein_Knecht<br>prop:speaker=%{y}<br>count=%{x}<extra></extra>",
         "legendgroup": "Ein_Knecht",
         "marker": {
          "color": "#FF6692"
         },
         "name": "Ein_Knecht",
         "offsetgroup": "Ein_Knecht",
         "opacity": 0.5,
         "showlegend": false,
         "type": "histogram",
         "xaxis": "x2",
         "y": [
          "Michael_Kohlhaas"
         ],
         "yaxis": "y2"
        },
        {
         "customdata": [
          [
           "<I><br>Der Geistliche hatte eben eine rührende Rede an ihrer Bahre<br>vollendet<br><br><br><br><br></I>"
          ]
         ],
         "hovertemplate": "prop:addressee=Trauergesellschaft<br>start_point=%{x}<br>prop:speaker=%{y}<br>size=%{marker.size}<br>Annotation=%{customdata[0]}<extra></extra>",
         "legendgroup": "Trauergesellschaft",
         "marker": {
          "color": "#B6E880",
          "size": [
           69
          ],
          "sizemode": "area",
          "sizeref": 16.9275,
          "symbol": "circle"
         },
         "mode": "markers",
         "name": "Trauergesellschaft",
         "orientation": "h",
         "showlegend": true,
         "type": "scatter",
         "x": [
          53913
         ],
         "xaxis": "x",
         "y": [
          "Pastor"
         ],
         "yaxis": "y"
        },
        {
         "alignmentgroup": "True",
         "bingroup": "x",
         "hovertemplate": "prop:addressee=Trauergesellschaft<br>start_point=%{x}<br>count=%{y}<extra></extra>",
         "legendgroup": "Trauergesellschaft",
         "marker": {
          "color": "#B6E880"
         },
         "name": "Trauergesellschaft",
         "offsetgroup": "Trauergesellschaft",
         "opacity": 0.5,
         "showlegend": false,
         "type": "histogram",
         "x": [
          53913
         ],
         "xaxis": "x3",
         "yaxis": "y3"
        },
        {
         "alignmentgroup": "True",
         "bingroup": "y",
         "hovertemplate": "prop:addressee=Trauergesellschaft<br>prop:speaker=%{y}<br>count=%{x}<extra></extra>",
         "legendgroup": "Trauergesellschaft",
         "marker": {
          "color": "#B6E880"
         },
         "name": "Trauergesellschaft",
         "offsetgroup": "Trauergesellschaft",
         "opacity": 0.5,
         "showlegend": false,
         "type": "histogram",
         "xaxis": "x2",
         "y": [
          "Pastor"
         ],
         "yaxis": "y2"
        },
        {
         "customdata": [
          [
           "<I><br>Brüder, rettet euch!<br><br><br><br><br><br></I>"
          ],
          [
           "<I><br>wo der Junker Wenzel von Tronka sei<br><br><br><br><br><br></I>"
          ]
         ],
         "hovertemplate": "prop:addressee=Freunde_des_Junkers<br>start_point=%{x}<br>prop:speaker=%{y}<br>size=%{marker.size}<br>Annotation=%{customdata[0]}<extra></extra>",
         "legendgroup": "Freunde_des_Junkers",
         "marker": {
          "color": "#FF97FF",
          "size": [
           20,
           35
          ],
          "sizemode": "area",
          "sizeref": 16.9275,
          "symbol": "circle"
         },
         "mode": "markers",
         "name": "Freunde_des_Junkers",
         "orientation": "h",
         "showlegend": true,
         "type": "scatter",
         "x": [
          56768,
          57131
         ],
         "xaxis": "x",
         "y": [
          "Junker_von_Tronka",
          "Michael_Kohlhaas"
         ],
         "yaxis": "y"
        },
        {
         "alignmentgroup": "True",
         "bingroup": "x",
         "hovertemplate": "prop:addressee=Freunde_des_Junkers<br>start_point=%{x}<br>count=%{y}<extra></extra>",
         "legendgroup": "Freunde_des_Junkers",
         "marker": {
          "color": "#FF97FF"
         },
         "name": "Freunde_des_Junkers",
         "offsetgroup": "Freunde_des_Junkers",
         "opacity": 0.5,
         "showlegend": false,
         "type": "histogram",
         "x": [
          56768,
          57131
         ],
         "xaxis": "x3",
         "yaxis": "y3"
        },
        {
         "alignmentgroup": "True",
         "bingroup": "y",
         "hovertemplate": "prop:addressee=Freunde_des_Junkers<br>prop:speaker=%{y}<br>count=%{x}<extra></extra>",
         "legendgroup": "Freunde_des_Junkers",
         "marker": {
          "color": "#FF97FF"
         },
         "name": "Freunde_des_Junkers",
         "offsetgroup": "Freunde_des_Junkers",
         "opacity": 0.5,
         "showlegend": false,
         "type": "histogram",
         "xaxis": "x2",
         "y": [
          "Junker_von_Tronka",
          "Michael_Kohlhaas"
         ],
         "yaxis": "y2"
        },
        {
         "customdata": [
          [
           "<I><br>wo der Junker Wenzel von Tronka sei?<br><br><br><br><br><br></I>"
          ]
         ],
         "hovertemplate": "prop:addressee=Haushaelterin_des_Junkers<br>start_point=%{x}<br>prop:speaker=%{y}<br>size=%{marker.size}<br>Annotation=%{customdata[0]}<extra></extra>",
         "legendgroup": "Haushaelterin_des_Junkers",
         "marker": {
          "color": "#FECB52",
          "size": [
           36
          ],
          "sizemode": "area",
          "sizeref": 16.9275,
          "symbol": "circle"
         },
         "mode": "markers",
         "name": "Haushaelterin_des_Junkers",
         "orientation": "h",
         "showlegend": true,
         "type": "scatter",
         "x": [
          58166
         ],
         "xaxis": "x",
         "y": [
          "Michael_Kohlhaas"
         ],
         "yaxis": "y"
        },
        {
         "alignmentgroup": "True",
         "bingroup": "x",
         "hovertemplate": "prop:addressee=Haushaelterin_des_Junkers<br>start_point=%{x}<br>count=%{y}<extra></extra>",
         "legendgroup": "Haushaelterin_des_Junkers",
         "marker": {
          "color": "#FECB52"
         },
         "name": "Haushaelterin_des_Junkers",
         "offsetgroup": "Haushaelterin_des_Junkers",
         "opacity": 0.5,
         "showlegend": false,
         "type": "histogram",
         "x": [
          58166
         ],
         "xaxis": "x3",
         "yaxis": "y3"
        },
        {
         "alignmentgroup": "True",
         "bingroup": "y",
         "hovertemplate": "prop:addressee=Haushaelterin_des_Junkers<br>prop:speaker=%{y}<br>count=%{x}<extra></extra>",
         "legendgroup": "Haushaelterin_des_Junkers",
         "marker": {
          "color": "#FECB52"
         },
         "name": "Haushaelterin_des_Junkers",
         "offsetgroup": "Haushaelterin_des_Junkers",
         "opacity": 0.5,
         "showlegend": false,
         "type": "histogram",
         "xaxis": "x2",
         "y": [
          "Michael_Kohlhaas"
         ],
         "yaxis": "y2"
        },
        {
         "customdata": [
          [
           "<I><br>warum er \n die Rappen nicht rette?<br><br><br><br><br><br></I>"
          ]
         ],
         "hovertemplate": "prop:addressee=Pferdeknecht_des_Junkers<br>start_point=%{x}<br>prop:speaker=%{y}<br>size=%{marker.size}<br>Annotation=%{customdata[0]}<extra></extra>",
         "legendgroup": "Pferdeknecht_des_Junkers",
         "marker": {
          "color": "#636efa",
          "size": [
           33
          ],
          "sizemode": "area",
          "sizeref": 16.9275,
          "symbol": "circle"
         },
         "mode": "markers",
         "name": "Pferdeknecht_des_Junkers",
         "orientation": "h",
         "showlegend": true,
         "type": "scatter",
         "x": [
          58943
         ],
         "xaxis": "x",
         "y": [
          "Michael_Kohlhaas"
         ],
         "yaxis": "y"
        },
        {
         "alignmentgroup": "True",
         "bingroup": "x",
         "hovertemplate": "prop:addressee=Pferdeknecht_des_Junkers<br>start_point=%{x}<br>count=%{y}<extra></extra>",
         "legendgroup": "Pferdeknecht_des_Junkers",
         "marker": {
          "color": "#636efa"
         },
         "name": "Pferdeknecht_des_Junkers",
         "offsetgroup": "Pferdeknecht_des_Junkers",
         "opacity": 0.5,
         "showlegend": false,
         "type": "histogram",
         "x": [
          58943
         ],
         "xaxis": "x3",
         "yaxis": "y3"
        },
        {
         "alignmentgroup": "True",
         "bingroup": "y",
         "hovertemplate": "prop:addressee=Pferdeknecht_des_Junkers<br>prop:speaker=%{y}<br>count=%{x}<extra></extra>",
         "legendgroup": "Pferdeknecht_des_Junkers",
         "marker": {
          "color": "#636efa"
         },
         "name": "Pferdeknecht_des_Junkers",
         "offsetgroup": "Pferdeknecht_des_Junkers",
         "opacity": 0.5,
         "showlegend": false,
         "type": "histogram",
         "xaxis": "x2",
         "y": [
          "Michael_Kohlhaas"
         ],
         "yaxis": "y2"
        },
        {
         "customdata": [
          [
           "<I><br>Hierauf besprach er einige Tronkenburgische Knechte, die mit dem Junker<br>unzufrieden waren, und von der Aussicht auf Beute gereizt, in<br>seine Dienste zu treten wünschten<br><br><br><br></I>"
          ]
         ],
         "hovertemplate": "prop:addressee=Knechte_des_Junkers<br>start_point=%{x}<br>prop:speaker=%{y}<br>size=%{marker.size}<br>Annotation=%{customdata[0]}<extra></extra>",
         "legendgroup": "Knechte_des_Junkers",
         "marker": {
          "color": "#EF553B",
          "size": [
           167
          ],
          "sizemode": "area",
          "sizeref": 16.9275,
          "symbol": "circle"
         },
         "mode": "markers",
         "name": "Knechte_des_Junkers",
         "orientation": "h",
         "showlegend": true,
         "type": "scatter",
         "x": [
          61903
         ],
         "xaxis": "x",
         "y": [
          "Michael_Kohlhaas"
         ],
         "yaxis": "y"
        },
        {
         "alignmentgroup": "True",
         "bingroup": "x",
         "hovertemplate": "prop:addressee=Knechte_des_Junkers<br>start_point=%{x}<br>count=%{y}<extra></extra>",
         "legendgroup": "Knechte_des_Junkers",
         "marker": {
          "color": "#EF553B"
         },
         "name": "Knechte_des_Junkers",
         "offsetgroup": "Knechte_des_Junkers",
         "opacity": 0.5,
         "showlegend": false,
         "type": "histogram",
         "x": [
          61903
         ],
         "xaxis": "x3",
         "yaxis": "y3"
        },
        {
         "alignmentgroup": "True",
         "bingroup": "y",
         "hovertemplate": "prop:addressee=Knechte_des_Junkers<br>prop:speaker=%{y}<br>count=%{x}<extra></extra>",
         "legendgroup": "Knechte_des_Junkers",
         "marker": {
          "color": "#EF553B"
         },
         "name": "Knechte_des_Junkers",
         "offsetgroup": "Knechte_des_Junkers",
         "opacity": 0.5,
         "showlegend": false,
         "type": "histogram",
         "xaxis": "x2",
         "y": [
          "Michael_Kohlhaas"
         ],
         "yaxis": "y2"
        },
        {
         "customdata": [
          [
           "<I><br>ob die Pferde gefressen hätten<br><br><br><br><br><br></I>"
          ],
          [
           "<I><br>jeden guten Christen unter Angelobung eines Handgelds und anderer kriegerischen<br>Vorteile seine Sache gegen den Junker von Tronka, als dem<br>allgemeinen Feind aller Christen, zu ergreifen<br><br><br><br></I>"
          ],
          [
           "<I><br>einen Reichs-und Weltfreien, Gott allein unterworfenen Herrn<br><br><br><br><br><br></I>"
          ],
          [
           "<I><br>der Kämmerer, Vater und Mutter, die ihn geboren, verfluchend<br><br><br><br><br><br></I>"
          ],
          [
           "<I><br>daß das Herz des Nagelschmidts gestimmt sein sollte, ihm dergleichen<br>Hülfe zu leisten, indem er den Kerl, wegen auf dem<br>platten Lande verübter Notzucht und anderer Schelmereien, kurz vor Auflösung<br>des Haufens in Lützen hatte hängen lassen wollen; dergestalt, daß<br>nur die Erscheinung der kurfürstlichen Amnestie, indem sie das ganze<br>Verhältnis aufhob, ihn gerettet hatte, und beide tags darauf, als<br>[...]</I>"
          ],
          [
           "<I><br>fingen sie jetzt an, in Wendungen arglistiger und rabulistischer Art,<br>diese Schuld selbst gänzlich zu leugnen.<br><br><br><br><br></I>"
          ],
          [
           "<I><br>fingen sie jetzt an, in Wendungen arglistiger und rabulistischer Art,<br>diese Schuld selbst gänzlich zu leugnen.<br><br><br><br><br></I>"
          ],
          [
           "<I><br>daß die Rappen des Kohlhaas, infolge eines bloß eigenmächtigen Verfahrens<br>des Schloßvogts und Verwalters, von welchem der Junker nichts oder<br>nur Unvollständiges gewußt, auf der Tronkenburg zurückgehalten worden seien<br><br><br><br></I>"
          ],
          [
           "<I><br>daß die Rappen des Kohlhaas, infolge eines bloß eigenmächtigen Verfahrens<br>des Schloßvogts und Verwalters, von welchem der Junker nichts oder<br>nur Unvollständiges gewußt, auf der Tronkenburg zurückgehalten worden seien<br><br><br><br></I>"
          ],
          [
           "<I><br>daß die Tiere schon, bei ihrer Ankunft daselbst, an einem<br>heftigen und gefährlichen Husten krank gewesen wären<br><br><br><br><br></I>"
          ],
          [
           "<I><br>daß die Tiere schon, bei ihrer Ankunft daselbst, an einem<br>heftigen und gefährlichen Husten krank gewesen wären<br><br><br><br><br></I>"
          ],
          [
           "<I><br>beriefen sich deshalb auf Zeugen, die sie herbeizuschaffen sich anheischig<br>machten<br><br><br><br><br></I>"
          ],
          [
           "<I><br>beriefen sich deshalb auf Zeugen, die sie herbeizuschaffen sich anheischig<br>machten<br><br><br><br><br></I>"
          ]
         ],
         "hovertemplate": "prop:addressee=unknown<br>start_point=%{x}<br>prop:speaker=%{y}<br>size=%{marker.size}<br>Annotation=%{customdata[0]}<extra></extra>",
         "legendgroup": "unknown",
         "marker": {
          "color": "#00cc96",
          "size": [
           30,
           226,
           60,
           60,
           434,
           110,
           110,
           216,
           216,
           110,
           110,
           82,
           82
          ],
          "sizemode": "area",
          "sizeref": 16.9275,
          "symbol": "circle"
         },
         "mode": "markers",
         "name": "unknown",
         "orientation": "h",
         "showlegend": true,
         "type": "scatter",
         "x": [
          63210,
          66067,
          66364,
          121081,
          139588,
          141876,
          141876,
          142007,
          142007,
          142248,
          142248,
          142364,
          142364
         ],
         "xaxis": "x",
         "y": [
          "Michael_Kohlhaas",
          "Michael_Kohlhaas",
          "Michael_Kohlhaas",
          "Kunz_von_Tronka",
          "Anonym",
          "Hinz_von_Tronka",
          "Hinz_von_Tronka",
          "Hinz_von_Tronka",
          "Hinz_von_Tronka",
          "Hinz_von_Tronka",
          "Hinz_von_Tronka",
          "Hinz_von_Tronka",
          "Hinz_von_Tronka"
         ],
         "yaxis": "y"
        },
        {
         "alignmentgroup": "True",
         "bingroup": "x",
         "hovertemplate": "prop:addressee=unknown<br>start_point=%{x}<br>count=%{y}<extra></extra>",
         "legendgroup": "unknown",
         "marker": {
          "color": "#00cc96"
         },
         "name": "unknown",
         "offsetgroup": "unknown",
         "opacity": 0.5,
         "showlegend": false,
         "type": "histogram",
         "x": [
          63210,
          66067,
          66364,
          121081,
          139588,
          141876,
          141876,
          142007,
          142007,
          142248,
          142248,
          142364,
          142364
         ],
         "xaxis": "x3",
         "yaxis": "y3"
        },
        {
         "alignmentgroup": "True",
         "bingroup": "y",
         "hovertemplate": "prop:addressee=unknown<br>prop:speaker=%{y}<br>count=%{x}<extra></extra>",
         "legendgroup": "unknown",
         "marker": {
          "color": "#00cc96"
         },
         "name": "unknown",
         "offsetgroup": "unknown",
         "opacity": 0.5,
         "showlegend": false,
         "type": "histogram",
         "xaxis": "x2",
         "y": [
          "Michael_Kohlhaas",
          "Michael_Kohlhaas",
          "Michael_Kohlhaas",
          "Kunz_von_Tronka",
          "Anonym",
          "Hinz_von_Tronka",
          "Hinz_von_Tronka",
          "Hinz_von_Tronka",
          "Hinz_von_Tronka",
          "Hinz_von_Tronka",
          "Hinz_von_Tronka",
          "Hinz_von_Tronka",
          "Hinz_von_Tronka"
         ],
         "yaxis": "y2"
        },
        {
         "customdata": [
          [
           "<I><br>während jener, der Stiftsvogt den Knechten, die ihn umringten, mit<br>dreister Stimme zurief, die Sturmglocke zu ziehn:<br><br><br><br><br></I>"
          ]
         ],
         "hovertemplate": "prop:addressee=Klosterknechte<br>start_point=%{x}<br>prop:speaker=%{y}<br>size=%{marker.size}<br>Annotation=%{customdata[0]}<extra></extra>",
         "legendgroup": "Klosterknechte",
         "marker": {
          "color": "#ab63fa",
          "size": [
           232
          ],
          "sizemode": "area",
          "sizeref": 16.9275,
          "symbol": "circle"
         },
         "mode": "markers",
         "name": "Klosterknechte",
         "orientation": "h",
         "showlegend": true,
         "type": "scatter",
         "x": [
          63732
         ],
         "xaxis": "x",
         "y": [
          "Stiftsvogt"
         ],
         "yaxis": "y"
        },
        {
         "alignmentgroup": "True",
         "bingroup": "x",
         "hovertemplate": "prop:addressee=Klosterknechte<br>start_point=%{x}<br>count=%{y}<extra></extra>",
         "legendgroup": "Klosterknechte",
         "marker": {
          "color": "#ab63fa"
         },
         "name": "Klosterknechte",
         "offsetgroup": "Klosterknechte",
         "opacity": 0.5,
         "showlegend": false,
         "type": "histogram",
         "x": [
          63732
         ],
         "xaxis": "x3",
         "yaxis": "y3"
        },
        {
         "alignmentgroup": "True",
         "bingroup": "y",
         "hovertemplate": "prop:addressee=Klosterknechte<br>prop:speaker=%{y}<br>count=%{x}<extra></extra>",
         "legendgroup": "Klosterknechte",
         "marker": {
          "color": "#ab63fa"
         },
         "name": "Klosterknechte",
         "offsetgroup": "Klosterknechte",
         "opacity": 0.5,
         "showlegend": false,
         "type": "histogram",
         "xaxis": "x2",
         "y": [
          "Stiftsvogt"
         ],
         "yaxis": "y2"
        },
        {
         "customdata": [
          [
           "<I><br>wo der Junker Wenzel von Tronka sei<br><br><br><br><br><br></I>"
          ],
          [
           "<I><br>ob sie sein Mandat erhalten<br><br><br><br><br><br></I>"
          ],
          [
           "<I><br>Wann?<br><br><br><br><br><br></I>"
          ]
         ],
         "hovertemplate": "prop:addressee=Aebtissin<br>start_point=%{x}<br>prop:speaker=%{y}<br>size=%{marker.size}<br>Annotation=%{customdata[0]}<extra></extra>",
         "legendgroup": "Aebtissin",
         "marker": {
          "color": "#FFA15A",
          "size": [
           35,
           27,
           5
          ],
          "sizemode": "area",
          "sizeref": 16.9275,
          "symbol": "circle"
         },
         "mode": "markers",
         "name": "Aebtissin",
         "orientation": "h",
         "showlegend": true,
         "type": "scatter",
         "x": [
          64325,
          64821,
          64930
         ],
         "xaxis": "x",
         "y": [
          "Michael_Kohlhaas",
          "Michael_Kohlhaas",
          "Michael_Kohlhaas"
         ],
         "yaxis": "y"
        },
        {
         "alignmentgroup": "True",
         "bingroup": "x",
         "hovertemplate": "prop:addressee=Aebtissin<br>start_point=%{x}<br>count=%{y}<extra></extra>",
         "legendgroup": "Aebtissin",
         "marker": {
          "color": "#FFA15A"
         },
         "name": "Aebtissin",
         "offsetgroup": "Aebtissin",
         "opacity": 0.5,
         "showlegend": false,
         "type": "histogram",
         "x": [
          64325,
          64821,
          64930
         ],
         "xaxis": "x3",
         "yaxis": "y3"
        },
        {
         "alignmentgroup": "True",
         "bingroup": "y",
         "hovertemplate": "prop:addressee=Aebtissin<br>prop:speaker=%{y}<br>count=%{x}<extra></extra>",
         "legendgroup": "Aebtissin",
         "marker": {
          "color": "#FFA15A"
         },
         "name": "Aebtissin",
         "offsetgroup": "Aebtissin",
         "opacity": 0.5,
         "showlegend": false,
         "type": "histogram",
         "xaxis": "x2",
         "y": [
          "Michael_Kohlhaas",
          "Michael_Kohlhaas",
          "Michael_Kohlhaas"
         ],
         "yaxis": "y2"
        },
        {
         "customdata": [
          [
           "<I><br>folgt mir meine Brüder; der Junker ist in Wittenberg!<br><br><br><br><br><br></I>"
          ]
         ],
         "hovertemplate": "prop:addressee=Kohlhaas_Gefolge<br>start_point=%{x}<br>prop:speaker=%{y}<br>size=%{marker.size}<br>Annotation=%{customdata[0]}<extra></extra>",
         "legendgroup": "Kohlhaas_Gefolge",
         "marker": {
          "color": "#19d3f3",
          "size": [
           53
          ],
          "sizemode": "area",
          "sizeref": 16.9275,
          "symbol": "circle"
         },
         "mode": "markers",
         "name": "Kohlhaas_Gefolge",
         "orientation": "h",
         "showlegend": true,
         "type": "scatter",
         "x": [
          65575
         ],
         "xaxis": "x",
         "y": [
          "Michael_Kohlhaas"
         ],
         "yaxis": "y"
        },
        {
         "alignmentgroup": "True",
         "bingroup": "x",
         "hovertemplate": "prop:addressee=Kohlhaas_Gefolge<br>start_point=%{x}<br>count=%{y}<extra></extra>",
         "legendgroup": "Kohlhaas_Gefolge",
         "marker": {
          "color": "#19d3f3"
         },
         "name": "Kohlhaas_Gefolge",
         "offsetgroup": "Kohlhaas_Gefolge",
         "opacity": 0.5,
         "showlegend": false,
         "type": "histogram",
         "x": [
          65575
         ],
         "xaxis": "x3",
         "yaxis": "y3"
        },
        {
         "alignmentgroup": "True",
         "bingroup": "y",
         "hovertemplate": "prop:addressee=Kohlhaas_Gefolge<br>prop:speaker=%{y}<br>count=%{x}<extra></extra>",
         "legendgroup": "Kohlhaas_Gefolge",
         "marker": {
          "color": "#19d3f3"
         },
         "name": "Kohlhaas_Gefolge",
         "offsetgroup": "Kohlhaas_Gefolge",
         "opacity": 0.5,
         "showlegend": false,
         "type": "histogram",
         "xaxis": "x2",
         "y": [
          "Michael_Kohlhaas"
         ],
         "yaxis": "y2"
        },
        {
         "customdata": [
          [
           "<I><br>er, Kohlhaas, habe die Stadt in Brand gesteckt , und<br>werde sie, wenn man ihm den Junker nicht ausliefere, dergestalt<br>einäschern, daß er hinter keiner Wand werde zu sehen brauchen,<br>um ihn zu finden<br><br><br></I>"
          ],
          [
           "<I><br>daß es nach der Pleißenburg gehe<br><br><br><br><br><br></I>"
          ]
         ],
         "hovertemplate": "prop:addressee=Bewohner_Wittenbergs<br>start_point=%{x}<br>prop:speaker=%{y}<br>size=%{marker.size}<br>Annotation=%{customdata[0]}<extra></extra>",
         "legendgroup": "Bewohner_Wittenbergs",
         "marker": {
          "color": "#FF6692",
          "size": [
           222,
           32
          ],
          "sizemode": "area",
          "sizeref": 16.9275,
          "symbol": "circle"
         },
         "mode": "markers",
         "name": "Bewohner_Wittenbergs",
         "orientation": "h",
         "showlegend": true,
         "type": "scatter",
         "x": [
          67448,
          75838
         ],
         "xaxis": "x",
         "y": [
          "Michael_Kohlhaas",
          "Reuter_des_Landvogts"
         ],
         "yaxis": "y"
        },
        {
         "alignmentgroup": "True",
         "bingroup": "x",
         "hovertemplate": "prop:addressee=Bewohner_Wittenbergs<br>start_point=%{x}<br>count=%{y}<extra></extra>",
         "legendgroup": "Bewohner_Wittenbergs",
         "marker": {
          "color": "#FF6692"
         },
         "name": "Bewohner_Wittenbergs",
         "offsetgroup": "Bewohner_Wittenbergs",
         "opacity": 0.5,
         "showlegend": false,
         "type": "histogram",
         "x": [
          67448,
          75838
         ],
         "xaxis": "x3",
         "yaxis": "y3"
        },
        {
         "alignmentgroup": "True",
         "bingroup": "y",
         "hovertemplate": "prop:addressee=Bewohner_Wittenbergs<br>prop:speaker=%{y}<br>count=%{x}<extra></extra>",
         "legendgroup": "Bewohner_Wittenbergs",
         "marker": {
          "color": "#FF6692"
         },
         "name": "Bewohner_Wittenbergs",
         "offsetgroup": "Bewohner_Wittenbergs",
         "opacity": 0.5,
         "showlegend": false,
         "type": "histogram",
         "xaxis": "x2",
         "y": [
          "Michael_Kohlhaas",
          "Reuter_des_Landvogts"
         ],
         "yaxis": "y2"
        },
        {
         "customdata": [
          [
           "<I><br>den Kohlhaas selbst denke er in kurzem, indem er ihm<br>auf die Spur sei, gefesselt einzubringen<br><br><br><br><br></I>"
          ],
          [
           "<I><br>daß er in der Pleißenburg sei<br><br><br><br><br><br></I>"
          ],
          [
           "<I><br>daß, wenn derselbe nicht darin befindlich wäre, er mindestens verfahren<br>würde, als ob er darin wäre, bis man ihm den<br>Ort, mit Namen genannt, werde angezeigt haben, worin er befindlich<br>sei<br><br><br></I>"
          ]
         ],
         "hovertemplate": "prop:addressee=Magistrat<br>start_point=%{x}<br>prop:speaker=%{y}<br>size=%{marker.size}<br>Annotation=%{customdata[0]}<extra></extra>",
         "legendgroup": "Magistrat",
         "marker": {
          "color": "#B6E880",
          "size": [
           93,
           29,
           187
          ],
          "sizemode": "area",
          "sizeref": 16.9275,
          "symbol": "circle"
         },
         "mode": "markers",
         "name": "Magistrat",
         "orientation": "h",
         "showlegend": true,
         "type": "scatter",
         "x": [
          72293,
          79619,
          79664
         ],
         "xaxis": "x",
         "y": [
          "Otto_von_Gorgas",
          "Michael_Kohlhaas",
          "Michael_Kohlhaas"
         ],
         "yaxis": "y"
        },
        {
         "alignmentgroup": "True",
         "bingroup": "x",
         "hovertemplate": "prop:addressee=Magistrat<br>start_point=%{x}<br>count=%{y}<extra></extra>",
         "legendgroup": "Magistrat",
         "marker": {
          "color": "#B6E880"
         },
         "name": "Magistrat",
         "offsetgroup": "Magistrat",
         "opacity": 0.5,
         "showlegend": false,
         "type": "histogram",
         "x": [
          72293,
          79619,
          79664
         ],
         "xaxis": "x3",
         "yaxis": "y3"
        },
        {
         "alignmentgroup": "True",
         "bingroup": "y",
         "hovertemplate": "prop:addressee=Magistrat<br>prop:speaker=%{y}<br>count=%{x}<extra></extra>",
         "legendgroup": "Magistrat",
         "marker": {
          "color": "#B6E880"
         },
         "name": "Magistrat",
         "offsetgroup": "Magistrat",
         "opacity": 0.5,
         "showlegend": false,
         "type": "histogram",
         "xaxis": "x2",
         "y": [
          "Otto_von_Gorgas",
          "Michael_Kohlhaas",
          "Michael_Kohlhaas"
         ],
         "yaxis": "y2"
        },
        {
         "customdata": [
          [
           "<I><br>einen Statthalter Michaels, des Erzengels, der gekommen sei, an allen,<br>die in dieser Streitsache des Junkers Partei ergreifen würden, mit<br>Feuer und Schwert, die Arglist, in welcher die ganze Welt<br>versunken sei, zu bestrafen<br><br><br></I>"
          ],
          [
           "<I><br>Gegeben auf dem Sitz unserer provisorischen Weltregierung, dem Erzschlosse zu<br>Lützen.<br><br><br><br><br></I>"
          ],
          [
           "<I><br>daß er bereits einen Heerhaufen von zweitausend Mann zusammenzöge, und<br>sich selbst an dessen Spitze setzen würde, um den \n<br>Kohlhaas zu fangen<br><br><br><br></I>"
          ]
         ],
         "hovertemplate": "prop:addressee=Bewohner_Leipzigs<br>start_point=%{x}<br>prop:speaker=%{y}<br>size=%{marker.size}<br>Annotation=%{customdata[0]}<extra></extra>",
         "legendgroup": "Bewohner_Leipzigs",
         "marker": {
          "color": "#FF97FF",
          "size": [
           223,
           85,
           140
          ],
          "sizemode": "area",
          "sizeref": 16.9275,
          "symbol": "circle"
         },
         "mode": "markers",
         "name": "Bewohner_Leipzigs",
         "orientation": "h",
         "showlegend": true,
         "type": "scatter",
         "x": [
          78048,
          78531,
          79970
         ],
         "xaxis": "x",
         "y": [
          "Michael_Kohlhaas",
          "Michael_Kohlhaas",
          "Kurfuerst_Sachsen"
         ],
         "yaxis": "y"
        },
        {
         "alignmentgroup": "True",
         "bingroup": "x",
         "hovertemplate": "prop:addressee=Bewohner_Leipzigs<br>start_point=%{x}<br>count=%{y}<extra></extra>",
         "legendgroup": "Bewohner_Leipzigs",
         "marker": {
          "color": "#FF97FF"
         },
         "name": "Bewohner_Leipzigs",
         "offsetgroup": "Bewohner_Leipzigs",
         "opacity": 0.5,
         "showlegend": false,
         "type": "histogram",
         "x": [
          78048,
          78531,
          79970
         ],
         "xaxis": "x3",
         "yaxis": "y3"
        },
        {
         "alignmentgroup": "True",
         "bingroup": "y",
         "hovertemplate": "prop:addressee=Bewohner_Leipzigs<br>prop:speaker=%{y}<br>count=%{x}<extra></extra>",
         "legendgroup": "Bewohner_Leipzigs",
         "marker": {
          "color": "#FF97FF"
         },
         "name": "Bewohner_Leipzigs",
         "offsetgroup": "Bewohner_Leipzigs",
         "opacity": 0.5,
         "showlegend": false,
         "type": "histogram",
         "xaxis": "x2",
         "y": [
          "Michael_Kohlhaas",
          "Michael_Kohlhaas",
          "Kurfuerst_Sachsen"
         ],
         "yaxis": "y2"
        },
        {
         "customdata": [
          [
           "<I><br>Waldmann! laß mir mein Pferd satteln!<br><br><br><br><br><br></I>"
          ]
         ],
         "hovertemplate": "prop:addressee=Waldmann<br>start_point=%{x}<br>prop:speaker=%{y}<br>size=%{marker.size}<br>Annotation=%{customdata[0]}<extra></extra>",
         "legendgroup": "Waldmann",
         "marker": {
          "color": "#FECB52",
          "size": [
           37
          ],
          "sizemode": "area",
          "sizeref": 16.9275,
          "symbol": "circle"
         },
         "mode": "markers",
         "name": "Waldmann",
         "orientation": "h",
         "showlegend": true,
         "type": "scatter",
         "x": [
          85163
         ],
         "xaxis": "x",
         "y": [
          "Michael_Kohlhaas"
         ],
         "yaxis": "y"
        },
        {
         "alignmentgroup": "True",
         "bingroup": "x",
         "hovertemplate": "prop:addressee=Waldmann<br>start_point=%{x}<br>count=%{y}<extra></extra>",
         "legendgroup": "Waldmann",
         "marker": {
          "color": "#FECB52"
         },
         "name": "Waldmann",
         "offsetgroup": "Waldmann",
         "opacity": 0.5,
         "showlegend": false,
         "type": "histogram",
         "x": [
          85163
         ],
         "xaxis": "x3",
         "yaxis": "y3"
        },
        {
         "alignmentgroup": "True",
         "bingroup": "y",
         "hovertemplate": "prop:addressee=Waldmann<br>prop:speaker=%{y}<br>count=%{x}<extra></extra>",
         "legendgroup": "Waldmann",
         "marker": {
          "color": "#FECB52"
         },
         "name": "Waldmann",
         "offsetgroup": "Waldmann",
         "opacity": 0.5,
         "showlegend": false,
         "type": "histogram",
         "xaxis": "x2",
         "y": [
          "Michael_Kohlhaas"
         ],
         "yaxis": "y2"
        },
        {
         "customdata": [
          [
           "<I><br>Sternbald! folge mir ins Schloß!<br><br><br><br><br><br></I>"
          ],
          [
           "<I><br>daß ein Geschäft, von bedeutender Wichtigkeit, ihn nach Wittenberg zu<br>reisen nötige<br><br><br><br><br></I>"
          ],
          [
           "<I><br>die Jungen, die ihn bei seiner Entfernung unter dem Erguß<br>kindischer Tränen darum baten<br><br><br><br><br></I>"
          ]
         ],
         "hovertemplate": "prop:addressee=Sternbald<br>start_point=%{x}<br>prop:speaker=%{y}<br>size=%{marker.size}<br>Annotation=%{customdata[0]}<extra></extra>",
         "legendgroup": "Sternbald",
         "marker": {
          "color": "#636efa",
          "size": [
           32,
           83,
           87
          ],
          "sizemode": "area",
          "sizeref": 16.9275,
          "symbol": "circle"
         },
         "mode": "markers",
         "name": "Sternbald",
         "orientation": "h",
         "showlegend": true,
         "type": "scatter",
         "x": [
          85209,
          85473,
          138342
         ],
         "xaxis": "x",
         "y": [
          "Michael_Kohlhaas",
          "Michael_Kohlhaas",
          "Kohlhaas_Kinder"
         ],
         "yaxis": "y"
        },
        {
         "alignmentgroup": "True",
         "bingroup": "x",
         "hovertemplate": "prop:addressee=Sternbald<br>start_point=%{x}<br>count=%{y}<extra></extra>",
         "legendgroup": "Sternbald",
         "marker": {
          "color": "#636efa"
         },
         "name": "Sternbald",
         "offsetgroup": "Sternbald",
         "opacity": 0.5,
         "showlegend": false,
         "type": "histogram",
         "x": [
          85209,
          85473,
          138342
         ],
         "xaxis": "x3",
         "yaxis": "y3"
        },
        {
         "alignmentgroup": "True",
         "bingroup": "y",
         "hovertemplate": "prop:addressee=Sternbald<br>prop:speaker=%{y}<br>count=%{x}<extra></extra>",
         "legendgroup": "Sternbald",
         "marker": {
          "color": "#636efa"
         },
         "name": "Sternbald",
         "offsetgroup": "Sternbald",
         "opacity": 0.5,
         "showlegend": false,
         "type": "histogram",
         "xaxis": "x2",
         "y": [
          "Michael_Kohlhaas",
          "Michael_Kohlhaas",
          "Kohlhaas_Kinder"
         ],
         "yaxis": "y2"
        },
        {
         "customdata": [
          [
           "<I><br>daß er Michael Kohlhaas, der Roßhändler sei<br><br><br><br><br><br></I>"
          ],
          [
           "<I><br>Hochwürdiger Herr, dies Pistol, wenn Ihr die Klingel rührt, streckt<br>mich leblos zu Euren Füßen nieder! Setzt Euch und hört<br>mich an; unter den Engeln, deren Psalmen Ihr aufschreibt, seid<br>Ihr nicht sicherer, als bei mir.<br><br><br></I>"
          ],
          [
           "<I><br>Eure Meinung von mir, daß ich ein ungerechter Mann sei,<br>widerlegen! Ihr habt mir in Eurem Plakat gesagt, daß meine<br>Obrigkeit von meiner Sache nichts weiß: wohlan, verschafft mir freies<br>Geleit, so gehe ich nach Dresden, und lege sie ihr<br>vor.<br><br></I>"
          ],
          [
           "<I><br>hochwürdiger Herr, niemand, fortan! Eine Nachricht, die ich aus Dresden<br>erhielt, hat mich getäuscht, mich verführt! Der Krieg, den ich<br>mit der Gemeinheit der Menschen führe, ist eine Missetat, sobald<br>ich aus ihr nicht, wie Ihr mir die Versicherung gegeben<br>habt, verstoßen war!<br><br></I>"
          ],
          [
           "<I><br>Verstoßen nenne ich den, dem der Schutz der Gesetze versagt<br>ist! Denn dieses Schutzes, zum Gedeihen meines friedlichen Gewerbes, bedarf<br>ich; ja, er ist es, dessenhalb ich mich, mit dem<br>Kreis dessen, was ich erworben, in diese \n Gemeinschaft flüchte;<br>und wer mir ihn versagt, der stößt mich zu den<br>Wilden der Einöde hinaus; er gibt mir, wie wollt Ihr<br>[...]</I>"
          ],
          [
           "<I><br>Wohlan wenn mich der Landesherr nicht verstößt, so kehre ich<br>auch wieder in die Gemeinschaft, die er beschirmt, zurück. Verschafft<br>mir, ich wiederhol es, freies Geleit nach Dresden: so lasse<br>ich den Haufen, den ich im Schloß zu Lützen versammelt,<br>auseinandergehen, und bringe die Klage, mit der ich abgewiesen worden<br>bin, noch einmal bei dem Tribunal des Landes vor.<br></I>"
          ],
          [
           "<I><br>Gott behüte! Haus und Hof, und den Wohlstand, den ich<br>besessen, fordere ich nicht zurück; so wenig als die Kosten<br>des Begräbnisses meiner Frau! Hersens alte Mutter wird eine \n<br>Berechnung der Heilkosten, und eine Spezifikation dessen, was ihr Sohn<br>in der Tronkenburg eingebüßt, beibringen; und den Schaden, den ich<br>wegen Nichtverkaufs der Rappen erlitten, mag die Regierung durch einen<br>[...]</I>"
          ],
          [
           "<I><br>hochwürdiger Herr! es hat mich meine Frau gekostet; Kohlhaas will<br>der Welt zeigen, daß sie in keinem ungerechten Handel umgekommen<br>ist. Fügt Euch in diesen Stücken meinem Willen, und laßt<br>den Gerichtshof sprechen; in allem anderen, was sonst noch streitig<br>sein mag, füge ich mich Euch.<br><br></I>"
          ],
          [
           "<I><br>kann sein! indem er ans Fenster trat: kann sein, auch<br>nicht! Hätte ich gewußt, daß ich sie mit Blut aus<br>dem Herzen meiner lieben Frau würde auf die Beine bringen<br>müssen: kann sein, ich hätte getan, wie Ihr gesagt, hochwürdiger<br>Herr, und einen Scheffel Hafer nicht gescheut! Doch, weil sie<br>mir einmal so teuer zu stehen gekommen sind, so habe<br>[...]</I>"
          ],
          [
           "<I><br>daß seine Fürsprache ihn über diesen Punkt völlig beruhige<br><br><br><br><br><br></I>"
          ],
          [
           "<I><br>er habe noch eine Bitte auf seinem Herzen. Zu Pfingsten<br>nämlich, wo er an den Tisch des Herrn zu gehen<br>pflege, habe er die Kirche, dieser seiner kriegerischen Unternehmung wegen,<br>versäumt; ob er die Gewogenheit haben wolle, ohne weitere Vorbereitung,<br>seine Beichte zu empfangen, und ihm, zur Auswechselung dagegen, die<br>Wohltat des heiligen Sakraments zu erteilen?<br></I>"
          ],
          [
           "<I><br>ja, Kohlhaas, das will ich tun! Der Herr aber, dessen<br>Leib du begehrst, vergab seinem Feind. – Willst du, setzte<br>er, da jener ihn betreten ansah, hinzu, dem Junker, der<br>dich beleidigt hat, gleichfalls vergeben: nach der Tronkenburg gehen, dich<br>auf deine Rappen setzen, und sie zur Dickfütterung nach Kohlhaasenbrück<br>heimreiten?<br></I>"
          ],
          [
           "<I><br>Hochwürdiger Herr der Herr auch vergab allen seinen Feinden nicht.<br>Laßt mich den Kurfürsten, meinen beiden Herren, dem Schloßvogt und<br>Verwalter, den Herren Hinz und Kunz, und wer mich sonst<br>in dieser Sache gekränkt haben mag, vergeben: den Junker aber,<br>wenn es sein kann, nötigen, daß er mir die Rappen<br>wieder dick füttere.<br></I>"
          ],
          [
           "<I><br>und so kann ich, hochwürdigster Herr, der Wohltat versöhnt zu<br>werden, die ich mir von Euch erbat, nicht teilhaftig werden?<br><br><br><br><br></I>"
          ],
          [
           "<I><br>deinem Heiland, nein; dem Landesherrn, – das bleibt einem Versuch,<br>wie ich dir versprach, vorbehalten!<br><br><br><br><br></I>"
          ]
         ],
         "hovertemplate": "prop:addressee=Luther<br>start_point=%{x}<br>prop:speaker=%{y}<br>size=%{marker.size}<br>Annotation=%{customdata[0]}<extra></extra>",
         "legendgroup": "Luther",
         "marker": {
          "color": "#EF553B",
          "size": [
           43,
           218,
           240,
           276,
           467,
           387,
           439,
           285,
           467,
           58,
           363,
           327,
           389,
           122,
           102
          ],
          "sizemode": "area",
          "sizeref": 16.9275,
          "symbol": "circle"
         },
         "mode": "markers",
         "name": "Luther",
         "orientation": "h",
         "showlegend": true,
         "type": "scatter",
         "x": [
          86399,
          86683,
          86981,
          87567,
          88125,
          89068,
          90319,
          91171,
          92099,
          93325,
          93481,
          93916,
          94247,
          95473,
          95620
         ],
         "xaxis": "x",
         "y": [
          "Michael_Kohlhaas",
          "Michael_Kohlhaas",
          "Michael_Kohlhaas",
          "Michael_Kohlhaas",
          "Michael_Kohlhaas",
          "Michael_Kohlhaas",
          "Michael_Kohlhaas",
          "Michael_Kohlhaas",
          "Michael_Kohlhaas",
          "Michael_Kohlhaas",
          "Michael_Kohlhaas",
          "Michael_Kohlhaas",
          "Michael_Kohlhaas",
          "Michael_Kohlhaas",
          "Michael_Kohlhaas"
         ],
         "yaxis": "y"
        },
        {
         "alignmentgroup": "True",
         "bingroup": "x",
         "hovertemplate": "prop:addressee=Luther<br>start_point=%{x}<br>count=%{y}<extra></extra>",
         "legendgroup": "Luther",
         "marker": {
          "color": "#EF553B"
         },
         "name": "Luther",
         "offsetgroup": "Luther",
         "opacity": 0.5,
         "showlegend": false,
         "type": "histogram",
         "x": [
          86399,
          86683,
          86981,
          87567,
          88125,
          89068,
          90319,
          91171,
          92099,
          93325,
          93481,
          93916,
          94247,
          95473,
          95620
         ],
         "xaxis": "x3",
         "yaxis": "y3"
        },
        {
         "alignmentgroup": "True",
         "bingroup": "y",
         "hovertemplate": "prop:addressee=Luther<br>prop:speaker=%{y}<br>count=%{x}<extra></extra>",
         "legendgroup": "Luther",
         "marker": {
          "color": "#EF553B"
         },
         "name": "Luther",
         "offsetgroup": "Luther",
         "opacity": 0.5,
         "showlegend": false,
         "type": "histogram",
         "xaxis": "x2",
         "y": [
          "Michael_Kohlhaas",
          "Michael_Kohlhaas",
          "Michael_Kohlhaas",
          "Michael_Kohlhaas",
          "Michael_Kohlhaas",
          "Michael_Kohlhaas",
          "Michael_Kohlhaas",
          "Michael_Kohlhaas",
          "Michael_Kohlhaas",
          "Michael_Kohlhaas",
          "Michael_Kohlhaas",
          "Michael_Kohlhaas",
          "Michael_Kohlhaas",
          "Michael_Kohlhaas",
          "Michael_Kohlhaas"
         ],
         "yaxis": "y2"
        },
        {
         "customdata": [
          [
           "<I><br>leuchte!<br><br><br><br><br><br></I>"
          ]
         ],
         "hovertemplate": "prop:addressee=Famulus<br>start_point=%{x}<br>prop:speaker=%{y}<br>size=%{marker.size}<br>Annotation=%{customdata[0]}<extra></extra>",
         "legendgroup": "Famulus",
         "marker": {
          "color": "#00cc96",
          "size": [
           8
          ],
          "sizemode": "area",
          "sizeref": 16.9275,
          "symbol": "circle"
         },
         "mode": "markers",
         "name": "Famulus",
         "orientation": "h",
         "showlegend": true,
         "type": "scatter",
         "x": [
          95185
         ],
         "xaxis": "x",
         "y": [
          "Luther"
         ],
         "yaxis": "y"
        },
        {
         "alignmentgroup": "True",
         "bingroup": "x",
         "hovertemplate": "prop:addressee=Famulus<br>start_point=%{x}<br>count=%{y}<extra></extra>",
         "legendgroup": "Famulus",
         "marker": {
          "color": "#00cc96"
         },
         "name": "Famulus",
         "offsetgroup": "Famulus",
         "opacity": 0.5,
         "showlegend": false,
         "type": "histogram",
         "x": [
          95185
         ],
         "xaxis": "x3",
         "yaxis": "y3"
        },
        {
         "alignmentgroup": "True",
         "bingroup": "y",
         "hovertemplate": "prop:addressee=Famulus<br>prop:speaker=%{y}<br>count=%{x}<extra></extra>",
         "legendgroup": "Famulus",
         "marker": {
          "color": "#00cc96"
         },
         "name": "Famulus",
         "offsetgroup": "Famulus",
         "opacity": 0.5,
         "showlegend": false,
         "type": "histogram",
         "xaxis": "x2",
         "y": [
          "Luther"
         ],
         "yaxis": "y2"
        },
        {
         "customdata": [
          [
           "<I><br>daß bei so ärgerlichen Umständen, nichts anderes zu tun übrig<br>sei, als den Vorschlag des Roßhändlers anzunehmen, und ihm des<br>Vorgefallenen wegen, zur Erneuerung seines Prozesses, Amnestie zu erteilen.<br><br><br><br></I>"
          ],
          [
           "<I><br>Die öffentliche Meinung sei auf eine höchst gefährliche Weise, auf<br>dieses Mannes Seite, dergestalt, daß selbst in dem dreimal von<br>ihm eingeäscherten Wittenberg, eine Stimme zu seinem Vorteil spreche; und<br>da er sein Anerbieten, falls er damit abgewiesen \n werden<br>sollte, unfehlbar, unter gehässigen Bemerkungen, zur Wissenschaft des Volks bringen<br>würde, so könne dasselbe leicht in dem Grade verführt werden,<br>[...]</I>"
          ],
          [
           "<I><br>Er schloß in diesem außerordentlichen Fall, über die Bedenklichkeit, mit<br>einem Staatsbürger, der die Waffen ergriffen, in Unterhandlung zu treten,<br>hinweggehen müsse; daß derselbe in der Tat durch das Verfahren,<br>das man gegen ihn beobachtet, auf gewisse Weise außer der<br>Staatsverbindung gesetzt worden sei; und kurz, daß man ihn, um<br>aus dem Handel zu kommen, mehr als eine fremde, in<br>[...]</I>"
          ],
          [
           "<I><br> Er stellte dem Kurfürsten sein Bedenken vor, die Staatsgewalt,<br>zur Durchsetzung einer offenbar unrechtlichen Maßregel, in Anspruch zu nehmen<br><br><br><br><br></I>"
          ],
          [
           "<I><br>daß der Faden der Freveltaten sich auf diese Weise ins<br>Unendliche fortzuspinnen drohe<br><br><br><br><br></I>"
          ],
          [
           "<I><br>daß nur ein schlichtes Rechttun, indem man unmittelbar und rücksichtslos<br>den Fehltritt, den man sich zuschulden kommen lassen, wiedergutmachte, ihn<br>abreißen und die Regierung glücklich aus diesem häßlichen Handel herausziehen<br>könne<br><br><br></I>"
          ],
          [
           "<I><br>die Denkungsart, die er an den Tag lege, erfülle ihn<br>zwar mit dem größesten Respekt; indem er aber dem Kohlhaas<br>zu seinem Recht verhelfen wolle, bedenke er nicht, daß er<br>Wittenberg und Leipzig, und das ganze durch ihn mißhandelte Land,<br>in seinem gerechten Anspruch auf Schadenersatz, oder wenigstens Bestrafung, beeinträchtige.<br>Die Ordnung des Staats sei, in Beziehung auf diesen Mann,<br>[...]</I>"
          ],
          [
           "<I><br>er begriffe nicht, wie der Staatsbeschluß, der zu fassen sei,<br>Männern von solcher Weisheit, als hier versammelt wären, entgehen könne.<br>Der Roßhändler habe, seines Wissens, gegen bloß freies Geleit nach<br>Dresden, und erneuerte Untersuchung seiner Sache, versprochen, den Haufen, mit<br>dem er in das Land gefallen, auseinandergehen zu lassen. Daraus<br>aber folge nicht, daß man ihm, wegen dieser frevelhaften Selbstrache,<br>[...]</I>"
          ],
          [
           "<I><br>ob er, nachdem er sein Leben daran gesetzt, um diese<br>Sache, seinen Wünschen gemäß, beizulegen, auch noch seine Ehre dem<br>Tadel der Welt aussetzen, und mit einer Bitte um Vergleich<br>und Nachgiebigkeit, vor einem Manne erscheinen solle, der alle nur<br>erdenkliche Schmach und Schande über ihn und seine Familie gebracht<br>habe<br></I>"
          ],
          [
           "<I><br>gnädigster Herr, sie sind tot: sind in staatsrechtlicher Bedeutung tot,<br>weil sie keinen Wert haben, und werden es physisch sein,<br>bevor man sie, aus der Abdeckerei, in die Ställe der<br>Ritter gebracht hat<br><br><br></I>"
          ],
          [
           "<I><br>Sie erinnerten mit weisen und mißvergnügten Seitenblicken an den Mißgriff,<br>den man begangen, indem man dem Kohlhaas, ihren dringenden und<br>wiederholten Warnungen zum Trotz, Amnestie erteilt, gleichsam als hätte man<br>die Absicht gehabt Bösewichtern aller \n Art dadurch, zur Nachfolge<br>auf seinem Wege, das Signal zu geben<br><br></I>"
          ],
          [
           "<I><br>Sie erinnerten mit weisen und mißvergnügten Seitenblicken an den Mißgriff,<br>den man begangen, indem man dem Kohlhaas, ihren dringenden und<br>wiederholten Warnungen zum Trotz, Amnestie erteilt, gleichsam als hätte man<br>die Absicht gehabt Bösewichtern aller \n Art dadurch, zur Nachfolge<br>auf seinem Wege, das Signal zu geben<br><br></I>"
          ],
          [
           "<I><br>daß die ganze Erscheinung desselben nichts, als ein von dem<br>Kohlhaas angezetteltes Unternehmen sei, um die Regierung in Furcht zu<br>setzen, und den Fall des Rechtsspruchs, Punkt vor Punkt, seinem<br>rasenden Eigensinn gemäß, durchzusetzen und zu beschleunigen<br><br><br></I>"
          ],
          [
           "<I><br>daß die ganze Erscheinung desselben nichts, als ein von dem<br>Kohlhaas angezetteltes Unternehmen sei, um die Regierung in Furcht zu<br>setzen, und den Fall des Rechtsspruchs, Punkt vor Punkt, seinem<br>rasenden Eigensinn gemäß, durchzusetzen und zu beschleunigen<br><br><br></I>"
          ],
          [
           "<I><br>bat er sich von demselben die Erlaubnis aus, unverzüglich ein<br>Verhör über den Roßhändler anstellen zu dürfen<br><br><br><br><br></I>"
          ],
          [
           "<I><br>daß der Kohlhaas ohne weiteres arretiert, und ihm, auf den<br>Grund geheimer Einverständnisse mit dem Nagelschmidt, der Prozeß gemacht werden<br>müsse<br><br><br><br></I>"
          ],
          [
           "<I><br>daß der Kohlhaas ohne weiteres arretiert, und ihm, auf den<br>Grund geheimer Einverständnisse mit dem Nagelschmidt, der Prozeß gemacht werden<br>müsse<br><br><br><br></I>"
          ],
          [
           "<I><br>daß ein solcher Brief nicht, ohne daß frühere auch von<br>seiten des Roßhändlers vorangegangen, und ohne daß überhaupt eine frevelhafte<br>und verbrecherische Verbindung, zu Schmiedung neuer Greuel, unter ihnen stattfinden<br>sollte, geschrieben sein könne<br><br><br></I>"
          ],
          [
           "<I><br>daß ein solcher Brief nicht, ohne daß frühere auch von<br>seiten des Roßhändlers vorangegangen, und ohne daß überhaupt eine frevelhafte<br>und verbrecherische Verbindung, zu Schmiedung neuer Greuel, unter ihnen stattfinden<br>sollte, geschrieben sein könne<br><br><br></I>"
          ],
          [
           "<I><br> auf wenige Worte dieses verständigen Herrn<br><br><br><br><br><br></I>"
          ],
          [
           "<I><br> auf wenige Worte dieses verständigen Herrn<br><br><br><br><br><br></I>"
          ],
          [
           "<I><br>auf welchen Grund er nunmehr den Roßhändler bei dem Kammergericht<br>zu Berlin verklagt wissen wolle<br><br><br><br><br></I>"
          ],
          [
           "<I><br>Lasset uns hingehen, und dem Unglücklichen, wer es auch sei,<br>diesen Becher mit Wein reichen!<br><br><br><br><br></I>"
          ],
          [
           "<I><br>als der Landdrost ihnen mit einem verlegenen Gesicht entgegenkam, und<br>sie bat zurückzubleiben<br><br><br><br><br></I>"
          ],
          [
           "<I><br>daß der Kohlhaas im Wagen sei<br><br><br><br><br><br></I>"
          ],
          [
           "<I><br>kommt, gnädigster Herr, kommt!<br><br><br><br><br><br></I>"
          ],
          [
           "<I><br>laßt uns ehe der Troß nachkömmt in die Meierei schleichen,<br>und den wunderlichen Mann, der darin übernachtet, betrachten!<br><br><br><br><br></I>"
          ],
          [
           "<I><br>daß ihn ja in der Jägertracht, die ihn decke, kein<br>Mensch erkenne!<br><br><br><br><br></I>"
          ],
          [
           "<I><br>daß in der Tat, vermöge einer Veranstaltung, die der Landdrost<br>getroffen, weder der \n Ritter noch der Roßhändler wisse, welche<br>Gesellschaft in der Gegend von Dahme versammelt sei<br><br><br><br></I>"
          ],
          [
           "<I><br>ja, gestrenger Herr, diese Kapsel! mit dieser Kapsel hat es<br>eine wunderliche Bewandtnis! Sieben Monden mögen es etwa sein, genau<br>am Tage nach dem Begräbnis meiner Frau; und von Kohlhaasenbrück,<br>wie Euch vielleicht bekannt sein wird, war ich aufgebrochen, um<br>des Junkers von Tronka, der mir viel Unrecht zugefügt, habhaft<br>zu werden, als um einer Verhandlung willen, die mir unbekannt<br>[...]</I>"
          ],
          [
           "<I><br>und da sie sich gegen Abend ihren Wünschen gemäß vereinigt<br>hatten, so gingen sie, in freundschaftlichem Gespräch, durch die Straßen<br>der Stadt<br><br><br><br></I>"
          ],
          [
           "<I><br>und da sie sich gegen Abend ihren Wünschen gemäß vereinigt<br>hatten, so gingen sie, in freundschaftlichem Gespräch, durch die Straßen<br>der Stadt<br><br><br><br></I>"
          ],
          [
           "<I><br>und da sie sich gegen Abend ihren Wünschen gemäß vereinigt<br>hatten, so gingen sie, in freundschaftlichem Gespräch, durch die Straßen<br>der Stadt<br><br><br><br></I>"
          ],
          [
           "<I><br>und da sie sich gegen Abend ihren Wünschen gemäß vereinigt<br>hatten, so gingen sie, in freundschaftlichem Gespräch, durch die Straßen<br>der Stadt<br><br><br><br></I>"
          ],
          [
           "<I><br>was die wunderliche Frau den Herren sagte<br><br><br><br><br><br></I>"
          ],
          [
           "<I><br>was die wunderliche Frau den Herren sagte<br><br><br><br><br><br></I>"
          ],
          [
           "<I><br>was ihm fehle?<br><br><br><br><br><br></I>"
          ],
          [
           "<I><br>daß er sich dieses entsetzlichen Menschen wegen beruhigen möchte, indem<br>derselbe, seiner Bestimmung gemäß, nach jenem sonderbaren und unbegreiflichen Vorfall,<br>in der Meierei zu Dahme, unter brandenburgischer Bedeckung, zurückgeblieben wäre<br><br><br><br></I>"
          ],
          [
           "<I><br>daß er seiner Frau , wegen des unverantwortlichen Leichtsinns, ihn<br>mit diesem Mann zusammenzubringen, die bittersten Vorwürfe gemacht hätte<br><br><br><br><br></I>"
          ],
          [
           "<I><br>was ihn denn so wunderbar und ungeheuer in der Unterredung<br>mit demselben ergriffen hätte<br><br><br><br><br></I>"
          ],
          [
           "<I><br>daß, falls dieser Zettel einigen Wert für ihn hätte, nichts<br>auf der Welt notwendiger wäre, als dem Kohlhaas diesen Umstand<br>zu verschweigen; indem, sobald derselbe durch eine unvorsichtige Äußerung Kenntnis<br>davon nähme, alle Reichtümer, die er besäße, nicht hinreichen würden,<br>ihn aus den Händen dieses grimmigen, in seiner Rachsucht unersättlichen<br>Kerls zu erkaufen<br></I>"
          ],
          [
           "<I><br>daß man auf ein anderes Mittel denken müsse, und daß<br>es vielleicht durch List, vermöge eines Dritten ganz Unbefangenen, indem<br>der Bösewicht wahrscheinlich, an und für sich, nicht sehr daran<br>hänge, möglich sein würde, sich den Besitz des Zettels, an<br>dem ihm so viel gelegen sei, zu verschaffen<br><br></I>"
          ],
          [
           "<I><br>daß leider allen wahrscheinlichen Berechnungen zufolge, der Roßhändler Dahme bereits<br>verlassen haben, und sich jenseits der Grenze, auf brandenburgischem Grund<br>und Boden befinden müsse , wo das Unternehmen, die Fortschaffung<br>desselben zu hemmen, oder wohl gar rückgängig zu machen, die<br>unangenehmsten und weitläuftigsten, ja solche Schwierigkeiten, die vielleicht gar nicht<br>zu beseitigen wären, veranlassen würde<br></I>"
          ],
          [
           "<I><br>was denn der Zettel enthalte? und durch welchen Zufall befremdlicher<br>und unerklärlicher Art ihm, daß der Inhalt ihn betreffe, bekannt<br>sei<br><br><br><br></I>"
          ],
          [
           "<I><br>daß er ihm mit allen seinen Kräften zu Diensten stehe<br><br><br><br><br><br></I>"
          ],
          [
           "<I><br> daß derselbe, dem, bei seiner Abreise nach Dahme hinterlassenen<br>Befehl gemäß, gleich nach Ankunft des Rechtsgelehrten Zäuner, den der<br>Kurfürst von Brandenburg als Anwalt nach Dresden geschickt hätte, um<br>die Klage desselben, gegen den Junker Wenzel von Tronka, der<br>Rappen wegen, vor Gericht zu bringen, nach Wien abgegangen wäre<br><br></I>"
          ],
          [
           "<I><br>daß es ihm leid täte, wenn er seine Zufriedenheit in<br>dieser Sache verfehlt habe; inzwischen könne er ihm den Beschluß<br>des Staatsrats vorzeigen, worin ihm die Abschickung des Rechtsanwalts, zu<br>dem besagten Zeitpunkt, zur Pflicht gemacht worden wäre<br><br><br></I>"
          ],
          [
           "<I><br>daß im Staatsrat von einer Rücksprache mit dem Doktor Luther,<br>auf keine Weise die Rede gewesen wäre; daß es früherhin<br>vielleicht zweckmäßig gewesen sein möchte, diesen geistlichen Herrn, wegen der<br>Verwendung, die er dem Kohlhaas angedeihen lassen, zu \n berücksichtigen,<br>nicht aber jetzt mehr, nachdem man demselben die Amnestie vor<br>den Augen der ganzen Welt gebrochen, ihn arretiert, und zur<br>[...]</I>"
          ],
          [
           "<I><br>daß dieser Befehl leider um einen Tag zu spät käme,<br>indem der Eibenmayer bereits nach einem Berichte, der eben heute<br>eingelaufen, in seiner Qualität als Anwalt aufgetreten, und mit Einreichung<br>der Klage bei der Wiener Staatskanzlei vorgegangen wäre<br><br><br></I>"
          ],
          [
           "<I><br>daß bereits, seit der Abreise dieses Mannes drei Wochen verstrichen<br>wären, und daß die Instruktion, die er erhalten, ihm eine<br>ungesäumte Abmachung dieses Geschäfts, gleich nach seiner Ankunft in Wien<br>zur Pflicht gemacht hätte<br><br><br></I>"
          ],
          [
           "<I><br>Eine Verzögerung würde in diesem Fall um so unschicklicher gewesen<br>sein, da der brandenburgische Anwalt Zäuner, gegen den Junker Wenzel<br>von Tronka mit dem trotzigsten Nachdruck verfahre, und bereits auf<br>eine vorläufige Zurückziehung der Rappen, aus den Händen des Abdeckers,<br>behufs ihrer künftigen Wiederherstellung bei dem Gerichtshof angetragen, und auch<br>aller Einwendungen der Gegenpart ungeachtet, auch durchgesetzt habe<br></I>"
          ],
          [
           "<I><br>daß der Wechsel, der plötzlich in seiner Brust vorgegangen zu<br>sein scheine, ihn aufs äußerste befremde; daß der sächsischerseits an<br>ihn erlassene Bericht, die Sache des Kohlhaas zu einer Angelegenheit<br>gesamten Heiligen Römischen Reichs gemacht hätte; daß demgemäß er, der<br>Kaiser, als Oberhaupt desselben, sich verpflichtet gesehen hätte, als Ankläger<br>in dieser Sache bei dem Hause Brandenburg aufzutreten; dergestalt, daß<br>[...]</I>"
          ],
          [
           "<I><br>daß der Nachdruck, mit welchem der Anwalt kaiserlicher Majestät verführe,<br>platterdings nicht erlaube, dem Wunsch, den er ihm geäußert, gemäß,<br>von der strengen Vorschrift der Gesetze abzuweichen.<br><br><br><br></I>"
          ],
          [
           "<I><br>daß die ihm vorgelegte Besorgnis in der Tat zu weit<br>ginge, indem die Beschwerde, wegen der dem Kohlhaas in der<br>Amnestie verziehenen Verbrechen ja nicht von ihm, der demselben die<br>Amnestie erteilt, sondern von dem Reichsoberhaupt, das daran auf keine<br>Weise gebunden sei, bei dem Kammergericht zu Berlin anhängig gemacht<br>worden wäre<br></I>"
          ],
          [
           "<I><br>wie notwendig bei den fortdauernden Gewalttätigkeiten des Nagelschmidt, die sich<br>sogar schon, mit unerhörter Dreistigkeit, bis aufs brandenburgische Gebiet erstreckten<br>, die Statuierung eines abschreckenden Beispiels wäre, und bat ihn,<br>falls er dies alles nicht berücksichtigen wolle, sich an des<br>Kaisers Majestät selbst zu wenden, indem, wenn dem Kohlhaas zu<br>Gunsten ein Machtspruch fallen sollte, dies allein auf eine Erklärung<br>[...]</I>"
          ],
          [
           "<I><br>Der Kämmerer warf sich auf Knien vor ihm nieder, und<br>bat ihn, um alles was ihm heilig und teuer sei,<br>ihm zu sagen, was dieser Zettel enthalte?<br><br><br><br></I>"
          ],
          [
           "<I><br>nach einer kurzen Abrede mit mir<br><br><br><br><br><br></I>"
          ],
          [
           "<I><br>daß es ihm jetzo fast leid täte, einen Boten abgeschickt<br>zu haben, um die Weissagung zunichte zu machen<br><br><br><br><br></I>"
          ],
          [
           "<I><br>nein!<br><br><br><br><br><br></I>"
          ],
          [
           "<I><br>ob sie es mir aufschreiben solle<br><br><br><br><br><br></I>"
          ],
          [
           "<I><br>wohlan! dreierlei schreib ich dir auf: den Namen des letzten<br>Regenten deines Hauses, die Jahrszahl, da er sein Reich verlieren,<br>und den Namen dessen, der es, durch die Gewalt der<br>\n Waffen, an sich reißen wird.<br><br><br></I>"
          ],
          [
           "<I><br>mitnichten, Hoheit!<br><br><br><br><br><br></I>"
          ],
          [
           "<I><br>von jenem Mann dort, der, mit dem Federhut, auf der<br>Bank steht, hinter allem Volk, am Kircheneingang, lösest du, wenn<br>es dir beliebt, den Zettel ein!<br><br><br><br></I>"
          ],
          [
           "<I><br>nun, wohlan! so war die Prophezeiung eine alltägliche Gaunerei, und<br>Zeit und Gold, die sie uns gekostet nicht wert!<br><br><br><br><br></I>"
          ],
          [
           "<I><br>ob er denn Versuche gemacht, die Person der Zigeunerin selbst<br>auszuforschen<br><br><br><br><br></I>"
          ],
          [
           "<I><br>ob er ihm in dieser Sache freie Hand lassen wolle<br><br><br><br><br><br></I>"
          ]
         ],
         "hovertemplate": "prop:addressee=Kurfuerst_Sachsen<br>start_point=%{x}<br>prop:speaker=%{y}<br>size=%{marker.size}<br>Annotation=%{customdata[0]}<extra></extra>",
         "legendgroup": "Kurfuerst_Sachsen",
         "marker": {
          "color": "#ab63fa",
          "size": [
           200,
           489,
           563,
           141,
           85,
           231,
           787,
           923,
           318,
           201,
           316,
           316,
           254,
           254,
           108,
           144,
           144,
           247,
           247,
           43,
           43,
           97,
           92,
           93,
           29,
           30,
           120,
           66,
           177,
           2917,
           141,
           141,
           141,
           141,
           41,
           41,
           14,
           239,
           138,
           88,
           365,
           292,
           411,
           137,
           53,
           328,
           247,
           472,
           248,
           225,
           445,
           762,
           194,
           330,
           466,
           142,
           32,
           103,
           5,
           32,
           208,
           19,
           149,
           115,
           75,
           49
          ],
          "sizemode": "area",
          "sizeref": 16.9275,
          "symbol": "circle"
         },
         "mode": "markers",
         "name": "Kurfuerst_Sachsen",
         "orientation": "h",
         "showlegend": true,
         "type": "scatter",
         "x": [
          96341,
          96542,
          97032,
          99659,
          99902,
          100003,
          100368,
          103251,
          133006,
          133693,
          136135,
          136135,
          136670,
          136670,
          137839,
          156705,
          156705,
          156871,
          156871,
          165703,
          165703,
          166012,
          168650,
          169043,
          169286,
          171309,
          171437,
          171701,
          171921,
          173090,
          173757,
          173757,
          173757,
          173757,
          174430,
          174430,
          176118,
          177524,
          177852,
          177992,
          178756,
          179161,
          179772,
          180304,
          181394,
          185463,
          186347,
          186613,
          187447,
          187803,
          188030,
          189575,
          191589,
          191797,
          192155,
          192975,
          194911,
          195764,
          196847,
          197187,
          197369,
          197910,
          197983,
          198850,
          200802,
          201577
         ],
         "xaxis": "x",
         "y": [
          "Luther",
          "Luther",
          "Luther",
          "Graf_Wrede",
          "Graf_Wrede",
          "Graf_Wrede",
          "Prinz_von_Meissen",
          "Hinz_von_Tronka",
          "Kunz_von_Tronka",
          "Graf_Kallheim",
          "Hinz_von_Tronka",
          "Hinz_von_Tronka",
          "Hinz_von_Tronka",
          "Hinz_von_Tronka",
          "Prinz_von_Meissen",
          "Hinz_von_Tronka",
          "Hinz_von_Tronka",
          "Hinz_von_Tronka",
          "Hinz_von_Tronka",
          "Prinz_von_Meissen",
          "Prinz_von_Meissen",
          "Prinz_von_Meissen",
          "Heloise",
          "Saechsische_Landdrost",
          "Saechsische_Landdrost",
          "Heloise",
          "Heloise",
          "Heloise",
          "Jagdjunker",
          "Michael_Kohlhaas",
          "Kurfuerst_Sachsen",
          "Kurfuerst_Sachsen",
          "Kurfuerst_Sachsen",
          "Kurfuerst_Sachsen",
          "Zigeunerin",
          "Zigeunerin",
          "Heloise",
          "Kunz_von_Tronka",
          "Kunz_von_Tronka",
          "Kunz_von_Tronka",
          "Kunz_von_Tronka",
          "Kunz_von_Tronka",
          "Kunz_von_Tronka",
          "Kunz_von_Tronka",
          "Jagdjunker_vom_Stein",
          "Prinz_von_Meissen",
          "Prinz_von_Meissen",
          "Prinz_von_Meissen",
          "Prinz_von_Meissen",
          "Prinz_von_Meissen",
          "Prinz_von_Meissen",
          "Kaiser",
          "Kurfuerst_Brandenburg",
          "Kurfuerst_Brandenburg",
          "Kurfuerst_Brandenburg",
          "Kunz_von_Tronka",
          "Kurfuerst_Brandenburg",
          "Kurfuerst_Brandenburg",
          "Zigeunerin",
          "Zigeunerin",
          "Zigeunerin",
          "Zigeunerin",
          "Zigeunerin",
          "Kurfuerst_Brandenburg",
          "Kunz_von_Tronka",
          "Kunz_von_Tronka"
         ],
         "yaxis": "y"
        },
        {
         "alignmentgroup": "True",
         "bingroup": "x",
         "hovertemplate": "prop:addressee=Kurfuerst_Sachsen<br>start_point=%{x}<br>count=%{y}<extra></extra>",
         "legendgroup": "Kurfuerst_Sachsen",
         "marker": {
          "color": "#ab63fa"
         },
         "name": "Kurfuerst_Sachsen",
         "offsetgroup": "Kurfuerst_Sachsen",
         "opacity": 0.5,
         "showlegend": false,
         "type": "histogram",
         "x": [
          96341,
          96542,
          97032,
          99659,
          99902,
          100003,
          100368,
          103251,
          133006,
          133693,
          136135,
          136135,
          136670,
          136670,
          137839,
          156705,
          156705,
          156871,
          156871,
          165703,
          165703,
          166012,
          168650,
          169043,
          169286,
          171309,
          171437,
          171701,
          171921,
          173090,
          173757,
          173757,
          173757,
          173757,
          174430,
          174430,
          176118,
          177524,
          177852,
          177992,
          178756,
          179161,
          179772,
          180304,
          181394,
          185463,
          186347,
          186613,
          187447,
          187803,
          188030,
          189575,
          191589,
          191797,
          192155,
          192975,
          194911,
          195764,
          196847,
          197187,
          197369,
          197910,
          197983,
          198850,
          200802,
          201577
         ],
         "xaxis": "x3",
         "yaxis": "y3"
        },
        {
         "alignmentgroup": "True",
         "bingroup": "y",
         "hovertemplate": "prop:addressee=Kurfuerst_Sachsen<br>prop:speaker=%{y}<br>count=%{x}<extra></extra>",
         "legendgroup": "Kurfuerst_Sachsen",
         "marker": {
          "color": "#ab63fa"
         },
         "name": "Kurfuerst_Sachsen",
         "offsetgroup": "Kurfuerst_Sachsen",
         "opacity": 0.5,
         "showlegend": false,
         "type": "histogram",
         "xaxis": "x2",
         "y": [
          "Luther",
          "Luther",
          "Luther",
          "Graf_Wrede",
          "Graf_Wrede",
          "Graf_Wrede",
          "Prinz_von_Meissen",
          "Hinz_von_Tronka",
          "Kunz_von_Tronka",
          "Graf_Kallheim",
          "Hinz_von_Tronka",
          "Hinz_von_Tronka",
          "Hinz_von_Tronka",
          "Hinz_von_Tronka",
          "Prinz_von_Meissen",
          "Hinz_von_Tronka",
          "Hinz_von_Tronka",
          "Hinz_von_Tronka",
          "Hinz_von_Tronka",
          "Prinz_von_Meissen",
          "Prinz_von_Meissen",
          "Prinz_von_Meissen",
          "Heloise",
          "Saechsische_Landdrost",
          "Saechsische_Landdrost",
          "Heloise",
          "Heloise",
          "Heloise",
          "Jagdjunker",
          "Michael_Kohlhaas",
          "Kurfuerst_Sachsen",
          "Kurfuerst_Sachsen",
          "Kurfuerst_Sachsen",
          "Kurfuerst_Sachsen",
          "Zigeunerin",
          "Zigeunerin",
          "Heloise",
          "Kunz_von_Tronka",
          "Kunz_von_Tronka",
          "Kunz_von_Tronka",
          "Kunz_von_Tronka",
          "Kunz_von_Tronka",
          "Kunz_von_Tronka",
          "Kunz_von_Tronka",
          "Jagdjunker_vom_Stein",
          "Prinz_von_Meissen",
          "Prinz_von_Meissen",
          "Prinz_von_Meissen",
          "Prinz_von_Meissen",
          "Prinz_von_Meissen",
          "Prinz_von_Meissen",
          "Kaiser",
          "Kurfuerst_Brandenburg",
          "Kurfuerst_Brandenburg",
          "Kurfuerst_Brandenburg",
          "Kunz_von_Tronka",
          "Kurfuerst_Brandenburg",
          "Kurfuerst_Brandenburg",
          "Zigeunerin",
          "Zigeunerin",
          "Zigeunerin",
          "Zigeunerin",
          "Zigeunerin",
          "Kurfuerst_Brandenburg",
          "Kunz_von_Tronka",
          "Kunz_von_Tronka"
         ],
         "yaxis": "y2"
        },
        {
         "customdata": [
          [
           "<I><br>daß er die Klage, die der Roßhändler gegen den Junker,<br>seinen Vetter, bei dem Tribunal eingereicht, nimmermehr durch eine eigenmächtige<br>Verfügung niedergeschlagen haben würde, wenn er sie nicht, durch falsche<br>Angaben verführt, für eine völlig grundlose und nichtsnutzige Plackerei gehalten<br>hätte<br><br></I>"
          ],
          [
           "<I><br>daß, weder nach göttlichen noch menschlichen Gesetzen, der Roßkamm, um<br>dieses Mißgriffs willen, befugt gewesen wäre, eine so ungeheure Selbstrache,<br>als er sich erlaubt, auszuüben<br><br><br><br></I>"
          ],
          [
           "<I><br>den Glanz, der durch eine Verhandlung mit demselben, als \n<br>einer rechtlichen Kriegsgewalt, auf sein gottverdammtes Haupt falle<br><br><br><br><br></I>"
          ],
          [
           "<I><br>die Schmach, die dadurch auf die geheiligte Person des Kurfürsten<br>zurückspringe, schien ihm so unerträglich, daß er, im Feuer der<br>Beredsamkeit, lieber das Äußerste erleben, den Rechtsschluß des rasenden Rebellen<br>erfüllt, und den Junker, seinen Vetter, zur Dickfütterung der Rappen<br>nach Kohlhaasenbrück abgeführt sehen, als den Vorschlag, den der Doktor<br>Luther gemacht, angenommen wissen wollte<br></I>"
          ],
          [
           "<I><br>nachdem er sich den ganzen Verlauf der Sache, von Anfang<br>bis zu Ende, hatte erzählen lassen<br><br><br><br><br></I>"
          ],
          [
           "<I><br> während der Großkanzler sich mit einem verdrießlichen Gesicht vom<br>Sessel erhob, stellte der Freiherr ihm die Verlegenheit, in welcher<br>sich die Herren von Tronka befanden, vor.<br><br><br><br></I>"
          ],
          [
           "<I><br>Habt demnach die Güte den Roßhändler durch eine Wache aus<br>seinem Hause abholen und auf den Markt, wo die Pferde<br>stehen, hinführen zu lassen.<br><br><br><br></I>"
          ],
          [
           "<I><br>beurlaubte er sich von ihm<br><br><br><br><br><br></I>"
          ],
          [
           "<I><br>der Freiherr, der, über das ganze Gesicht rot, ans Fenster<br>getreten war, empfahl sich ihm gleichfalls<br><br><br><br><br></I>"
          ],
          [
           "<I><br>auf einen Brief, in welchem der Präsident, Graf Kallheim, im<br>Namen des Kämmerers, den seine Krankheit abhielt, dem Großkanzler, einige<br>Tage darauf, diesen Vorschlag machte<br><br><br><br></I>"
          ],
          [
           "<I><br>daß er willens sei, falls man seiner, wie es den<br>Anschein habe, bei dem Gericht nicht notwendig bedürfe, die Stadt<br>zu verlassen, und auf einen Zeitraum von acht oder zwölf<br>Tagen, binnen welcher Zeit er wieder zurück zu sein versprach<br><br><br></I>"
          ],
          [
           "<I><br>da Kohlhaas ihn auf seinen, von dem Rechtsfall wohlunterrichteten Advokaten<br>verwies, und mit bescheidener Zudringlichkeit, indem er sich auf acht<br>Tage einzuschränken versprach, auf seine Bitte beharrte<br><br><br><br></I>"
          ]
         ],
         "hovertemplate": "prop:addressee=Graf_Wrede<br>start_point=%{x}<br>prop:speaker=%{y}<br>size=%{marker.size}<br>Annotation=%{customdata[0]}<extra></extra>",
         "legendgroup": "Graf_Wrede",
         "marker": {
          "color": "#FFA15A",
          "size": [
           295,
           178,
           125,
           393,
           91,
           298,
           154,
           26,
           101,
           171,
           233,
           201
          ],
          "sizemode": "area",
          "sizeref": 16.9275,
          "symbol": "circle"
         },
         "mode": "markers",
         "name": "Graf_Wrede",
         "orientation": "h",
         "showlegend": true,
         "type": "scatter",
         "x": [
          98317,
          98671,
          98862,
          98993,
          111231,
          122016,
          122814,
          123993,
          124021,
          131663,
          143838,
          144472
         ],
         "xaxis": "x",
         "y": [
          "Kunz_von_Tronka",
          "Kunz_von_Tronka",
          "Kunz_von_Tronka",
          "Kunz_von_Tronka",
          "Michael_Kohlhaas",
          "Freiherr_von_Wenk",
          "Freiherr_von_Wenk",
          "Michael_Kohlhaas",
          "Freiherr_von_Wenk",
          "Graf_Kallheim",
          "Michael_Kohlhaas",
          "Michael_Kohlhaas"
         ],
         "yaxis": "y"
        },
        {
         "alignmentgroup": "True",
         "bingroup": "x",
         "hovertemplate": "prop:addressee=Graf_Wrede<br>start_point=%{x}<br>count=%{y}<extra></extra>",
         "legendgroup": "Graf_Wrede",
         "marker": {
          "color": "#FFA15A"
         },
         "name": "Graf_Wrede",
         "offsetgroup": "Graf_Wrede",
         "opacity": 0.5,
         "showlegend": false,
         "type": "histogram",
         "x": [
          98317,
          98671,
          98862,
          98993,
          111231,
          122016,
          122814,
          123993,
          124021,
          131663,
          143838,
          144472
         ],
         "xaxis": "x3",
         "yaxis": "y3"
        },
        {
         "alignmentgroup": "True",
         "bingroup": "y",
         "hovertemplate": "prop:addressee=Graf_Wrede<br>prop:speaker=%{y}<br>count=%{x}<extra></extra>",
         "legendgroup": "Graf_Wrede",
         "marker": {
          "color": "#FFA15A"
         },
         "name": "Graf_Wrede",
         "offsetgroup": "Graf_Wrede",
         "opacity": 0.5,
         "showlegend": false,
         "type": "histogram",
         "xaxis": "x2",
         "y": [
          "Kunz_von_Tronka",
          "Kunz_von_Tronka",
          "Kunz_von_Tronka",
          "Kunz_von_Tronka",
          "Michael_Kohlhaas",
          "Freiherr_von_Wenk",
          "Freiherr_von_Wenk",
          "Michael_Kohlhaas",
          "Freiherr_von_Wenk",
          "Graf_Kallheim",
          "Michael_Kohlhaas",
          "Michael_Kohlhaas"
         ],
         "yaxis": "y2"
        },
        {
         "customdata": [
          [
           "<I><br>daß eine so zarte Sorgfalt, als er, bei der Auflösung<br>dieser allerdings mißlichen Sache, für den Ruhm des Herrn zeige,<br>ihn nicht, bei der ersten Veranlassung derselben, erfüllt hätte<br><br><br><br></I>"
          ],
          [
           "<I><br>daß er gar nicht Ursache hätte sich deshalb zu freuen,<br>indem die damit verbundene Maßregel notwendig die wäre, einen Verhaftsbefehl<br>vorher gegen ihn zu erlassen, und wegen Mißbrauchs des landesherrlichen<br>Namens den Prozeß zu machen. Denn wenn Notwendigkeit erfordere, den<br>Schleier vor dem Thron der Gerechtigkeit niederzulassen, über eine Reihe<br>von Freveltaten, die unabsehbar wie sie sich forterzeugt, vor den<br>[...]</I>"
          ],
          [
           "<I><br>das wären die Pferde nicht, die er dem Kohlhaas abgenommen<br><br><br><br><br><br></I>"
          ],
          [
           "<I><br>die schwarzen?<br><br><br><br><br><br></I>"
          ],
          [
           "<I><br>die Rappen, die an die Runge gebunden wären, hätte ihm<br>der Schweinehirte von Hainichen verkauft. Wo der sie herhätte, und<br>ob sie von dem Wilsdrufer Schäfer kämen, das wisse er<br>nicht. Ihm hätte ihm hätte der Gerichtsbote aus Wilsdruf gesagt,<br>daß er sie nach Dresden in das Haus derer von<br>Tronka bringen solle ; aber der Junker, an den er<br>[...]</I>"
          ],
          [
           "<I><br>er wäre mit den Rappen nach Dresden bestellt, um in<br>dem Hause derer von Tronka sein Geld dafür zu empfangen.<br>Was er da vorbrächte, verstände er nicht; und ob sie,<br>vor dem Schweinehirten aus Hainichen, Peter oder Paul besessen hätte,<br>oder der Schäfer aus Wilsdruf, gelte ihm, da sie nicht<br>gestohlen wären, gleich.<br></I>"
          ],
          [
           "<I><br>das Ratsamste wäre, daß man die Rappen kaufe, sie möchten<br>dem Kohlhaas gehören oder nicht<br><br><br><br><br></I>"
          ],
          [
           "<I><br>gnädigster Herr! der Abdecker hat ganz recht; die Pferde, die<br>an seinen Karren gebunden sind, gehören mir!<br><br><br><br><br></I>"
          ],
          [
           "<I><br>daß er sich einen Schinderknecht anschaffen müsse um ihm einen<br>solchen Dienst zu leisten!<br><br><br><br><br></I>"
          ],
          [
           "<I><br>gnädigster Herr! einem Burschen von zwanzig Jahren bedeuten, was er<br>zu tun hat, heißt nicht, ihn verhetzen! Befragt ihn, ob<br>er sich gegen Herkommen und Schicklichkeit mit den Pferden, die<br>an die Karre gebunden sind, befassen will; will er es,<br>nach dem, was ich gesagt, tun: sei's! Meinethalb mag er<br>sie jetzt abludern und häuten!<br></I>"
          ],
          [
           "<I><br>forderte den Kämmerer auf, sich an den Roßhändler selbst zu<br>wenden, den er ihm als einen \n sehr billigen und<br>bescheidenen Mann schilderte<br><br><br><br></I>"
          ],
          [
           "<I><br>worauf der Kurfürst den Kämmerer, der sich halb aufrichtete und<br>seine Hand dankbar ergriff, beruhigte, und nachdem er ihm noch<br>empfohlen hatte, für seine Gesundheit Sorge zu tragen,<br><br><br><br></I>"
          ],
          [
           "<I><br>worüber der Kurfürst schwer entrüstet, den Erzkanzler, nachdem er ihn<br>zur Rede gestellt und befunden, daß die Verwandtschaft desselben mit<br>dem Hause derer von Tronka an allem schuld sei, ohne<br>weiteres, mit mehreren Zeichen seiner Ungnade entsetzte, und den Herrn<br>Heinrich von Geusau zum Erzkanzler ernannte<br><br></I>"
          ],
          [
           "<I><br>daß Kohlhaasenbrück, der Ort, nach welchem der Roßhändler heiße, im<br>Brandenburgischen liege, und daß man die Vollstreckung des über ihn<br>ausgesprochenen Todesurteils für eine Verletzung des Völkerrechts halten würde<br><br><br><br></I>"
          ],
          [
           "<I><br>wo der Kohlhaas sei?<br><br><br><br><br><br></I>"
          ],
          [
           "<I><br>er müsse ihm nur gestehen, daß der Anblick eines nichtigen<br>Zettels, den der Mann in einer bleiernen Kapsel mit sich<br>führe, schuld an dem ganzen unangenehmen Zufall sei, der ihm<br>zugestoßen<br><br><br></I>"
          ],
          [
           "<I><br>Er setzte noch mancherlei zur Erklärung dieses Umstands, das der<br>Kämmerer \n nicht verstand, hinzu und bat ihn, unverzüglich aufzusitzen,<br>nach Dahme zu reiten, und ihm den Zettel, um welchen<br>Preis es immer sei, von demselben zu erhandeln.<br><br><br></I>"
          ],
          [
           "<I><br>daß ihm der Besitz dieses Zettels von der äußersten Wichtigkeit<br>sei<br><br><br><br><br></I>"
          ],
          [
           "<I><br>ob man nicht unmittelbar zu diesem Zweck nach Dahme schicken,<br>und den weiteren Transport des Roßhändlers, vorläufig, bis man des<br>Blattes, auf welche Weise es sei, habhaft geworden, einstellen könne<br><br><br><br></I>"
          ],
          [
           "<I><br>und bat ihn plötzlich, den Jagdjunker vom Stein, einen jungen,<br>rüstigen und gewandten Herrn, dessen er sich öfter schon zu<br>geheimen Geschäften bedient hatte, unter dem Vorwand, daß er ein<br>anderweitiges Geschäft mit ihm abzumachen habe, ins Zimmer zu rufen<br><br><br></I>"
          ],
          [
           "<I><br>er möchte das Zimmer verriegeln, und sich auf das Bett<br>niedersetzen<br><br><br><br><br></I>"
          ],
          [
           "<I><br>Deine Frau hat dir, wie ich höre, schon erzählt, daß<br>der Kurfürst von Brandenburg und ich, am dritten Tage der<br>Zusammenkunft, die wir in Jüterbock hielten, auf eine Zigeunerin trafen<br>; und da der Kurfürst , aufgeweckt wie er von<br>Natur ist, beschloß, den Ruf dieser abenteuerlichen Frau, von deren<br>Kunst, eben bei der Tafel, auf ungebührliche Weise die Rede<br>[...]</I>"
          ],
          [
           "<I><br>daß der Kurfürst von Brandenburg und ich, am dritten Tage<br>der Zusammenkunft, die wir in Jüterbock hielten, auf eine Zigeunerin<br>trafen<br><br><br><br></I>"
          ],
          [
           "<I><br>daß er platterdings kein Mittel dazu sähe, obschon der Gedanke,<br>ihn entbehren zu müssen, oder wohl gar die Wissenschaft davon<br>mit diesem Menschen untergehen zu sehen, ihn dem Jammer und<br>der Verzweiflung nahe brächte<br><br><br></I>"
          ],
          [
           "<I><br>daß das Gubernium, auf einen Befehl, den er unter einem<br>falschen Vorwand an dasselbe erlassen, diesem Weibe vergebens, bis auf<br>den heutigen Tag, in allen Plätzen des Kurfürstentums nachspüre<br><br><br><br></I>"
          ],
          [
           "<I><br>daß sie in Sachsen auszumitteln sei<br><br><br><br><br><br></I>"
          ]
         ],
         "hovertemplate": "prop:addressee=Kunz_von_Tronka<br>start_point=%{x}<br>prop:speaker=%{y}<br>size=%{marker.size}<br>Annotation=%{customdata[0]}<extra></extra>",
         "legendgroup": "Kunz_von_Tronka",
         "marker": {
          "color": "#19d3f3",
          "size": [
           182,
           744,
           58,
           14,
           454,
           312,
           89,
           152,
           89,
           329,
           136,
           278,
           306,
           214,
           20,
           187,
           384,
           67,
           197,
           255,
           67,
           6771,
           133,
           215,
           190,
           35
          ],
          "sizemode": "area",
          "sizeref": 16.9275,
          "symbol": "circle"
         },
         "mode": "markers",
         "name": "Kunz_von_Tronka",
         "orientation": "h",
         "showlegend": true,
         "type": "scatter",
         "x": [
          99476,
          101542,
          117887,
          118517,
          118629,
          120160,
          120982,
          125196,
          126526,
          127410,
          132135,
          133897,
          162732,
          165286,
          177424,
          178102,
          178291,
          178467,
          179516,
          180729,
          193139,
          193326,
          193375,
          200557,
          200903,
          201188
         ],
         "xaxis": "x",
         "y": [
          "Graf_Wrede",
          "Prinz_von_Meissen",
          "Junker_von_Tronka",
          "Abdecker",
          "Abdecker",
          "Abdecker",
          "Junker_von_Tronka",
          "Michael_Kohlhaas",
          "Meister_Himboldt",
          "Meister_Himboldt",
          "Graf_Wrede",
          "Kurfuerst_Sachsen",
          "Kurfuerst_Sachsen",
          "Heinrich_von_Geusau",
          "Kurfuerst_Sachsen",
          "Kurfuerst_Sachsen",
          "Kurfuerst_Sachsen",
          "Kurfuerst_Sachsen",
          "Kurfuerst_Sachsen",
          "Kurfuerst_Sachsen",
          "Kurfuerst_Sachsen",
          "Kurfuerst_Sachsen",
          "Heloise",
          "Kurfuerst_Sachsen",
          "Kurfuerst_Sachsen",
          "Kurfuerst_Sachsen"
         ],
         "yaxis": "y"
        },
        {
         "alignmentgroup": "True",
         "bingroup": "x",
         "hovertemplate": "prop:addressee=Kunz_von_Tronka<br>start_point=%{x}<br>count=%{y}<extra></extra>",
         "legendgroup": "Kunz_von_Tronka",
         "marker": {
          "color": "#19d3f3"
         },
         "name": "Kunz_von_Tronka",
         "offsetgroup": "Kunz_von_Tronka",
         "opacity": 0.5,
         "showlegend": false,
         "type": "histogram",
         "x": [
          99476,
          101542,
          117887,
          118517,
          118629,
          120160,
          120982,
          125196,
          126526,
          127410,
          132135,
          133897,
          162732,
          165286,
          177424,
          178102,
          178291,
          178467,
          179516,
          180729,
          193139,
          193326,
          193375,
          200557,
          200903,
          201188
         ],
         "xaxis": "x3",
         "yaxis": "y3"
        },
        {
         "alignmentgroup": "True",
         "bingroup": "y",
         "hovertemplate": "prop:addressee=Kunz_von_Tronka<br>prop:speaker=%{y}<br>count=%{x}<extra></extra>",
         "legendgroup": "Kunz_von_Tronka",
         "marker": {
          "color": "#19d3f3"
         },
         "name": "Kunz_von_Tronka",
         "offsetgroup": "Kunz_von_Tronka",
         "opacity": 0.5,
         "showlegend": false,
         "type": "histogram",
         "xaxis": "x2",
         "y": [
          "Graf_Wrede",
          "Prinz_von_Meissen",
          "Junker_von_Tronka",
          "Abdecker",
          "Abdecker",
          "Abdecker",
          "Junker_von_Tronka",
          "Michael_Kohlhaas",
          "Meister_Himboldt",
          "Meister_Himboldt",
          "Graf_Wrede",
          "Kurfuerst_Sachsen",
          "Kurfuerst_Sachsen",
          "Heinrich_von_Geusau",
          "Kurfuerst_Sachsen",
          "Kurfuerst_Sachsen",
          "Kurfuerst_Sachsen",
          "Kurfuerst_Sachsen",
          "Kurfuerst_Sachsen",
          "Kurfuerst_Sachsen",
          "Kurfuerst_Sachsen",
          "Kurfuerst_Sachsen",
          "Heloise",
          "Kurfuerst_Sachsen",
          "Kurfuerst_Sachsen",
          "Kurfuerst_Sachsen"
         ],
         "yaxis": "y2"
        },
        {
         "customdata": [
          [
           "<I><br>was er davon halte<br><br><br><br><br><br></I>"
          ],
          [
           "<I><br>er freue sich, daß ein Mann von seiner Rechtschaffenheit und<br>Einsicht mit ihm in dem Mittel, diese Sache zweideutiger Art<br>beizulegen, übereinstimme<br><br><br><br></I>"
          ],
          [
           "<I><br>daß man auf diese Weise aus dem Zauberkreise, in dem<br>man befangen, nicht herauskäme. Mit demselben Rechte könne seinem Neffen,<br>dem Prinzen Friedrich, der Prozeß gemacht werden; denn auch er<br>hätte, auf dem Streifzug sonderbarer Art, den er gegen den<br>Kohlhaas unternommen, seine Instruktion auf mancherlei Weise überschritten : dergestalt,<br>daß wenn man nach der weitläufigen Schar derjenigen frage, die<br>[...]</I>"
          ],
          [
           "<I><br>ja!<br><br><br><br><br><br></I>"
          ],
          [
           "<I><br>er finde sich nach Auflösung seines Kriegshaufens, der ihm erteilten<br>landesherrlichen Freiheit gemäß, in Dresden ein, um seine Klage, der<br>Rappen wegen, gegen den Junker Wenzel von Tronka vor Gericht<br>zu bringen.<br><br><br></I>"
          ],
          [
           "<I><br> was es mit einem von dem Gericht zu Lützen<br>ausgestellten Schein, den er darin fand, über die zugunsten des<br>kurfürstlichen Schatzes gemachte Deposition für eine Bewandtnis \n habe<br><br><br><br></I>"
          ],
          [
           "<I><br>Gnädigster Herr! tut, was Ihr wollt! Gebt mir Euer Wort,<br>die Wache, sobald ich es wünsche, wieder aufzuheben: so habe<br>ich gegen diese Maßregel nichts einzuwenden!<br><br><br><br></I>"
          ],
          [
           "<I><br>Der Roßhändler hatte gleichwohl wenig Mühe, die Grundlosigkeit der gegen<br>ihn auf die Bahn gebrachten Beschuldigungen, befriedigend auseinanderzulegen.<br><br><br><br><br></I>"
          ],
          [
           "<I><br>Kohlhaas bat, ohne irgendeinen Grund anzugeben, den Prinzen von Meißen,<br>als Chef des Guberniums, um Pässe auf acht Tage nach<br>Kohlhaasenbrück, und zurück.<br><br><br><br></I>"
          ],
          [
           "<I><br>daß er am zwölften Tage, fest entschlossen, die Gesinnung der<br>Regierung gegen ihn, sie möge sein, welche man wolle, zur<br>Sprache zu bringen, sich niedersetzte, und das Gubernium von neuem<br>in einer dringenden Vorstellung um die erforderten Pässe bat.<br><br><br></I>"
          ],
          [
           "<I><br>wie es mit der Abfertigung des Gerichtsrats Eibenmayer stünde, den<br>man, als Anwalt in der Sache des Kohlhaas, nach Wien<br>zu schicken gesonnen gewesen wäre, um kaiserlicher Majestät daselbst die<br>Beschwerde wegen gebrochenen, kaiserlichen Landfriedens, vorzulegen<br><br><br></I>"
          ],
          [
           "<I><br>indem er seines Wissens erklärt hätte, die definitive Abreise des<br>Eibenmayer, wegen vorher notwendiger Rücksprache mit dem Doktor Luther, der<br>dem Kohlhaas die Amnestie ausgewirkt, einem näheren und bestimmteren Befehl<br>vorbehalten zu wollen.<br><br><br></I>"
          ],
          [
           "<I><br>Der Kurfürst bat den Prinzen, deshalb das Erforderliche unverzüglich durch<br>einen Expressen, an ihn zu erlassen.<br><br><br><br><br></I>"
          ],
          [
           "<I><br>das Versehen, den Eibenmayer abgeschickt zu haben, wäre auch in<br>der Tat nicht groß<br><br><br><br><br></I>"
          ],
          [
           "<I><br>daß derselbe vorläufig, bis auf weiteren Befehl, in seiner Eigenschaft<br>als Ankläger zu Wien nicht aufträte<br><br><br><br><br></I>"
          ],
          [
           "<I><br>wie dies überall in so kurzer Zeit möglich sei<br><br><br><br><br><br></I>"
          ],
          [
           "<I><br>gleichviel! es hätte nichts zu bedeuten!<br><br><br><br><br><br></I>"
          ],
          [
           "<I><br>wie es sonst in Dresden stehe? und was in seiner<br>Abwesenheit vorgefallen sei?<br><br><br><br><br></I>"
          ],
          [
           "<I><br>Er forderte ihm noch an demselben Tage schriftlich, unter dem<br>Vorwande, daß er die Sache, ihrer politischen Wichtigkeit wegen, selbst<br>bearbeiten wolle, die sämtlichen Kohlhaasischen \n Akten ab<br><br><br><br></I>"
          ]
         ],
         "hovertemplate": "prop:addressee=Prinz_von_Meissen<br>start_point=%{x}<br>prop:speaker=%{y}<br>size=%{marker.size}<br>Annotation=%{customdata[0]}<extra></extra>",
         "legendgroup": "Prinz_von_Meissen",
         "marker": {
          "color": "#FF6692",
          "size": [
           18,
           147,
           618,
           3,
           210,
           177,
           162,
           304,
           289,
           248,
           260,
           240,
           337,
           82,
           106,
           46,
           40,
           77,
           191
          ],
          "sizemode": "area",
          "sizeref": 16.9275,
          "symbol": "circle"
         },
         "mode": "markers",
         "name": "Prinz_von_Meissen",
         "orientation": "h",
         "showlegend": true,
         "type": "scatter",
         "x": [
          100294,
          101290,
          102501,
          108693,
          108714,
          109089,
          110310,
          138934,
          144845,
          146391,
          185176,
          185894,
          187087,
          187107,
          187214,
          187748,
          188525,
          188615,
          188823
         ],
         "xaxis": "x",
         "y": [
          "Kurfuerst_Sachsen",
          "Kunz_von_Tronka",
          "Graf_Kallheim",
          "Michael_Kohlhaas",
          "Michael_Kohlhaas",
          "Michael_Kohlhaas",
          "Michael_Kohlhaas",
          "Michael_Kohlhaas",
          "Michael_Kohlhaas",
          "Michael_Kohlhaas",
          "Kurfuerst_Sachsen",
          "Kurfuerst_Sachsen",
          "Kurfuerst_Sachsen",
          "Kurfuerst_Sachsen",
          "Kurfuerst_Sachsen",
          "Kurfuerst_Sachsen",
          "Kurfuerst_Sachsen",
          "Kurfuerst_Sachsen",
          "Kurfuerst_Sachsen"
         ],
         "yaxis": "y"
        },
        {
         "alignmentgroup": "True",
         "bingroup": "x",
         "hovertemplate": "prop:addressee=Prinz_von_Meissen<br>start_point=%{x}<br>count=%{y}<extra></extra>",
         "legendgroup": "Prinz_von_Meissen",
         "marker": {
          "color": "#FF6692"
         },
         "name": "Prinz_von_Meissen",
         "offsetgroup": "Prinz_von_Meissen",
         "opacity": 0.5,
         "showlegend": false,
         "type": "histogram",
         "x": [
          100294,
          101290,
          102501,
          108693,
          108714,
          109089,
          110310,
          138934,
          144845,
          146391,
          185176,
          185894,
          187087,
          187107,
          187214,
          187748,
          188525,
          188615,
          188823
         ],
         "xaxis": "x3",
         "yaxis": "y3"
        },
        {
         "alignmentgroup": "True",
         "bingroup": "y",
         "hovertemplate": "prop:addressee=Prinz_von_Meissen<br>prop:speaker=%{y}<br>count=%{x}<extra></extra>",
         "legendgroup": "Prinz_von_Meissen",
         "marker": {
          "color": "#FF6692"
         },
         "name": "Prinz_von_Meissen",
         "offsetgroup": "Prinz_von_Meissen",
         "opacity": 0.5,
         "showlegend": false,
         "type": "histogram",
         "xaxis": "x2",
         "y": [
          "Kurfuerst_Sachsen",
          "Kunz_von_Tronka",
          "Graf_Kallheim",
          "Michael_Kohlhaas",
          "Michael_Kohlhaas",
          "Michael_Kohlhaas",
          "Michael_Kohlhaas",
          "Michael_Kohlhaas",
          "Michael_Kohlhaas",
          "Michael_Kohlhaas",
          "Kurfuerst_Sachsen",
          "Kurfuerst_Sachsen",
          "Kurfuerst_Sachsen",
          "Kurfuerst_Sachsen",
          "Kurfuerst_Sachsen",
          "Kurfuerst_Sachsen",
          "Kurfuerst_Sachsen",
          "Kurfuerst_Sachsen",
          "Kurfuerst_Sachsen"
         ],
         "yaxis": "y2"
        },
        {
         "customdata": [
          [
           "<I><br>daß er die verschiedenen Meinungen, die sie ihm vorgetragen, bis<br>zur nächsten Sitzung des Staatsrats bei sich selbst überlegen würde<br><br><br><br><br></I>"
          ],
          [
           "<I><br>er sei der bejammernswürdigste Mensch von der Welt<br><br><br><br><br><br></I>"
          ],
          [
           "<I><br>er sei der bejammernswürdigste Mensch von der Welt<br><br><br><br><br><br></I>"
          ],
          [
           "<I><br> daß er von dem ganzen verwünschten Handel, der ihn<br>ins Unglück stürze, nur wenig gewußt, und daß der Schloßvogt<br>und der Verwalter an allem schuld wären, indem sie die<br>Pferde, ohne sein entferntestes Wissen und Wollen, bei der Ernte<br>gebraucht, und durch unmäßige Anstrengungen, zum Teil auf ihren eigenen<br>Feldern, zugrunde gerichtet hätten<br></I>"
          ],
          [
           "<I><br> daß er von dem ganzen verwünschten Handel, der ihn<br>ins Unglück stürze, nur wenig gewußt, und daß der Schloßvogt<br>und der Verwalter an allem schuld wären, indem sie die<br>Pferde, ohne sein entferntestes Wissen und Wollen, bei der Ernte<br>gebraucht, und durch unmäßige Anstrengungen, zum Teil auf ihren eigenen<br>Feldern, zugrunde gerichtet hätten<br></I>"
          ],
          [
           "<I><br>Er bat ihn nicht durch Kränkungen und Beleidigungen in das<br>Übel mutwillig zurückzustürzen.<br><br><br><br><br></I>"
          ],
          [
           "<I><br>Er bat ihn nicht durch Kränkungen und Beleidigungen in das<br>Übel mutwillig zurückzustürzen.<br><br><br><br><br></I>"
          ],
          [
           "<I><br>von dem er nur soeben erst erstanden sei<br><br><br><br><br><br></I>"
          ],
          [
           "<I><br>von dem er nur soeben erst erstanden sei<br><br><br><br><br><br></I>"
          ]
         ],
         "hovertemplate": "prop:addressee=Hinz_von_Tronka<br>start_point=%{x}<br>prop:speaker=%{y}<br>size=%{marker.size}<br>Annotation=%{customdata[0]}<extra></extra>",
         "legendgroup": "Hinz_von_Tronka",
         "marker": {
          "color": "#B6E880",
          "size": [
           132,
           50,
           50,
           339,
           339,
           172,
           172,
           40,
           40
          ],
          "sizemode": "area",
          "sizeref": 16.9275,
          "symbol": "circle"
         },
         "mode": "markers",
         "name": "Hinz_von_Tronka",
         "orientation": "h",
         "showlegend": true,
         "type": "scatter",
         "x": [
          104364,
          113011,
          113011,
          113081,
          113081,
          113422,
          113422,
          113526,
          113526
         ],
         "xaxis": "x",
         "y": [
          "Kurfuerst_Sachsen",
          "Junker_von_Tronka",
          "Junker_von_Tronka",
          "Junker_von_Tronka",
          "Junker_von_Tronka",
          "Junker_von_Tronka",
          "Junker_von_Tronka",
          "Junker_von_Tronka",
          "Junker_von_Tronka"
         ],
         "yaxis": "y"
        },
        {
         "alignmentgroup": "True",
         "bingroup": "x",
         "hovertemplate": "prop:addressee=Hinz_von_Tronka<br>start_point=%{x}<br>count=%{y}<extra></extra>",
         "legendgroup": "Hinz_von_Tronka",
         "marker": {
          "color": "#B6E880"
         },
         "name": "Hinz_von_Tronka",
         "offsetgroup": "Hinz_von_Tronka",
         "opacity": 0.5,
         "showlegend": false,
         "type": "histogram",
         "x": [
          104364,
          113011,
          113011,
          113081,
          113081,
          113422,
          113422,
          113526,
          113526
         ],
         "xaxis": "x3",
         "yaxis": "y3"
        },
        {
         "alignmentgroup": "True",
         "bingroup": "y",
         "hovertemplate": "prop:addressee=Hinz_von_Tronka<br>prop:speaker=%{y}<br>count=%{x}<extra></extra>",
         "legendgroup": "Hinz_von_Tronka",
         "marker": {
          "color": "#B6E880"
         },
         "name": "Hinz_von_Tronka",
         "offsetgroup": "Hinz_von_Tronka",
         "opacity": 0.5,
         "showlegend": false,
         "type": "histogram",
         "xaxis": "x2",
         "y": [
          "Kurfuerst_Sachsen",
          "Junker_von_Tronka",
          "Junker_von_Tronka",
          "Junker_von_Tronka",
          "Junker_von_Tronka",
          "Junker_von_Tronka",
          "Junker_von_Tronka",
          "Junker_von_Tronka",
          "Junker_von_Tronka"
         ],
         "yaxis": "y2"
        },
        {
         "customdata": [
          [
           "<I><br>er möchte dem Prinzen von Meißen auf dem Gubernium melden,<br>daß er, Kohlhaas der Roßhändler, da wäre<br><br><br><br><br></I>"
          ],
          [
           "<I><br>was dies zu bedeuten habe?<br><br><br><br><br><br></I>"
          ],
          [
           "<I><br>daß sie daselbst schlafen würden.<br><br><br><br><br><br></I>"
          ],
          [
           "<I><br>es wäre gleichviel, wenn sie nur da wären; und er<br>möchte den Landsknechten, sobald er auf den Flur käme, Licht<br>hin setzen, damit sie sehen könnten.<br><br><br><br></I>"
          ]
         ],
         "hovertemplate": "prop:addressee=Thomas<br>start_point=%{x}<br>prop:speaker=%{y}<br>size=%{marker.size}<br>Annotation=%{customdata[0]}<extra></extra>",
         "legendgroup": "Thomas",
         "marker": {
          "color": "#FF97FF",
          "size": [
           99,
           26,
           33,
           147
          ],
          "sizemode": "area",
          "sizeref": 16.9275,
          "symbol": "circle"
         },
         "mode": "markers",
         "name": "Thomas",
         "orientation": "h",
         "showlegend": true,
         "type": "scatter",
         "x": [
          107502,
          147184,
          147568,
          147664
         ],
         "xaxis": "x",
         "y": [
          "Michael_Kohlhaas",
          "Michael_Kohlhaas",
          "Zwei_Landsknechte",
          "Michael_Kohlhaas"
         ],
         "yaxis": "y"
        },
        {
         "alignmentgroup": "True",
         "bingroup": "x",
         "hovertemplate": "prop:addressee=Thomas<br>start_point=%{x}<br>count=%{y}<extra></extra>",
         "legendgroup": "Thomas",
         "marker": {
          "color": "#FF97FF"
         },
         "name": "Thomas",
         "offsetgroup": "Thomas",
         "opacity": 0.5,
         "showlegend": false,
         "type": "histogram",
         "x": [
          107502,
          147184,
          147568,
          147664
         ],
         "xaxis": "x3",
         "yaxis": "y3"
        },
        {
         "alignmentgroup": "True",
         "bingroup": "y",
         "hovertemplate": "prop:addressee=Thomas<br>prop:speaker=%{y}<br>count=%{x}<extra></extra>",
         "legendgroup": "Thomas",
         "marker": {
          "color": "#FF97FF"
         },
         "name": "Thomas",
         "offsetgroup": "Thomas",
         "opacity": 0.5,
         "showlegend": false,
         "type": "histogram",
         "xaxis": "x2",
         "y": [
          "Michael_Kohlhaas",
          "Michael_Kohlhaas",
          "Zwei_Landsknechte",
          "Michael_Kohlhaas"
         ],
         "yaxis": "y2"
        },
        {
         "customdata": [
          [
           "<I><br>daß der Mann, in dessen Hause sie zurückblieben, frei wäre,<br>und daß sie ihm bloß zu seinem Schutz, wenn er<br>ausginge, folgen sollten<br><br><br><br></I>"
          ]
         ],
         "hovertemplate": "prop:addressee=Drei_Landsknechte<br>start_point=%{x}<br>prop:speaker=%{y}<br>size=%{marker.size}<br>Annotation=%{customdata[0]}<extra></extra>",
         "legendgroup": "Drei_Landsknechte",
         "marker": {
          "color": "#FECB52",
          "size": [
           131
          ],
          "sizemode": "area",
          "sizeref": 16.9275,
          "symbol": "circle"
         },
         "mode": "markers",
         "name": "Drei_Landsknechte",
         "orientation": "h",
         "showlegend": true,
         "type": "scatter",
         "x": [
          110613
         ],
         "xaxis": "x",
         "y": [
          "Prinz_von_Meissen"
         ],
         "yaxis": "y"
        },
        {
         "alignmentgroup": "True",
         "bingroup": "x",
         "hovertemplate": "prop:addressee=Drei_Landsknechte<br>start_point=%{x}<br>count=%{y}<extra></extra>",
         "legendgroup": "Drei_Landsknechte",
         "marker": {
          "color": "#FECB52"
         },
         "name": "Drei_Landsknechte",
         "offsetgroup": "Drei_Landsknechte",
         "opacity": 0.5,
         "showlegend": false,
         "type": "histogram",
         "x": [
          110613
         ],
         "xaxis": "x3",
         "yaxis": "y3"
        },
        {
         "alignmentgroup": "True",
         "bingroup": "y",
         "hovertemplate": "prop:addressee=Drei_Landsknechte<br>prop:speaker=%{y}<br>count=%{x}<extra></extra>",
         "legendgroup": "Drei_Landsknechte",
         "marker": {
          "color": "#FECB52"
         },
         "name": "Drei_Landsknechte",
         "offsetgroup": "Drei_Landsknechte",
         "opacity": 0.5,
         "showlegend": false,
         "type": "histogram",
         "xaxis": "x2",
         "y": [
          "Prinz_von_Meissen"
         ],
         "yaxis": "y2"
        },
        {
         "customdata": [
          [
           "<I><br>Am andern Tage schrieben die Herren Hinz und Kunz, die<br>in der Gegend der eingeäscherten Tronkenburg Güter besaßen, auf Ansuchen<br>des Junkers, ihres Vetters, weil doch nichts anders übrigblieb, an<br>ihre dort befindlichen Verwalter und Pächter, um Nachricht über die<br>an jenem unglücklichen Tage abhanden gekommenen und seitdem gänzlich verschollenen<br>Rappen einzuziehn.<br></I>"
          ],
          [
           "<I><br>Am andern Tage schrieben die Herren Hinz und Kunz, die<br>in der Gegend der eingeäscherten Tronkenburg Güter besaßen, auf Ansuchen<br>des Junkers, ihres Vetters, weil doch nichts anders übrigblieb, an<br>ihre dort befindlichen Verwalter und Pächter, um Nachricht über die<br>an jenem unglücklichen Tage abhanden gekommenen und seitdem gänzlich verschollenen<br>Rappen einzuziehn.<br></I>"
          ]
         ],
         "hovertemplate": "prop:addressee=Verwalter_und_Paechter<br>start_point=%{x}<br>prop:speaker=%{y}<br>size=%{marker.size}<br>Annotation=%{customdata[0]}<extra></extra>",
         "legendgroup": "Verwalter_und_Paechter",
         "marker": {
          "color": "#636efa",
          "size": [
           364,
           364
          ],
          "sizemode": "area",
          "sizeref": 16.9275,
          "symbol": "circle"
         },
         "mode": "markers",
         "name": "Verwalter_und_Paechter",
         "orientation": "h",
         "showlegend": true,
         "type": "scatter",
         "x": [
          113595,
          113595
         ],
         "xaxis": "x",
         "y": [
          "Hinz_von_Tronka",
          "Hinz_von_Tronka"
         ],
         "yaxis": "y"
        },
        {
         "alignmentgroup": "True",
         "bingroup": "x",
         "hovertemplate": "prop:addressee=Verwalter_und_Paechter<br>start_point=%{x}<br>count=%{y}<extra></extra>",
         "legendgroup": "Verwalter_und_Paechter",
         "marker": {
          "color": "#636efa"
         },
         "name": "Verwalter_und_Paechter",
         "offsetgroup": "Verwalter_und_Paechter",
         "opacity": 0.5,
         "showlegend": false,
         "type": "histogram",
         "x": [
          113595,
          113595
         ],
         "xaxis": "x3",
         "yaxis": "y3"
        },
        {
         "alignmentgroup": "True",
         "bingroup": "y",
         "hovertemplate": "prop:addressee=Verwalter_und_Paechter<br>prop:speaker=%{y}<br>count=%{x}<extra></extra>",
         "legendgroup": "Verwalter_und_Paechter",
         "marker": {
          "color": "#636efa"
         },
         "name": "Verwalter_und_Paechter",
         "offsetgroup": "Verwalter_und_Paechter",
         "opacity": 0.5,
         "showlegend": false,
         "type": "histogram",
         "xaxis": "x2",
         "y": [
          "Hinz_von_Tronka",
          "Hinz_von_Tronka"
         ],
         "yaxis": "y2"
        },
        {
         "customdata": [
          [
           "<I><br>Herr Wenzel von Tronka erließ demnach, als Erb-, Lehns- und<br>Gerichtsherr, ein Schreiben an die Gerichte zu Wilsdruf, worin er<br>dieselben, nach einer weitläufigen Beschreibung der Rappen dienstfreundlichst ersuchte, den<br>dermaligen Aufenthalt derselben zu erforschen, und den Eigner, wer er<br>auch sei, aufzufordern und anzuhalten, sie, gegen reichliche Wiedererstattung aller<br>Kosten, in den Ställen des Kämmerers, Herrn Kunz, zu Dresden<br>[...]</I>"
          ],
          [
           "<I><br>die ihm anvertraut und durch einen Unfall abhanden gekommen wären<br><br><br><br><br><br></I>"
          ]
         ],
         "hovertemplate": "prop:addressee=Gericht_zu_Wilsdruf<br>start_point=%{x}<br>prop:speaker=%{y}<br>size=%{marker.size}<br>Annotation=%{customdata[0]}<extra></extra>",
         "legendgroup": "Gericht_zu_Wilsdruf",
         "marker": {
          "color": "#EF553B",
          "size": [
           528,
           80
          ],
          "sizemode": "area",
          "sizeref": 16.9275,
          "symbol": "circle"
         },
         "mode": "markers",
         "name": "Gericht_zu_Wilsdruf",
         "orientation": "h",
         "showlegend": true,
         "type": "scatter",
         "x": [
          116031,
          116217
         ],
         "xaxis": "x",
         "y": [
          "Junker_von_Tronka",
          "Junker_von_Tronka"
         ],
         "yaxis": "y"
        },
        {
         "alignmentgroup": "True",
         "bingroup": "x",
         "hovertemplate": "prop:addressee=Gericht_zu_Wilsdruf<br>start_point=%{x}<br>count=%{y}<extra></extra>",
         "legendgroup": "Gericht_zu_Wilsdruf",
         "marker": {
          "color": "#EF553B"
         },
         "name": "Gericht_zu_Wilsdruf",
         "offsetgroup": "Gericht_zu_Wilsdruf",
         "opacity": 0.5,
         "showlegend": false,
         "type": "histogram",
         "x": [
          116031,
          116217
         ],
         "xaxis": "x3",
         "yaxis": "y3"
        },
        {
         "alignmentgroup": "True",
         "bingroup": "y",
         "hovertemplate": "prop:addressee=Gericht_zu_Wilsdruf<br>prop:speaker=%{y}<br>count=%{x}<extra></extra>",
         "legendgroup": "Gericht_zu_Wilsdruf",
         "marker": {
          "color": "#EF553B"
         },
         "name": "Gericht_zu_Wilsdruf",
         "offsetgroup": "Gericht_zu_Wilsdruf",
         "opacity": 0.5,
         "showlegend": false,
         "type": "histogram",
         "xaxis": "x2",
         "y": [
          "Junker_von_Tronka",
          "Junker_von_Tronka"
         ],
         "yaxis": "y2"
        },
        {
         "customdata": [
          [
           "<I><br>daß die Pferde schon, um derenthalben der Staat wanke, an<br>den Schinder gekommen wären<br><br><br><br><br></I>"
          ],
          [
           "<I><br>schmeißt den Mordwüterich doch gleich zu Boden!<br><br><br><br><br><br></I>"
          ]
         ],
         "hovertemplate": "prop:addressee=Schaulustige_in_Dresden<br>start_point=%{x}<br>prop:speaker=%{y}<br>size=%{marker.size}<br>Annotation=%{customdata[0]}<extra></extra>",
         "legendgroup": "Schaulustige_in_Dresden",
         "marker": {
          "color": "#00cc96",
          "size": [
           85,
           47
          ],
          "sizemode": "area",
          "sizeref": 16.9275,
          "symbol": "circle"
         },
         "mode": "markers",
         "name": "Schaulustige_in_Dresden",
         "orientation": "h",
         "showlegend": true,
         "type": "scatter",
         "x": [
          117640,
          128394
         ],
         "xaxis": "x",
         "y": [
          "Schaulustige_in_Dresden",
          "Meister_Himboldt"
         ],
         "yaxis": "y"
        },
        {
         "alignmentgroup": "True",
         "bingroup": "x",
         "hovertemplate": "prop:addressee=Schaulustige_in_Dresden<br>start_point=%{x}<br>count=%{y}<extra></extra>",
         "legendgroup": "Schaulustige_in_Dresden",
         "marker": {
          "color": "#00cc96"
         },
         "name": "Schaulustige_in_Dresden",
         "offsetgroup": "Schaulustige_in_Dresden",
         "opacity": 0.5,
         "showlegend": false,
         "type": "histogram",
         "x": [
          117640,
          128394
         ],
         "xaxis": "x3",
         "yaxis": "y3"
        },
        {
         "alignmentgroup": "True",
         "bingroup": "y",
         "hovertemplate": "prop:addressee=Schaulustige_in_Dresden<br>prop:speaker=%{y}<br>count=%{x}<extra></extra>",
         "legendgroup": "Schaulustige_in_Dresden",
         "marker": {
          "color": "#00cc96"
         },
         "name": "Schaulustige_in_Dresden",
         "offsetgroup": "Schaulustige_in_Dresden",
         "opacity": 0.5,
         "showlegend": false,
         "type": "histogram",
         "xaxis": "x2",
         "y": [
          "Schaulustige_in_Dresden",
          "Meister_Himboldt"
         ],
         "yaxis": "y2"
        },
        {
         "customdata": [
          [
           "<I><br>ob das die Rappen wären, die der Schäfer von Wilsdruf<br>an sich gebracht, und der Junker Wenzel von Tronka, dem<br>sie gehörten, bei den Gerichten daselbst requiriert hätte?<br><br><br><br></I>"
          ],
          [
           "<I><br>daß er sie nach Dresden in das Haus derer von<br>Tronka bringen solle<br><br><br><br><br></I>"
          ],
          [
           "<I><br>daß er der Kämmerer, Kunz von Tronka, wäre; die Rappen<br>aber, die er an sich bringen solle, müßten dem Junker,<br>seinem Vetter, gehören; von einem Knecht, der bei Gelegenheit des<br>Brandes aus der Tronkenburg entwichen, an den Schäfer zu Wilsdruf\n<br>gekommen, und ursprünglich zwei dem Roßhändler Kohlhaas zugehörige Pferde sein!<br><br></I>"
          ],
          [
           "<I><br>ob er davon nichts wisse? Und ob sie der Schweinehirte<br>von Hainichen nicht vielleicht, auf welchen Umstand alles ankomme, von<br>dem Wilsdrufer Schäfer, oder von einem Dritten, der sie seinerseits<br>von demselben gekauft, erstanden hätte?<br><br><br></I>"
          ]
         ],
         "hovertemplate": "prop:addressee=Abdecker<br>start_point=%{x}<br>prop:speaker=%{y}<br>size=%{marker.size}<br>Annotation=%{customdata[0]}<extra></extra>",
         "legendgroup": "Abdecker",
         "marker": {
          "color": "#ab63fa",
          "size": [
           168,
           66,
           322,
           233
          ],
          "sizemode": "area",
          "sizeref": 16.9275,
          "symbol": "circle"
         },
         "mode": "markers",
         "name": "Abdecker",
         "orientation": "h",
         "showlegend": true,
         "type": "scatter",
         "x": [
          118203,
          118963,
          119420,
          119835
         ],
         "xaxis": "x",
         "y": [
          "Kunz_von_Tronka",
          "Gerichtsbote_aus_Wilsdruf",
          "Kunz_von_Tronka",
          "Kunz_von_Tronka"
         ],
         "yaxis": "y"
        },
        {
         "alignmentgroup": "True",
         "bingroup": "x",
         "hovertemplate": "prop:addressee=Abdecker<br>start_point=%{x}<br>count=%{y}<extra></extra>",
         "legendgroup": "Abdecker",
         "marker": {
          "color": "#ab63fa"
         },
         "name": "Abdecker",
         "offsetgroup": "Abdecker",
         "opacity": 0.5,
         "showlegend": false,
         "type": "histogram",
         "x": [
          118203,
          118963,
          119420,
          119835
         ],
         "xaxis": "x3",
         "yaxis": "y3"
        },
        {
         "alignmentgroup": "True",
         "bingroup": "y",
         "hovertemplate": "prop:addressee=Abdecker<br>prop:speaker=%{y}<br>count=%{x}<extra></extra>",
         "legendgroup": "Abdecker",
         "marker": {
          "color": "#ab63fa"
         },
         "name": "Abdecker",
         "offsetgroup": "Abdecker",
         "opacity": 0.5,
         "showlegend": false,
         "type": "histogram",
         "xaxis": "x2",
         "y": [
          "Kunz_von_Tronka",
          "Gerichtsbote_aus_Wilsdruf",
          "Kunz_von_Tronka",
          "Kunz_von_Tronka"
         ],
         "yaxis": "y2"
        },
        {
         "customdata": [
          [
           "<I><br>bat er ihn, bei dem Großkanzler, Grafen Wrede, abzusteigen, und<br>durch dessen Vermittelung den Kohlhaas zur Besichtigung der Rappen herbeizuschaffen<br><br><br><br><br></I>"
          ],
          [
           "<I><br>daß er in einem doppelten Irrtum stünde; einmal, wenn er<br>glaube, daß der in Rede stehende Umstand anders nicht, als<br>durch eine Okular-Inspektion des Kohlhaas auszumitteln sei; und dann, wenn<br>er sich einbilde, er, der Kanzler, sei befugt, den Kohlhaas<br>durch eine Wache, wohin es dem Junker beliebe, abführen zu<br>lassen<br></I>"
          ],
          [
           "<I><br>Dabei stellte er ihm den Roßhändler vor, und bat ihn<br>sich in dieser Sache an ihn selbst zu wenden.<br><br><br><br><br></I>"
          ],
          [
           "<I><br>daß er bereit wäre, ihm zur Besichtigung der Rappen, die<br>der Abdecker in die Stadt gebracht, auf den Markt zu<br>folgen.<br><br><br><br></I>"
          ],
          [
           "<I><br>da der Roßkamm ihm auf ehrerbietige Weise sein Vorhaben, bei<br>dem Verwalter in Lockewitz zu Mittag zu speisen, und den<br>Wunsch, die Landsknechte deren er dabei nicht bedürfe zurücklassen zu<br>dürfen, vorgetragen hatte<br><br><br></I>"
          ],
          [
           "<I><br>ob er ein Gefangener wäre, und ob er glauben solle,<br>daß die ihm feierlich, vor den Augen der ganzen Welt<br>angelobte Amnestie gebrochen sei<br><br><br><br></I>"
          ]
         ],
         "hovertemplate": "prop:addressee=Freiherr_von_Wenk<br>start_point=%{x}<br>prop:speaker=%{y}<br>size=%{marker.size}<br>Annotation=%{customdata[0]}<extra></extra>",
         "legendgroup": "Freiherr_von_Wenk",
         "marker": {
          "color": "#FFA15A",
          "size": [
           147,
           316,
           182,
           117,
           213,
           137
          ],
          "sizemode": "area",
          "sizeref": 16.9275,
          "symbol": "circle"
         },
         "mode": "markers",
         "name": "Freiherr_von_Wenk",
         "orientation": "h",
         "showlegend": true,
         "type": "scatter",
         "x": [
          121572,
          123039,
          123357,
          123627,
          152655,
          153421
         ],
         "xaxis": "x",
         "y": [
          "Kunz_von_Tronka",
          "Graf_Wrede",
          "Graf_Wrede",
          "Michael_Kohlhaas",
          "Michael_Kohlhaas",
          "Michael_Kohlhaas"
         ],
         "yaxis": "y"
        },
        {
         "alignmentgroup": "True",
         "bingroup": "x",
         "hovertemplate": "prop:addressee=Freiherr_von_Wenk<br>start_point=%{x}<br>count=%{y}<extra></extra>",
         "legendgroup": "Freiherr_von_Wenk",
         "marker": {
          "color": "#FFA15A"
         },
         "name": "Freiherr_von_Wenk",
         "offsetgroup": "Freiherr_von_Wenk",
         "opacity": 0.5,
         "showlegend": false,
         "type": "histogram",
         "x": [
          121572,
          123039,
          123357,
          123627,
          152655,
          153421
         ],
         "xaxis": "x3",
         "yaxis": "y3"
        },
        {
         "alignmentgroup": "True",
         "bingroup": "y",
         "hovertemplate": "prop:addressee=Freiherr_von_Wenk<br>prop:speaker=%{y}<br>count=%{x}<extra></extra>",
         "legendgroup": "Freiherr_von_Wenk",
         "marker": {
          "color": "#FFA15A"
         },
         "name": "Freiherr_von_Wenk",
         "offsetgroup": "Freiherr_von_Wenk",
         "opacity": 0.5,
         "showlegend": false,
         "type": "histogram",
         "xaxis": "x2",
         "y": [
          "Kunz_von_Tronka",
          "Graf_Wrede",
          "Graf_Wrede",
          "Michael_Kohlhaas",
          "Michael_Kohlhaas",
          "Michael_Kohlhaas"
         ],
         "yaxis": "y2"
        },
        {
         "customdata": [
          [
           "<I><br>befahl er einem Knecht, die Pferde abzulösen und nach Hause<br>zu führen!<br><br><br><br><br></I>"
          ],
          [
           "<I><br>du rührst die Schindmähren nicht an!<br><br><br><br><br><br></I>"
          ],
          [
           "<I><br>ob er irgend Anstand nähme, seinen Befehl zu erfüllen, und<br>die Pferde, die dem Kohlhaas gehörten, loszubinden, und nach Hause<br>zu führen<br><br><br><br></I>"
          ]
         ],
         "hovertemplate": "prop:addressee=Ein_Knecht_von_Kunz<br>start_point=%{x}<br>prop:speaker=%{y}<br>size=%{marker.size}<br>Annotation=%{customdata[0]}<extra></extra>",
         "legendgroup": "Ein_Knecht_von_Kunz",
         "marker": {
          "color": "#19d3f3",
          "size": [
           70,
           36,
           135
          ],
          "sizemode": "area",
          "sizeref": 16.9275,
          "symbol": "circle"
         },
         "mode": "markers",
         "name": "Ein_Knecht_von_Kunz",
         "orientation": "h",
         "showlegend": true,
         "type": "scatter",
         "x": [
          125814,
          126296,
          127820
         ],
         "xaxis": "x",
         "y": [
          "Kunz_von_Tronka",
          "Meister_Himboldt",
          "Kunz_von_Tronka"
         ],
         "yaxis": "y"
        },
        {
         "alignmentgroup": "True",
         "bingroup": "x",
         "hovertemplate": "prop:addressee=Ein_Knecht_von_Kunz<br>start_point=%{x}<br>count=%{y}<extra></extra>",
         "legendgroup": "Ein_Knecht_von_Kunz",
         "marker": {
          "color": "#19d3f3"
         },
         "name": "Ein_Knecht_von_Kunz",
         "offsetgroup": "Ein_Knecht_von_Kunz",
         "opacity": 0.5,
         "showlegend": false,
         "type": "histogram",
         "x": [
          125814,
          126296,
          127820
         ],
         "xaxis": "x3",
         "yaxis": "y3"
        },
        {
         "alignmentgroup": "True",
         "bingroup": "y",
         "hovertemplate": "prop:addressee=Ein_Knecht_von_Kunz<br>prop:speaker=%{y}<br>count=%{x}<extra></extra>",
         "legendgroup": "Ein_Knecht_von_Kunz",
         "marker": {
          "color": "#19d3f3"
         },
         "name": "Ein_Knecht_von_Kunz",
         "offsetgroup": "Ein_Knecht_von_Kunz",
         "opacity": 0.5,
         "showlegend": false,
         "type": "histogram",
         "xaxis": "x2",
         "y": [
          "Kunz_von_Tronka",
          "Meister_Himboldt",
          "Kunz_von_Tronka"
         ],
         "yaxis": "y2"
        },
        {
         "customdata": [
          [
           "<I><br>Der Kämmerer ief über die Häupter der Ritter, die ihn<br>umringten, hinweg, nach der Wache;<br><br><br><br><br></I>"
          ]
         ],
         "hovertemplate": "prop:addressee=Wache_von_Dresden<br>start_point=%{x}<br>prop:speaker=%{y}<br>size=%{marker.size}<br>Annotation=%{customdata[0]}<extra></extra>",
         "legendgroup": "Wache_von_Dresden",
         "marker": {
          "color": "#FF6692",
          "size": [
           185
          ],
          "sizemode": "area",
          "sizeref": 16.9275,
          "symbol": "circle"
         },
         "mode": "markers",
         "name": "Wache_von_Dresden",
         "orientation": "h",
         "showlegend": true,
         "type": "scatter",
         "x": [
          126616
         ],
         "xaxis": "x",
         "y": [
          "Kunz_von_Tronka"
         ],
         "yaxis": "y"
        },
        {
         "alignmentgroup": "True",
         "bingroup": "x",
         "hovertemplate": "prop:addressee=Wache_von_Dresden<br>start_point=%{x}<br>count=%{y}<extra></extra>",
         "legendgroup": "Wache_von_Dresden",
         "marker": {
          "color": "#FF6692"
         },
         "name": "Wache_von_Dresden",
         "offsetgroup": "Wache_von_Dresden",
         "opacity": 0.5,
         "showlegend": false,
         "type": "histogram",
         "x": [
          126616
         ],
         "xaxis": "x3",
         "yaxis": "y3"
        },
        {
         "alignmentgroup": "True",
         "bingroup": "y",
         "hovertemplate": "prop:addressee=Wache_von_Dresden<br>prop:speaker=%{y}<br>count=%{x}<extra></extra>",
         "legendgroup": "Wache_von_Dresden",
         "marker": {
          "color": "#FF6692"
         },
         "name": "Wache_von_Dresden",
         "offsetgroup": "Wache_von_Dresden",
         "opacity": 0.5,
         "showlegend": false,
         "type": "histogram",
         "xaxis": "x2",
         "y": [
          "Kunz_von_Tronka"
         ],
         "yaxis": "y2"
        },
        {
         "customdata": [
          [
           "<I><br>forderte er denselben unter einer kurzen Darstellung der schändlichen Aufhetzerei,<br>die sich die Bürger der Stadt erlaubten, auf, den Rädelsführer,<br>Meister Himboldt, in Verhaft zu nehmen.<br><br><br><br></I>"
          ]
         ],
         "hovertemplate": "prop:addressee=Dresdener_Offizier<br>start_point=%{x}<br>prop:speaker=%{y}<br>size=%{marker.size}<br>Annotation=%{customdata[0]}<extra></extra>",
         "legendgroup": "Dresdener_Offizier",
         "marker": {
          "color": "#B6E880",
          "size": [
           186
          ],
          "sizemode": "area",
          "sizeref": 16.9275,
          "symbol": "circle"
         },
         "mode": "markers",
         "name": "Dresdener_Offizier",
         "orientation": "h",
         "showlegend": true,
         "type": "scatter",
         "x": [
          126939
         ],
         "xaxis": "x",
         "y": [
          "Kunz_von_Tronka"
         ],
         "yaxis": "y"
        },
        {
         "alignmentgroup": "True",
         "bingroup": "x",
         "hovertemplate": "prop:addressee=Dresdener_Offizier<br>start_point=%{x}<br>count=%{y}<extra></extra>",
         "legendgroup": "Dresdener_Offizier",
         "marker": {
          "color": "#B6E880"
         },
         "name": "Dresdener_Offizier",
         "offsetgroup": "Dresdener_Offizier",
         "opacity": 0.5,
         "showlegend": false,
         "type": "histogram",
         "x": [
          126939
         ],
         "xaxis": "x3",
         "yaxis": "y3"
        },
        {
         "alignmentgroup": "True",
         "bingroup": "y",
         "hovertemplate": "prop:addressee=Dresdener_Offizier<br>prop:speaker=%{y}<br>count=%{x}<extra></extra>",
         "legendgroup": "Dresdener_Offizier",
         "marker": {
          "color": "#B6E880"
         },
         "name": "Dresdener_Offizier",
         "offsetgroup": "Dresdener_Offizier",
         "opacity": 0.5,
         "showlegend": false,
         "type": "histogram",
         "xaxis": "x2",
         "y": [
          "Kunz_von_Tronka"
         ],
         "yaxis": "y2"
        },
        {
         "customdata": [
          [
           "<I><br>daß er seinen, die Rappen auf seinen Befehl losbindenden Knecht<br>von dem Karren hinweggeschleudert und mißhandelt hätte<br><br><br><br><br></I>"
          ]
         ],
         "hovertemplate": "prop:addressee=Meister_Himboldt<br>start_point=%{x}<br>prop:speaker=%{y}<br>size=%{marker.size}<br>Annotation=%{customdata[0]}<extra></extra>",
         "legendgroup": "Meister_Himboldt",
         "marker": {
          "color": "#FF97FF",
          "size": [
           118
          ],
          "sizemode": "area",
          "sizeref": 16.9275,
          "symbol": "circle"
         },
         "mode": "markers",
         "name": "Meister_Himboldt",
         "orientation": "h",
         "showlegend": true,
         "type": "scatter",
         "x": [
          127186
         ],
         "xaxis": "x",
         "y": [
          "Kunz_von_Tronka"
         ],
         "yaxis": "y"
        },
        {
         "alignmentgroup": "True",
         "bingroup": "x",
         "hovertemplate": "prop:addressee=Meister_Himboldt<br>start_point=%{x}<br>count=%{y}<extra></extra>",
         "legendgroup": "Meister_Himboldt",
         "marker": {
          "color": "#FF97FF"
         },
         "name": "Meister_Himboldt",
         "offsetgroup": "Meister_Himboldt",
         "opacity": 0.5,
         "showlegend": false,
         "type": "histogram",
         "x": [
          127186
         ],
         "xaxis": "x3",
         "yaxis": "y3"
        },
        {
         "alignmentgroup": "True",
         "bingroup": "y",
         "hovertemplate": "prop:addressee=Meister_Himboldt<br>prop:speaker=%{y}<br>count=%{x}<extra></extra>",
         "legendgroup": "Meister_Himboldt",
         "marker": {
          "color": "#FF97FF"
         },
         "name": "Meister_Himboldt",
         "offsetgroup": "Meister_Himboldt",
         "opacity": 0.5,
         "showlegend": false,
         "type": "histogram",
         "xaxis": "x2",
         "y": [
          "Kunz_von_Tronka"
         ],
         "yaxis": "y2"
        },
        {
         "customdata": [
          [
           "<I><br>die der Offizier der kurfürstlichen Trabanten zu seiner Unterstützung herbeirief<br><br><br><br><br><br></I>"
          ]
         ],
         "hovertemplate": "prop:addressee=Dresdener_Landsknechte<br>start_point=%{x}<br>prop:speaker=%{y}<br>size=%{marker.size}<br>Annotation=%{customdata[0]}<extra></extra>",
         "legendgroup": "Dresdener_Landsknechte",
         "marker": {
          "color": "#FECB52",
          "size": [
           80
          ],
          "sizemode": "area",
          "sizeref": 16.9275,
          "symbol": "circle"
         },
         "mode": "markers",
         "name": "Dresdener_Landsknechte",
         "orientation": "h",
         "showlegend": true,
         "type": "scatter",
         "x": [
          129164
         ],
         "xaxis": "x",
         "y": [
          "Dresdener_Offizier"
         ],
         "yaxis": "y"
        },
        {
         "alignmentgroup": "True",
         "bingroup": "x",
         "hovertemplate": "prop:addressee=Dresdener_Landsknechte<br>start_point=%{x}<br>count=%{y}<extra></extra>",
         "legendgroup": "Dresdener_Landsknechte",
         "marker": {
          "color": "#FECB52"
         },
         "name": "Dresdener_Landsknechte",
         "offsetgroup": "Dresdener_Landsknechte",
         "opacity": 0.5,
         "showlegend": false,
         "type": "histogram",
         "x": [
          129164
         ],
         "xaxis": "x3",
         "yaxis": "y3"
        },
        {
         "alignmentgroup": "True",
         "bingroup": "y",
         "hovertemplate": "prop:addressee=Dresdener_Landsknechte<br>prop:speaker=%{y}<br>count=%{x}<extra></extra>",
         "legendgroup": "Dresdener_Landsknechte",
         "marker": {
          "color": "#FECB52"
         },
         "name": "Dresdener_Landsknechte",
         "offsetgroup": "Dresdener_Landsknechte",
         "opacity": 0.5,
         "showlegend": false,
         "type": "histogram",
         "xaxis": "x2",
         "y": [
          "Dresdener_Offizier"
         ],
         "yaxis": "y2"
        },
        {
         "customdata": [
          [
           "<I><br>den Präsidenten selbst aber bat er, in einer kurzen, wenig<br>verbindlichen Antwort, ihn mit Privataufträgen in dieser Sache zu verschonen<br><br><br><br><br></I>"
          ],
          [
           "<I><br>ob das Tribunal nicht befugt sei, ohne weitere Rücksprache mit<br>dem Kohlhaas, auf den Umstand, daß die Pferde nicht wiederherzustellen<br>wären, zu fußen, und demgemäß das Urteil, gleich, als ob<br>sie tot wären, auf bloße Vergütigung derselben in Geld abzufassen<br><br><br></I>"
          ],
          [
           "<I><br>daß er mit dem Großkanzler selbst darüber sprechen wolle<br><br><br><br><br><br></I>"
          ]
         ],
         "hovertemplate": "prop:addressee=Graf_Kallheim<br>start_point=%{x}<br>prop:speaker=%{y}<br>size=%{marker.size}<br>Annotation=%{customdata[0]}<extra></extra>",
         "legendgroup": "Graf_Kallheim",
         "marker": {
          "color": "#636efa",
          "size": [
           135,
           256,
           56
          ],
          "sizemode": "area",
          "sizeref": 16.9275,
          "symbol": "circle"
         },
         "mode": "markers",
         "name": "Graf_Kallheim",
         "orientation": "h",
         "showlegend": true,
         "type": "scatter",
         "x": [
          131994,
          133413,
          133956
         ],
         "xaxis": "x",
         "y": [
          "Graf_Wrede",
          "Kurfuerst_Sachsen",
          "Kurfuerst_Sachsen"
         ],
         "yaxis": "y"
        },
        {
         "alignmentgroup": "True",
         "bingroup": "x",
         "hovertemplate": "prop:addressee=Graf_Kallheim<br>start_point=%{x}<br>count=%{y}<extra></extra>",
         "legendgroup": "Graf_Kallheim",
         "marker": {
          "color": "#636efa"
         },
         "name": "Graf_Kallheim",
         "offsetgroup": "Graf_Kallheim",
         "opacity": 0.5,
         "showlegend": false,
         "type": "histogram",
         "x": [
          131994,
          133413,
          133956
         ],
         "xaxis": "x3",
         "yaxis": "y3"
        },
        {
         "alignmentgroup": "True",
         "bingroup": "y",
         "hovertemplate": "prop:addressee=Graf_Kallheim<br>prop:speaker=%{y}<br>count=%{x}<extra></extra>",
         "legendgroup": "Graf_Kallheim",
         "marker": {
          "color": "#636efa"
         },
         "name": "Graf_Kallheim",
         "offsetgroup": "Graf_Kallheim",
         "opacity": 0.5,
         "showlegend": false,
         "type": "histogram",
         "xaxis": "x2",
         "y": [
          "Graf_Wrede",
          "Kurfuerst_Sachsen",
          "Kurfuerst_Sachsen"
         ],
         "yaxis": "y2"
        },
        {
         "customdata": [
          [
           "<I><br>der Mundschenk, Herr Hinz, ging so weit, einigen Jagdjunkern und<br>Hofherren, die sich nach der Tafel im Vorzimmer des Kurfürsten<br>um ihn versammelt hatten, die Auflösung des Räuberhaufens in Lützen<br>als eine verwünschte Spiegelfechterei darzustellen<br><br><br></I>"
          ],
          [
           "<I><br>daß der Haufen, nach wie vor, noch in den Wäldern<br>des Kurfürstentums vorhanden sei, und nur auf den Wink des<br>Roßhändlers warte, um daraus von neuem mit Feuer und Schwert<br>hervorzubrechen<br><br><br></I>"
          ]
         ],
         "hovertemplate": "prop:addressee=Jagdjunker_und_Hofherren<br>start_point=%{x}<br>prop:speaker=%{y}<br>size=%{marker.size}<br>Annotation=%{customdata[0]}<extra></extra>",
         "legendgroup": "Jagdjunker_und_Hofherren",
         "marker": {
          "color": "#EF553B",
          "size": [
           246,
           185
          ],
          "sizemode": "area",
          "sizeref": 16.9275,
          "symbol": "circle"
         },
         "mode": "markers",
         "name": "Jagdjunker_und_Hofherren",
         "orientation": "h",
         "showlegend": true,
         "type": "scatter",
         "x": [
          136930,
          137322
         ],
         "xaxis": "x",
         "y": [
          "Hinz_von_Tronka",
          "Hinz_von_Tronka"
         ],
         "yaxis": "y"
        },
        {
         "alignmentgroup": "True",
         "bingroup": "x",
         "hovertemplate": "prop:addressee=Jagdjunker_und_Hofherren<br>start_point=%{x}<br>count=%{y}<extra></extra>",
         "legendgroup": "Jagdjunker_und_Hofherren",
         "marker": {
          "color": "#EF553B"
         },
         "name": "Jagdjunker_und_Hofherren",
         "offsetgroup": "Jagdjunker_und_Hofherren",
         "opacity": 0.5,
         "showlegend": false,
         "type": "histogram",
         "x": [
          136930,
          137322
         ],
         "xaxis": "x3",
         "yaxis": "y3"
        },
        {
         "alignmentgroup": "True",
         "bingroup": "y",
         "hovertemplate": "prop:addressee=Jagdjunker_und_Hofherren<br>prop:speaker=%{y}<br>count=%{x}<extra></extra>",
         "legendgroup": "Jagdjunker_und_Hofherren",
         "marker": {
          "color": "#EF553B"
         },
         "name": "Jagdjunker_und_Hofherren",
         "offsetgroup": "Jagdjunker_und_Hofherren",
         "opacity": 0.5,
         "showlegend": false,
         "type": "histogram",
         "xaxis": "x2",
         "y": [
          "Hinz_von_Tronka",
          "Hinz_von_Tronka"
         ],
         "yaxis": "y2"
        },
        {
         "customdata": [
          [
           "<I><br>Kohlhaas, auf seinen von dem Prinzen angenommenen Vorschlag, setzte sich<br>nieder, und erließ ein Sendschreiben an den Nagelschmidt, worin er<br>das Vorgeben desselben, zur Aufrechterhaltung der an ihm und seinen<br>Haufen gebrochenen Amnestie aufgestanden zu sein, für eine schändliche und<br>ruchlose Erfindung erklärte;<br><br></I>"
          ],
          [
           "<I><br>daß er bei seiner Ankunft in Dresden weder eingesteckt, noch<br>einer Wache übergeben, auch seine Rechtssache ganz so, wie er<br>es wünsche, im Fortgange sei; und ihn wegen der, nach<br>Publikation der Amnestie im \n Erzgebirge ausgeübten Mordbrennereien, zur Warnung<br>des um ihn versammelten Gesindels, der ganzen Rache der Gesetze<br>preisgab<br></I>"
          ],
          [
           "<I><br>Zuvörderst daß er seinen Vorschlag, die Oberanführung seines Haufens im<br>Altenburgischen betreffend, \n annähme; daß er demgemäß, zur Befreiung aus<br>der vorläufigen Haft, in welcher er, mit seinen fünf Kindern<br>gehalten werde, ihm einen Wagen mit zwei Pferden nach der<br>Neustadt bei Dresden schicken solle; daß er auch, rascheren Fortkommens<br>wegen, noch eines Gespannes von zwei Pferden auf der Straße<br>[...]</I>"
          ]
         ],
         "hovertemplate": "prop:addressee=Nagelschmidt<br>start_point=%{x}<br>prop:speaker=%{y}<br>size=%{marker.size}<br>Annotation=%{customdata[0]}<extra></extra>",
         "legendgroup": "Nagelschmidt",
         "marker": {
          "color": "#00cc96",
          "size": [
           311,
           329,
           1251
          ],
          "sizemode": "area",
          "sizeref": 16.9275,
          "symbol": "circle"
         },
         "mode": "markers",
         "name": "Nagelschmidt",
         "orientation": "h",
         "showlegend": true,
         "type": "scatter",
         "x": [
          140024,
          140347,
          159353
         ],
         "xaxis": "x",
         "y": [
          "Michael_Kohlhaas",
          "Michael_Kohlhaas",
          "Michael_Kohlhaas"
         ],
         "yaxis": "y"
        },
        {
         "alignmentgroup": "True",
         "bingroup": "x",
         "hovertemplate": "prop:addressee=Nagelschmidt<br>start_point=%{x}<br>count=%{y}<extra></extra>",
         "legendgroup": "Nagelschmidt",
         "marker": {
          "color": "#00cc96"
         },
         "name": "Nagelschmidt",
         "offsetgroup": "Nagelschmidt",
         "opacity": 0.5,
         "showlegend": false,
         "type": "histogram",
         "x": [
          140024,
          140347,
          159353
         ],
         "xaxis": "x3",
         "yaxis": "y3"
        },
        {
         "alignmentgroup": "True",
         "bingroup": "y",
         "hovertemplate": "prop:addressee=Nagelschmidt<br>prop:speaker=%{y}<br>count=%{x}<extra></extra>",
         "legendgroup": "Nagelschmidt",
         "marker": {
          "color": "#00cc96"
         },
         "name": "Nagelschmidt",
         "offsetgroup": "Nagelschmidt",
         "opacity": 0.5,
         "showlegend": false,
         "type": "histogram",
         "xaxis": "x2",
         "y": [
          "Michael_Kohlhaas",
          "Michael_Kohlhaas",
          "Michael_Kohlhaas"
         ],
         "yaxis": "y2"
        },
        {
         "customdata": [
          [
           "<I><br>daß er zu seinem Freund, dem Amtmann nach Lockewitz fahren<br>wolle, der ihn vor einigen Tagen mit seinen beiden Knaben<br>zu sich aufs Land geladen<br><br><br><br></I>"
          ],
          [
           "<I><br>ob er glaube, daß seine Person in dem Hause eines<br>Freundes, der sich erboten, ihn auf einen Tag an seiner<br>Tafel zu bewirten, nicht sicher sei<br><br><br><br></I>"
          ],
          [
           "<I><br>daß ihm der Prinz von Meißen, bei seiner Ankunft in<br>Dresden, freigestellt, ob er sich der Wache bedienen wolle oder<br>nicht<br><br><br><br></I>"
          ],
          [
           "<I><br>so erzählte der Roßhändler ihm den Vorfall, der die Einsetzung<br>der Wache in seinem Hause veranlaßt hatte<br><br><br><br><br></I>"
          ],
          [
           "<I><br>daß er dies tun wolle<br><br><br><br><br><br></I>"
          ],
          [
           "<I><br>daß es mit dem Befehl, den er ihm, in bezug<br>auf den Mann gegeben, sein Bewenden hätte, und daß derselbe<br>anders nicht, als in Begleitung sechs berittener Landsknechte die Stadt<br>verlassen dürfe.<br><br><br></I>"
          ]
         ],
         "hovertemplate": "prop:addressee=Gubernial_Offiziant<br>start_point=%{x}<br>prop:speaker=%{y}<br>size=%{marker.size}<br>Annotation=%{customdata[0]}<extra></extra>",
         "legendgroup": "Gubernial_Offiziant",
         "marker": {
          "color": "#ab63fa",
          "size": [
           142,
           141,
           121,
           104,
           21,
           192
          ],
          "sizemode": "area",
          "sizeref": 16.9275,
          "symbol": "circle"
         },
         "mode": "markers",
         "name": "Gubernial_Offiziant",
         "orientation": "h",
         "showlegend": true,
         "type": "scatter",
         "x": [
          150165,
          150548,
          150913,
          151200,
          151801,
          153208
         ],
         "xaxis": "x",
         "y": [
          "Michael_Kohlhaas",
          "Michael_Kohlhaas",
          "Michael_Kohlhaas",
          "Michael_Kohlhaas",
          "Michael_Kohlhaas",
          "Freiherr_von_Wenk"
         ],
         "yaxis": "y"
        },
        {
         "alignmentgroup": "True",
         "bingroup": "x",
         "hovertemplate": "prop:addressee=Gubernial_Offiziant<br>start_point=%{x}<br>count=%{y}<extra></extra>",
         "legendgroup": "Gubernial_Offiziant",
         "marker": {
          "color": "#ab63fa"
         },
         "name": "Gubernial_Offiziant",
         "offsetgroup": "Gubernial_Offiziant",
         "opacity": 0.5,
         "showlegend": false,
         "type": "histogram",
         "x": [
          150165,
          150548,
          150913,
          151200,
          151801,
          153208
         ],
         "xaxis": "x3",
         "yaxis": "y3"
        },
        {
         "alignmentgroup": "True",
         "bingroup": "y",
         "hovertemplate": "prop:addressee=Gubernial_Offiziant<br>prop:speaker=%{y}<br>count=%{x}<extra></extra>",
         "legendgroup": "Gubernial_Offiziant",
         "marker": {
          "color": "#ab63fa"
         },
         "name": "Gubernial_Offiziant",
         "offsetgroup": "Gubernial_Offiziant",
         "opacity": 0.5,
         "showlegend": false,
         "type": "histogram",
         "xaxis": "x2",
         "y": [
          "Michael_Kohlhaas",
          "Michael_Kohlhaas",
          "Michael_Kohlhaas",
          "Michael_Kohlhaas",
          "Michael_Kohlhaas",
          "Freiherr_von_Wenk"
         ],
         "yaxis": "y2"
        },
        {
         "customdata": [
          [
           "<I><br>die Kerle über manche Dinge, die man gern von ihnen<br>gehört hätte, von den Rittern, die bei ihm waren, befragt<br>wurden<br><br><br><br></I>"
          ]
         ],
         "hovertemplate": "prop:addressee=Nagelschmidts_Knechte<br>start_point=%{x}<br>prop:speaker=%{y}<br>size=%{marker.size}<br>Annotation=%{customdata[0]}<extra></extra>",
         "legendgroup": "Nagelschmidts_Knechte",
         "marker": {
          "color": "#FFA15A",
          "size": [
           116
          ],
          "sizemode": "area",
          "sizeref": 16.9275,
          "symbol": "circle"
         },
         "mode": "markers",
         "name": "Nagelschmidts_Knechte",
         "orientation": "h",
         "showlegend": true,
         "type": "scatter",
         "x": [
          152283
         ],
         "xaxis": "x",
         "y": [
          "Gubernial_Ritter"
         ],
         "yaxis": "y"
        },
        {
         "alignmentgroup": "True",
         "bingroup": "x",
         "hovertemplate": "prop:addressee=Nagelschmidts_Knechte<br>start_point=%{x}<br>count=%{y}<extra></extra>",
         "legendgroup": "Nagelschmidts_Knechte",
         "marker": {
          "color": "#FFA15A"
         },
         "name": "Nagelschmidts_Knechte",
         "offsetgroup": "Nagelschmidts_Knechte",
         "opacity": 0.5,
         "showlegend": false,
         "type": "histogram",
         "x": [
          152283
         ],
         "xaxis": "x3",
         "yaxis": "y3"
        },
        {
         "alignmentgroup": "True",
         "bingroup": "y",
         "hovertemplate": "prop:addressee=Nagelschmidts_Knechte<br>prop:speaker=%{y}<br>count=%{x}<extra></extra>",
         "legendgroup": "Nagelschmidts_Knechte",
         "marker": {
          "color": "#FFA15A"
         },
         "name": "Nagelschmidts_Knechte",
         "offsetgroup": "Nagelschmidts_Knechte",
         "opacity": 0.5,
         "showlegend": false,
         "type": "histogram",
         "xaxis": "x2",
         "y": [
          "Gubernial_Ritter"
         ],
         "yaxis": "y2"
        },
        {
         "customdata": [
          [
           "<I><br>wo der Schloßhauptmann ihn aufforderte, das Schreiben, als sei nichts<br>vorgefallen, dem Roßhändler zu übergeben;<br><br><br><br><br></I>"
          ],
          [
           "<I><br>daß er frei sein, und die Strafe die er verwirkt,<br>ihm erlassen sein solle<br><br><br><br><br></I>"
          ],
          [
           "<I><br>er beschied ihn, in einigen Stunden, wieder zu sich<br><br><br><br><br><br></I>"
          ],
          [
           "<I><br>wo er wohnte<br><br><br><br><br><br></I>"
          ],
          [
           "<I><br>wo er ihm, in bezug auf seinen Herrn, seinen Beschluß<br>eröffnen wolle<br><br><br><br><br></I>"
          ],
          [
           "<I><br>er schärfte ihm ein, denselben wohl in acht zu nehmen.<br><br><br><br><br><br></I>"
          ]
         ],
         "hovertemplate": "prop:addressee=Knecht_Nagelschmidts<br>start_point=%{x}<br>prop:speaker=%{y}<br>size=%{marker.size}<br>Annotation=%{customdata[0]}<extra></extra>",
         "legendgroup": "Knecht_Nagelschmidts",
         "marker": {
          "color": "#19d3f3",
          "size": [
           245,
           73,
           153,
           12,
           68,
           96
          ],
          "sizemode": "area",
          "sizeref": 16.9275,
          "symbol": "circle"
         },
         "mode": "markers",
         "name": "Knecht_Nagelschmidts",
         "orientation": "h",
         "showlegend": true,
         "type": "scatter",
         "x": [
          157863,
          157949,
          158837,
          158924,
          158992,
          160667
         ],
         "xaxis": "x",
         "y": [
          "Freiherr_von_Wenk",
          "Freiherr_von_Wenk",
          "Michael_Kohlhaas",
          "Michael_Kohlhaas",
          "Michael_Kohlhaas",
          "Michael_Kohlhaas"
         ],
         "yaxis": "y"
        },
        {
         "alignmentgroup": "True",
         "bingroup": "x",
         "hovertemplate": "prop:addressee=Knecht_Nagelschmidts<br>start_point=%{x}<br>count=%{y}<extra></extra>",
         "legendgroup": "Knecht_Nagelschmidts",
         "marker": {
          "color": "#19d3f3"
         },
         "name": "Knecht_Nagelschmidts",
         "offsetgroup": "Knecht_Nagelschmidts",
         "opacity": 0.5,
         "showlegend": false,
         "type": "histogram",
         "x": [
          157863,
          157949,
          158837,
          158924,
          158992,
          160667
         ],
         "xaxis": "x3",
         "yaxis": "y3"
        },
        {
         "alignmentgroup": "True",
         "bingroup": "y",
         "hovertemplate": "prop:addressee=Knecht_Nagelschmidts<br>prop:speaker=%{y}<br>count=%{x}<extra></extra>",
         "legendgroup": "Knecht_Nagelschmidts",
         "marker": {
          "color": "#19d3f3"
         },
         "name": "Knecht_Nagelschmidts",
         "offsetgroup": "Knecht_Nagelschmidts",
         "opacity": 0.5,
         "showlegend": false,
         "type": "histogram",
         "xaxis": "x2",
         "y": [
          "Freiherr_von_Wenk",
          "Freiherr_von_Wenk",
          "Michael_Kohlhaas",
          "Michael_Kohlhaas",
          "Michael_Kohlhaas",
          "Michael_Kohlhaas"
         ],
         "yaxis": "y2"
        },
        {
         "customdata": [
          [
           "<I><br>ja!<br><br><br><br><br><br></I>"
          ],
          [
           "<I><br>nein!<br><br><br><br><br><br></I>"
          ]
         ],
         "hovertemplate": "prop:addressee=Tribunal<br>start_point=%{x}<br>prop:speaker=%{y}<br>size=%{marker.size}<br>Annotation=%{customdata[0]}<extra></extra>",
         "legendgroup": "Tribunal",
         "marker": {
          "color": "#FF6692",
          "size": [
           3,
           5
          ],
          "sizemode": "area",
          "sizeref": 16.9275,
          "symbol": "circle"
         },
         "mode": "markers",
         "name": "Tribunal",
         "orientation": "h",
         "showlegend": true,
         "type": "scatter",
         "x": [
          161715,
          161855
         ],
         "xaxis": "x",
         "y": [
          "Michael_Kohlhaas",
          "Michael_Kohlhaas"
         ],
         "yaxis": "y"
        },
        {
         "alignmentgroup": "True",
         "bingroup": "x",
         "hovertemplate": "prop:addressee=Tribunal<br>start_point=%{x}<br>count=%{y}<extra></extra>",
         "legendgroup": "Tribunal",
         "marker": {
          "color": "#FF6692"
         },
         "name": "Tribunal",
         "offsetgroup": "Tribunal",
         "opacity": 0.5,
         "showlegend": false,
         "type": "histogram",
         "x": [
          161715,
          161855
         ],
         "xaxis": "x3",
         "yaxis": "y3"
        },
        {
         "alignmentgroup": "True",
         "bingroup": "y",
         "hovertemplate": "prop:addressee=Tribunal<br>prop:speaker=%{y}<br>count=%{x}<extra></extra>",
         "legendgroup": "Tribunal",
         "marker": {
          "color": "#FF6692"
         },
         "name": "Tribunal",
         "offsetgroup": "Tribunal",
         "opacity": 0.5,
         "showlegend": false,
         "type": "histogram",
         "xaxis": "x2",
         "y": [
          "Michael_Kohlhaas",
          "Michael_Kohlhaas"
         ],
         "yaxis": "y2"
        },
        {
         "customdata": [
          [
           "<I><br>Denn der wackere Stadthauptmann, Herr Heinrich von Geusau, hatte ihn,<br>auf einem Spaziergange an den Ufern der Spree, von der<br>Geschichte dieses sonderbaren und nicht verwerflichen Mannes unterrichtet, bei welcher<br>Gelegenheit er von den Fragen des erstaunten Herrn gedrängt, nicht<br>umhin konnte, der Schuld zu erwähnen, die durch die Unziemlichkeiten<br>seines Erzkanzlers, des Grafen Siegfried von Kallheim, seine eigene Person<br>[...]</I>"
          ],
          [
           "<I><br>so beschloß dieser unglückliche Herr noch einen Versuch zu machen,<br>und bat den Kurfürsten von Brandenburg, in einer eigenhändigen Zuschrift,<br>um des Roßhändlers Leben.<br><br><br><br></I>"
          ],
          [
           "<I><br>daß die Amnestie, die man diesem Manne angelobt, die Vollstreckung<br>eines Todesurteils an demselben, füglicher Weise, nicht zulasse<br><br><br><br><br></I>"
          ],
          [
           "<I><br>daß es, trotz der scheinbaren Strenge, mit welcher man gegen<br>ihn verfahren, nie seine Absicht gewesen wäre, \n ihn sterben<br>zu lassen<br><br><br><br></I>"
          ],
          [
           "<I><br>wie trostlos er sein würde, wenn der Schutz, den man<br>vorgegeben hätte, ihm von Berlin aus angedeihen lassen zu wollen,<br>zuletzt, in einer unerwarteten Wendung, zu seinem größeren Nachteile ausschlüge,<br>als wenn er in Dresden geblieben, und seine Sache nach<br>sächsischen Gesetzen entschieden worden wäre<br><br></I>"
          ],
          [
           "<I><br>das Zeichen würde sein, daß uns der große, gehörnte Rehbock,<br>den der Sohn des Gärtners im Park erzog, auf dem<br>Markt, worauf wir uns befanden, bevor wir ihn noch verlassen,<br>entgegenkommen würde<br><br><br></I>"
          ],
          [
           "<I><br>Heil meinem Kurfürsten und Herrn! Deine Gnaden wird lange regieren,<br>das Haus, aus dem du stammst, lange bestehen, und deine<br>Nachkommen groß und herrlich werden und zu Macht gelangen, vor<br>allen Fürsten und Herren der Welt!<br><br><br></I>"
          ],
          [
           "<I><br>mir scheint es, hat sie nichts, das eben angenehm wäre,<br>zu verkündigen<br><br><br><br><br></I>"
          ],
          [
           "<I><br>daß der Rehbock getötet, und durch zwei Jäger, vor seinen<br>Augen, in die Küche geschleppt worden sei<br><br><br><br><br></I>"
          ],
          [
           "<I><br>Der Kämmerer bat ihn, doch irgendein Mittel zu versuchen, des<br>Zettels habhaft zu werden, und den Kerl nachher seinem Schicksal<br>zu überlassen;<br><br><br><br></I>"
          ],
          [
           "<I><br>daß er bereit dazu wäre!<br><br><br><br><br><br></I>"
          ]
         ],
         "hovertemplate": "prop:addressee=Kurfuerst_Brandenburg<br>start_point=%{x}<br>prop:speaker=%{y}<br>size=%{marker.size}<br>Annotation=%{customdata[0]}<extra></extra>",
         "legendgroup": "Kurfuerst_Brandenburg",
         "marker": {
          "color": "#B6E880",
          "size": [
           431,
           166,
           130,
           130,
           299,
           192,
           221,
           70,
           99,
           294,
           24
          ],
          "sizemode": "area",
          "sizeref": 16.9275,
          "symbol": "circle"
         },
         "mode": "markers",
         "name": "Kurfuerst_Brandenburg",
         "orientation": "h",
         "showlegend": true,
         "type": "scatter",
         "x": [
          162300,
          190695,
          190879,
          191028,
          191179,
          194101,
          195412,
          196578,
          198627,
          200232,
          221697
         ],
         "xaxis": "x",
         "y": [
          "Heinrich_von_Geusau",
          "Kurfuerst_Sachsen",
          "Kurfuerst_Sachsen",
          "Kurfuerst_Sachsen",
          "Kurfuerst_Sachsen",
          "Zigeunerin",
          "Zigeunerin",
          "Kurfuerst_Sachsen",
          "Ritter_von_Brandenburg",
          "Kunz_von_Tronka",
          "Michael_Kohlhaas"
         ],
         "yaxis": "y"
        },
        {
         "alignmentgroup": "True",
         "bingroup": "x",
         "hovertemplate": "prop:addressee=Kurfuerst_Brandenburg<br>start_point=%{x}<br>count=%{y}<extra></extra>",
         "legendgroup": "Kurfuerst_Brandenburg",
         "marker": {
          "color": "#B6E880"
         },
         "name": "Kurfuerst_Brandenburg",
         "offsetgroup": "Kurfuerst_Brandenburg",
         "opacity": 0.5,
         "showlegend": false,
         "type": "histogram",
         "x": [
          162300,
          190695,
          190879,
          191028,
          191179,
          194101,
          195412,
          196578,
          198627,
          200232,
          221697
         ],
         "xaxis": "x3",
         "yaxis": "y3"
        },
        {
         "alignmentgroup": "True",
         "bingroup": "y",
         "hovertemplate": "prop:addressee=Kurfuerst_Brandenburg<br>prop:speaker=%{y}<br>count=%{x}<extra></extra>",
         "legendgroup": "Kurfuerst_Brandenburg",
         "marker": {
          "color": "#B6E880"
         },
         "name": "Kurfuerst_Brandenburg",
         "offsetgroup": "Kurfuerst_Brandenburg",
         "opacity": 0.5,
         "showlegend": false,
         "type": "histogram",
         "xaxis": "x2",
         "y": [
          "Heinrich_von_Geusau",
          "Kurfuerst_Sachsen",
          "Kurfuerst_Sachsen",
          "Kurfuerst_Sachsen",
          "Kurfuerst_Sachsen",
          "Zigeunerin",
          "Zigeunerin",
          "Kurfuerst_Sachsen",
          "Ritter_von_Brandenburg",
          "Kunz_von_Tronka",
          "Michael_Kohlhaas"
         ],
         "yaxis": "y2"
        },
        {
         "customdata": [
          [
           "<I><br>was vorgefallen wäre, daß er so bestürzt sei<br><br><br><br><br><br></I>"
          ]
         ],
         "hovertemplate": "prop:addressee=Landdrost<br>start_point=%{x}<br>prop:speaker=%{y}<br>size=%{marker.size}<br>Annotation=%{customdata[0]}<extra></extra>",
         "legendgroup": "Landdrost",
         "marker": {
          "color": "#FF97FF",
          "size": [
           44
          ],
          "sizemode": "area",
          "sizeref": 16.9275,
          "symbol": "circle"
         },
         "mode": "markers",
         "name": "Landdrost",
         "orientation": "h",
         "showlegend": true,
         "type": "scatter",
         "x": [
          169177
         ],
         "xaxis": "x",
         "y": [
          "Kurfuerst_Sachsen"
         ],
         "yaxis": "y"
        },
        {
         "alignmentgroup": "True",
         "bingroup": "x",
         "hovertemplate": "prop:addressee=Landdrost<br>start_point=%{x}<br>count=%{y}<extra></extra>",
         "legendgroup": "Landdrost",
         "marker": {
          "color": "#FF97FF"
         },
         "name": "Landdrost",
         "offsetgroup": "Landdrost",
         "opacity": 0.5,
         "showlegend": false,
         "type": "histogram",
         "x": [
          169177
         ],
         "xaxis": "x3",
         "yaxis": "y3"
        },
        {
         "alignmentgroup": "True",
         "bingroup": "y",
         "hovertemplate": "prop:addressee=Landdrost<br>prop:speaker=%{y}<br>count=%{x}<extra></extra>",
         "legendgroup": "Landdrost",
         "marker": {
          "color": "#FF97FF"
         },
         "name": "Landdrost",
         "offsetgroup": "Landdrost",
         "opacity": 0.5,
         "showlegend": false,
         "type": "histogram",
         "xaxis": "x2",
         "y": [
          "Kurfuerst_Sachsen"
         ],
         "yaxis": "y2"
        },
        {
         "customdata": [
          [
           "<I><br>Heloise! was fällt Euch ein?<br><br><br><br><br><br></I>"
          ],
          [
           "<I><br>Torheit, du regierst die Welt, und dein Sitz ist ein<br>schöner weiblicher Mund!<br><br><br><br><br></I>"
          ],
          [
           "<I><br>so rückte er seine lederne Mütze vor ihr, und gab<br>ihr auf alle diese Fragen, indem er sein Geschäft fortsetzte,<br>unreichliche aber befriedigende Antwort.<br><br><br><br></I>"
          ],
          [
           "<I><br>nichts, gar nichts!<br><br><br><br><br><br></I>"
          ],
          [
           "<I><br>heiliger Gott! was fehlt dem Herrn?<br><br><br><br><br><br></I>"
          ],
          [
           "<I><br>daß er seiner Frau die bittersten Vorwürfe gemacht hätte<br><br><br><br><br><br></I>"
          ],
          [
           "<I><br>Dazu kam, daß der Kämmerer um diese Zeit seiner Frau,<br>die im Begriff stand, ihm nach Berlin zu folgen, auftrug,<br>dem Kurfürsten, bevor sie abreiste, auf eine geschickte Art beizubringen,<br>wie mißlich es nach einem verunglückten Versuch, den er mit<br>einem Weibe gemacht, das sich seitdem nicht wieder habe blicken<br>lassen, mit der Hoffnung aussehe, des Zettels in dessen Besitz<br>[...]</I>"
          ],
          [
           "<I><br>indem das über ihn gefällte Todesurteil, nunmehr, nach einer umständlichen<br>Prüfung der Akten, von dem Kurfürsten von Brandenburg unterzeichnet, und<br>der Hinrichtungstag bereits auf den Montag nach Palmarum festgesetzt sei<br><br><br><br></I>"
          ]
         ],
         "hovertemplate": "prop:addressee=Heloise<br>start_point=%{x}<br>prop:speaker=%{y}<br>size=%{marker.size}<br>Annotation=%{customdata[0]}<extra></extra>",
         "legendgroup": "Heloise",
         "marker": {
          "color": "#FECB52",
          "size": [
           28,
           77,
           152,
           19,
           35,
           138,
           409,
           220
          ],
          "sizemode": "area",
          "sizeref": 16.9275,
          "symbol": "circle"
         },
         "mode": "markers",
         "name": "Heloise",
         "orientation": "h",
         "showlegend": true,
         "type": "scatter",
         "x": [
          171617,
          172172,
          172647,
          176145,
          176397,
          177852,
          213466,
          213876
         ],
         "xaxis": "x",
         "y": [
          "Kurfuerst_Sachsen",
          "Kurfuerst_Sachsen",
          "Michael_Kohlhaas",
          "Kurfuerst_Sachsen",
          "Saechsische_Landdrost",
          "Kunz_von_Tronka",
          "Kunz_von_Tronka",
          "Kunz_von_Tronka"
         ],
         "yaxis": "y"
        },
        {
         "alignmentgroup": "True",
         "bingroup": "x",
         "hovertemplate": "prop:addressee=Heloise<br>start_point=%{x}<br>count=%{y}<extra></extra>",
         "legendgroup": "Heloise",
         "marker": {
          "color": "#FECB52"
         },
         "name": "Heloise",
         "offsetgroup": "Heloise",
         "opacity": 0.5,
         "showlegend": false,
         "type": "histogram",
         "x": [
          171617,
          172172,
          172647,
          176145,
          176397,
          177852,
          213466,
          213876
         ],
         "xaxis": "x3",
         "yaxis": "y3"
        },
        {
         "alignmentgroup": "True",
         "bingroup": "y",
         "hovertemplate": "prop:addressee=Heloise<br>prop:speaker=%{y}<br>count=%{x}<extra></extra>",
         "legendgroup": "Heloise",
         "marker": {
          "color": "#FECB52"
         },
         "name": "Heloise",
         "offsetgroup": "Heloise",
         "opacity": 0.5,
         "showlegend": false,
         "type": "histogram",
         "xaxis": "x2",
         "y": [
          "Kurfuerst_Sachsen",
          "Kurfuerst_Sachsen",
          "Michael_Kohlhaas",
          "Kurfuerst_Sachsen",
          "Saechsische_Landdrost",
          "Kunz_von_Tronka",
          "Kunz_von_Tronka",
          "Kunz_von_Tronka"
         ],
         "yaxis": "y2"
        },
        {
         "customdata": [
          [
           "<I><br>die, auf einem Schemel sitzend, dem Volk, das sie umringte,<br>aus dem Kalender wahrsagte<br><br><br><br><br></I>"
          ],
          [
           "<I><br>sie teile nicht jedermann ihre Wissenschaft mit<br><br><br><br><br><br></I>"
          ]
         ],
         "hovertemplate": "prop:addressee=Bewohner_Jueterbocks<br>start_point=%{x}<br>prop:speaker=%{y}<br>size=%{marker.size}<br>Annotation=%{customdata[0]}<extra></extra>",
         "legendgroup": "Bewohner_Jueterbocks",
         "marker": {
          "color": "#636efa",
          "size": [
           86,
           47
          ],
          "sizemode": "area",
          "sizeref": 16.9275,
          "symbol": "circle"
         },
         "mode": "markers",
         "name": "Bewohner_Jueterbocks",
         "orientation": "h",
         "showlegend": true,
         "type": "scatter",
         "x": [
          174020,
          174534
         ],
         "xaxis": "x",
         "y": [
          "Zigeunerin",
          "Bewohner_Jueterbocks"
         ],
         "yaxis": "y"
        },
        {
         "alignmentgroup": "True",
         "bingroup": "x",
         "hovertemplate": "prop:addressee=Bewohner_Jueterbocks<br>start_point=%{x}<br>count=%{y}<extra></extra>",
         "legendgroup": "Bewohner_Jueterbocks",
         "marker": {
          "color": "#636efa"
         },
         "name": "Bewohner_Jueterbocks",
         "offsetgroup": "Bewohner_Jueterbocks",
         "opacity": 0.5,
         "showlegend": false,
         "type": "histogram",
         "x": [
          174020,
          174534
         ],
         "xaxis": "x3",
         "yaxis": "y3"
        },
        {
         "alignmentgroup": "True",
         "bingroup": "y",
         "hovertemplate": "prop:addressee=Bewohner_Jueterbocks<br>prop:speaker=%{y}<br>count=%{x}<extra></extra>",
         "legendgroup": "Bewohner_Jueterbocks",
         "marker": {
          "color": "#636efa"
         },
         "name": "Bewohner_Jueterbocks",
         "offsetgroup": "Bewohner_Jueterbocks",
         "opacity": 0.5,
         "showlegend": false,
         "type": "histogram",
         "xaxis": "x2",
         "y": [
          "Zigeunerin",
          "Bewohner_Jueterbocks"
         ],
         "yaxis": "y2"
        },
        {
         "customdata": [
          [
           "<I><br>ob sie ihnen nicht auch etwas, das ihnen lieb wäre,<br>zu eröffnen hätte<br><br><br><br><br></I>"
          ],
          [
           "<I><br>ob sie ihnen nicht auch etwas, das ihnen lieb wäre,<br>zu eröffnen hätte<br><br><br><br><br></I>"
          ],
          [
           "<I><br>Mütterchen, was auch verehrst du mir da?<br><br><br><br><br><br></I>"
          ],
          [
           "<I><br>ein Amulett, Kohlhaas, der Roßhändler; verwahr es wohl, es wird<br>dir dereinst das Leben retten!<br><br><br><br><br></I>"
          ],
          [
           "<I><br>der Kurfürst forderte, der Weissagung wegen, die sie ihm machen<br>sollte, ein Zeichen von ihr<br><br><br><br><br></I>"
          ],
          [
           "<I><br>das sich noch heute erproben ließe<br><br><br><br><br><br></I>"
          ],
          [
           "<I><br>daß er sonst nicht, und wäre sie auch die Römische<br>Sibylle selbst, an ihre Worte glauben könne<br><br><br><br><br></I>"
          ],
          [
           "<I><br>nun, wohlan! was hast du mir für die Zukunft zu<br>entdecken?<br><br><br><br><br></I>"
          ],
          [
           "<I><br>ob der Gruß, den sie mir zu eröffnen hätte, auch<br>von so silbernem Klang wäre, als der seinige<br><br><br><br><br></I>"
          ],
          [
           "<I><br>da ich die Frage an sie wiederholte<br><br><br><br><br><br></I>"
          ],
          [
           "<I><br>von welcher Seite her droht meinem Hause Gefahr?<br><br><br><br><br><br></I>"
          ],
          [
           "<I><br>ja! das tu!<br><br><br><br><br><br></I>"
          ],
          [
           "<I><br>Demgemäß, um sie dazu in Stand zu setzen, unterrichtete er<br>sie umständlich von allem, was zwischen dem Kurfürsten und der<br>gedachten Zigeunerin in Jüterbock vorgefallen war, wobei er, weil er<br>nicht wußte, wie weit das Weib in ihren Eröffnungen gegen<br>den Kohlhaas gegangen war, nicht vergaß, ihr besonders die drei<br>geheimnisvollen, in dem Zettel enthaltenen Artikel einzuschärfen;<br></I>"
          ],
          [
           "<I><br>was sie, auf abgerissene und unverständliche Weise, fallen lassen müsse,<br>gewisser Anstalten wegen, die man getroffen, sei es durch List<br>oder durch Gewalt, des Zettels, der dem sächsischen Hofe von<br>der äußersten Wichtigkeit sei<br><br><br></I>"
          ],
          [
           "<I><br>trug er ihr auf, dem Kohlhaas den Zettel, unter dem<br>Vorwand, daß derselbe bei ihm nicht mehr sicher sei, zur<br>Aufbewahrung während einiger verhängnisvollen Tage, abzufordern<br><br><br><br></I>"
          ],
          [
           "<I><br>was sie in aller Welt in Geschäften des Kämmerers zu<br>ihm führe<br><br><br><br><br></I>"
          ],
          [
           "<I><br>nicht um die Welt, Mütterchen, nicht um die Welt!<br><br><br><br><br><br></I>"
          ],
          [
           "<I><br>was für Antworten auf die ungeheuren Fragen im Zettel enthalten<br>wären<br><br><br><br><br></I>"
          ],
          [
           "<I><br>daß die Kinder selbst, wenn sie groß wären, ihn, um<br>seines Verfahrens loben würden, und daß er, für sie und<br>ihre Enkel nichts Heilsameres tun könne, als den Zettel behalten<br><br><br><br></I>"
          ],
          [
           "<I><br>wer ihn, nach der Erfahrung, die er gemacht, vor einem<br>neuen Betrug sicherstelle, und ob er nicht zuletzt, unnützer Weise,<br>den Zettel, wie jüngst den Kriegshaufen, den er in Lützen<br>zusammengebracht, an den Kurfürsten aufopfern würde<br><br><br></I>"
          ],
          [
           "<I><br>Wer mir sein Wort einmal gebrochen mit dem wechsle ich<br>keins mehr; und nur deine Forderung, bestimmt und unzweideutig, trennt<br>mich, gutes Mütterchen, von dem Blatt, durch welches mir für<br>alles, was ich erlitten, auf so wunderbare Weise Genugtuung geworden<br>ist.<br><br></I>"
          ],
          [
           "<I><br>wer sie eigentlich sei, woher sie zu der Wissenschaft, die<br>ihr inwohne, komme, warum sie dem Kurfürsten, für den er<br>doch geschrieben, den Zettel verweigert, und grade ihm, unter so<br>vielen tausend Menschen, der ihrer Wissenschaft nie begehrt, das Wunderblatt<br>überreicht habe<br><br></I>"
          ]
         ],
         "hovertemplate": "prop:addressee=Zigeunerin<br>start_point=%{x}<br>prop:speaker=%{y}<br>size=%{marker.size}<br>Annotation=%{customdata[0]}<extra></extra>",
         "legendgroup": "Zigeunerin",
         "marker": {
          "color": "#EF553B",
          "size": [
           69,
           69,
           40,
           94,
           375,
           34,
           94,
           58,
           93,
           35,
           48,
           11,
           378,
           226,
           172,
           62,
           49,
           69,
           172,
           232,
           274,
           273
          ],
          "sizemode": "area",
          "sizeref": 16.9275,
          "symbol": "circle"
         },
         "mode": "markers",
         "name": "Zigeunerin",
         "orientation": "h",
         "showlegend": true,
         "type": "scatter",
         "x": [
          174145,
          174145,
          175498,
          175655,
          193517,
          193894,
          193944,
          195305,
          196078,
          196460,
          197047,
          197338,
          205019,
          205443,
          205690,
          208280,
          209929,
          210030,
          210509,
          210700,
          210935,
          211698
         ],
         "xaxis": "x",
         "y": [
          "Kurfuerst_Sachsen",
          "Kurfuerst_Sachsen",
          "Michael_Kohlhaas",
          "Zigeunerin",
          "Kurfuerst_Brandenburg",
          "Kurfuerst_Brandenburg",
          "Kurfuerst_Brandenburg",
          "Kurfuerst_Brandenburg",
          "Kurfuerst_Brandenburg",
          "Kurfuerst_Sachsen",
          "Kurfuerst_Sachsen",
          "Kurfuerst_Sachsen",
          "Kunz_von_Tronka",
          "Kunz_von_Tronka",
          "Kunz_von_Tronka",
          "Michael_Kohlhaas",
          "Michael_Kohlhaas",
          "Michael_Kohlhaas",
          "Michael_Kohlhaas",
          "Michael_Kohlhaas",
          "Michael_Kohlhaas",
          "Michael_Kohlhaas"
         ],
         "yaxis": "y"
        },
        {
         "alignmentgroup": "True",
         "bingroup": "x",
         "hovertemplate": "prop:addressee=Zigeunerin<br>start_point=%{x}<br>count=%{y}<extra></extra>",
         "legendgroup": "Zigeunerin",
         "marker": {
          "color": "#EF553B"
         },
         "name": "Zigeunerin",
         "offsetgroup": "Zigeunerin",
         "opacity": 0.5,
         "showlegend": false,
         "type": "histogram",
         "x": [
          174145,
          174145,
          175498,
          175655,
          193517,
          193894,
          193944,
          195305,
          196078,
          196460,
          197047,
          197338,
          205019,
          205443,
          205690,
          208280,
          209929,
          210030,
          210509,
          210700,
          210935,
          211698
         ],
         "xaxis": "x3",
         "yaxis": "y3"
        },
        {
         "alignmentgroup": "True",
         "bingroup": "y",
         "hovertemplate": "prop:addressee=Zigeunerin<br>prop:speaker=%{y}<br>count=%{x}<extra></extra>",
         "legendgroup": "Zigeunerin",
         "marker": {
          "color": "#EF553B"
         },
         "name": "Zigeunerin",
         "offsetgroup": "Zigeunerin",
         "opacity": 0.5,
         "showlegend": false,
         "type": "histogram",
         "xaxis": "x2",
         "y": [
          "Kurfuerst_Sachsen",
          "Kurfuerst_Sachsen",
          "Michael_Kohlhaas",
          "Zigeunerin",
          "Kurfuerst_Brandenburg",
          "Kurfuerst_Brandenburg",
          "Kurfuerst_Brandenburg",
          "Kurfuerst_Brandenburg",
          "Kurfuerst_Brandenburg",
          "Kurfuerst_Sachsen",
          "Kurfuerst_Sachsen",
          "Kurfuerst_Sachsen",
          "Kunz_von_Tronka",
          "Kunz_von_Tronka",
          "Kunz_von_Tronka",
          "Michael_Kohlhaas",
          "Michael_Kohlhaas",
          "Michael_Kohlhaas",
          "Michael_Kohlhaas",
          "Michael_Kohlhaas",
          "Michael_Kohlhaas",
          "Michael_Kohlhaas"
         ],
         "yaxis": "y2"
        },
        {
         "customdata": [
          [
           "<I><br>schafft Wasser her!<br><br><br><br><br><br></I>"
          ],
          [
           "<I><br>er gebe alle Zeichen von sich, als ob ihn der<br>Schlag gerührt<br><br><br><br><br></I>"
          ]
         ],
         "hovertemplate": "prop:addressee=Saechsische_Landdrost<br>start_point=%{x}<br>prop:speaker=%{y}<br>size=%{marker.size}<br>Annotation=%{customdata[0]}<extra></extra>",
         "legendgroup": "Saechsische_Landdrost",
         "marker": {
          "color": "#00cc96",
          "size": [
           19,
           60
          ],
          "sizemode": "area",
          "sizeref": 16.9275,
          "symbol": "circle"
         },
         "mode": "markers",
         "name": "Saechsische_Landdrost",
         "orientation": "h",
         "showlegend": true,
         "type": "scatter",
         "x": [
          176448,
          176720
         ],
         "xaxis": "x",
         "y": [
          "Heloise",
          "Kunz_von_Tronka"
         ],
         "yaxis": "y"
        },
        {
         "alignmentgroup": "True",
         "bingroup": "x",
         "hovertemplate": "prop:addressee=Saechsische_Landdrost<br>start_point=%{x}<br>count=%{y}<extra></extra>",
         "legendgroup": "Saechsische_Landdrost",
         "marker": {
          "color": "#00cc96"
         },
         "name": "Saechsische_Landdrost",
         "offsetgroup": "Saechsische_Landdrost",
         "opacity": 0.5,
         "showlegend": false,
         "type": "histogram",
         "x": [
          176448,
          176720
         ],
         "xaxis": "x3",
         "yaxis": "y3"
        },
        {
         "alignmentgroup": "True",
         "bingroup": "y",
         "hovertemplate": "prop:addressee=Saechsische_Landdrost<br>prop:speaker=%{y}<br>count=%{x}<extra></extra>",
         "legendgroup": "Saechsische_Landdrost",
         "marker": {
          "color": "#00cc96"
         },
         "name": "Saechsische_Landdrost",
         "offsetgroup": "Saechsische_Landdrost",
         "opacity": 0.5,
         "showlegend": false,
         "type": "histogram",
         "xaxis": "x2",
         "y": [
          "Heloise",
          "Kunz_von_Tronka"
         ],
         "yaxis": "y2"
        },
        {
         "customdata": [
          [
           "<I><br>nachdem er ihm die Sache auseinandergelegt, und von der Wichtigkeit<br>des Zettels, in dessen Besitz der Kohlhaas war, unterrichtet hatte<br><br><br><br><br></I>"
          ],
          [
           "<I><br>ob er sich ein ewiges Recht auf seine Freundschaft erwerben,<br>und ihm den Zettel, noch ehe derselbe Berlin erreicht, verschaffen<br>wolle<br><br><br><br></I>"
          ],
          [
           "<I><br>so trug ihm der Kurfürst auf, dem Kohlhaas nachzureiten, und<br>ihm in einer mit Klugheit angeordneten Unterredung, Freiheit und Leben<br>dafür anzubieten, ja ihm, wenn er darauf bestehe, unmittelbar, obschon<br>mit Vorsicht, zur Flucht aus den Händen der brandenburgischen Reuter,<br>die ihn transportierten, mit Pferden, Leuten und Geld an die<br>Hand zu gehen.<br></I>"
          ],
          [
           "<I><br>daß er den Zettel behalten wolle.<br><br><br><br><br><br></I>"
          ],
          [
           "<I><br>Edler Herr! Wenn Euer Landesherr käme, und spräche, ich will<br>mich, mit dem ganzen Troß derer, die mir das Zepter<br>führen helfen, vernichten – vernichten, versteht Ihr, welches allerdings der<br>größeste Wunsch ist, den meine Seele hegt: so würde ich<br>ihm doch den Zettel noch, der ihm mehr wert ist,<br>als das Dasein, verweigern und sprechen: du kannst mich auf<br>[...]</I>"
          ]
         ],
         "hovertemplate": "prop:addressee=Jagdjunker_vom_Stein<br>start_point=%{x}<br>prop:speaker=%{y}<br>size=%{marker.size}<br>Annotation=%{customdata[0]}<extra></extra>",
         "legendgroup": "Jagdjunker_vom_Stein",
         "marker": {
          "color": "#ab63fa",
          "size": [
           134,
           133,
           409,
           33,
           419
          ],
          "sizemode": "area",
          "sizeref": 16.9275,
          "symbol": "circle"
         },
         "mode": "markers",
         "name": "Jagdjunker_vom_Stein",
         "orientation": "h",
         "showlegend": true,
         "type": "scatter",
         "x": [
          181002,
          181149,
          181449,
          183448,
          183660
         ],
         "xaxis": "x",
         "y": [
          "Kurfuerst_Sachsen",
          "Kurfuerst_Sachsen",
          "Kurfuerst_Sachsen",
          "Michael_Kohlhaas",
          "Michael_Kohlhaas"
         ],
         "yaxis": "y"
        },
        {
         "alignmentgroup": "True",
         "bingroup": "x",
         "hovertemplate": "prop:addressee=Jagdjunker_vom_Stein<br>start_point=%{x}<br>count=%{y}<extra></extra>",
         "legendgroup": "Jagdjunker_vom_Stein",
         "marker": {
          "color": "#ab63fa"
         },
         "name": "Jagdjunker_vom_Stein",
         "offsetgroup": "Jagdjunker_vom_Stein",
         "opacity": 0.5,
         "showlegend": false,
         "type": "histogram",
         "x": [
          181002,
          181149,
          181449,
          183448,
          183660
         ],
         "xaxis": "x3",
         "yaxis": "y3"
        },
        {
         "alignmentgroup": "True",
         "bingroup": "y",
         "hovertemplate": "prop:addressee=Jagdjunker_vom_Stein<br>prop:speaker=%{y}<br>count=%{x}<extra></extra>",
         "legendgroup": "Jagdjunker_vom_Stein",
         "marker": {
          "color": "#ab63fa"
         },
         "name": "Jagdjunker_vom_Stein",
         "offsetgroup": "Jagdjunker_vom_Stein",
         "opacity": 0.5,
         "showlegend": false,
         "type": "histogram",
         "xaxis": "x2",
         "y": [
          "Kurfuerst_Sachsen",
          "Kurfuerst_Sachsen",
          "Kurfuerst_Sachsen",
          "Michael_Kohlhaas",
          "Michael_Kohlhaas"
         ],
         "yaxis": "y2"
        },
        {
         "customdata": [
          [
           "<I><br>da demselben mit Geld wahrscheinlich nicht beizukommen sei<br><br><br><br><br><br></I>"
          ]
         ],
         "hovertemplate": "prop:addressee=Jagdjunker<br>start_point=%{x}<br>prop:speaker=%{y}<br>size=%{marker.size}<br>Annotation=%{customdata[0]}<extra></extra>",
         "legendgroup": "Jagdjunker",
         "marker": {
          "color": "#FFA15A",
          "size": [
           58
          ],
          "sizemode": "area",
          "sizeref": 16.9275,
          "symbol": "circle"
         },
         "mode": "markers",
         "name": "Jagdjunker",
         "orientation": "h",
         "showlegend": true,
         "type": "scatter",
         "x": [
          181515
         ],
         "xaxis": "x",
         "y": [
          "Kurfuerst_Sachsen"
         ],
         "yaxis": "y"
        },
        {
         "alignmentgroup": "True",
         "bingroup": "x",
         "hovertemplate": "prop:addressee=Jagdjunker<br>start_point=%{x}<br>count=%{y}<extra></extra>",
         "legendgroup": "Jagdjunker",
         "marker": {
          "color": "#FFA15A"
         },
         "name": "Jagdjunker",
         "offsetgroup": "Jagdjunker",
         "opacity": 0.5,
         "showlegend": false,
         "type": "histogram",
         "x": [
          181515
         ],
         "xaxis": "x3",
         "yaxis": "y3"
        },
        {
         "alignmentgroup": "True",
         "bingroup": "y",
         "hovertemplate": "prop:addressee=Jagdjunker<br>prop:speaker=%{y}<br>count=%{x}<extra></extra>",
         "legendgroup": "Jagdjunker",
         "marker": {
          "color": "#FFA15A"
         },
         "name": "Jagdjunker",
         "offsetgroup": "Jagdjunker",
         "opacity": 0.5,
         "showlegend": false,
         "type": "histogram",
         "xaxis": "x2",
         "y": [
          "Kurfuerst_Sachsen"
         ],
         "yaxis": "y2"
        },
        {
         "customdata": [
          [
           "<I><br>Und damit, im Antlitz den Tod, rief er einen Reuter<br>herbei, unter der Aufforderung, ein gutes Stück Essen, das in<br>der Schüssel übriggeblieben war, zu sich zu nehmen;<br><br><br><br></I>"
          ]
         ],
         "hovertemplate": "prop:addressee=Ein_Reuter<br>start_point=%{x}<br>prop:speaker=%{y}<br>size=%{marker.size}<br>Annotation=%{customdata[0]}<extra></extra>",
         "legendgroup": "Ein_Reuter",
         "marker": {
          "color": "#19d3f3",
          "size": [
           165
          ],
          "sizemode": "area",
          "sizeref": 16.9275,
          "symbol": "circle"
         },
         "mode": "markers",
         "name": "Ein_Reuter",
         "orientation": "h",
         "showlegend": true,
         "type": "scatter",
         "x": [
          184081
         ],
         "xaxis": "x",
         "y": [
          "Michael_Kohlhaas"
         ],
         "yaxis": "y"
        },
        {
         "alignmentgroup": "True",
         "bingroup": "x",
         "hovertemplate": "prop:addressee=Ein_Reuter<br>start_point=%{x}<br>count=%{y}<extra></extra>",
         "legendgroup": "Ein_Reuter",
         "marker": {
          "color": "#19d3f3"
         },
         "name": "Ein_Reuter",
         "offsetgroup": "Ein_Reuter",
         "opacity": 0.5,
         "showlegend": false,
         "type": "histogram",
         "x": [
          184081
         ],
         "xaxis": "x3",
         "yaxis": "y3"
        },
        {
         "alignmentgroup": "True",
         "bingroup": "y",
         "hovertemplate": "prop:addressee=Ein_Reuter<br>prop:speaker=%{y}<br>count=%{x}<extra></extra>",
         "legendgroup": "Ein_Reuter",
         "marker": {
          "color": "#19d3f3"
         },
         "name": "Ein_Reuter",
         "offsetgroup": "Ein_Reuter",
         "opacity": 0.5,
         "showlegend": false,
         "type": "histogram",
         "xaxis": "x2",
         "y": [
          "Michael_Kohlhaas"
         ],
         "yaxis": "y2"
        },
        {
         "customdata": [
          [
           "<I><br>so verfaßte er einen eigenhändigen Brief an den Kaiser, worin<br>er ihn auf herzliche und dringende Weise bat, aus wichtigen<br>Gründen, die er ihm vielleicht in kurzer Zeit bestimmter auseinanderlegen<br>würde, die Klage, die der Eibenmayer gegen den Kohlhaas eingereicht,<br>vorläufig bis auf einen weiteren Beschluß, zurücknehmen zu dürfen<br><br></I>"
          ]
         ],
         "hovertemplate": "prop:addressee=Kaiser<br>start_point=%{x}<br>prop:speaker=%{y}<br>size=%{marker.size}<br>Annotation=%{customdata[0]}<extra></extra>",
         "legendgroup": "Kaiser",
         "marker": {
          "color": "#FF6692",
          "size": [
           330
          ],
          "sizemode": "area",
          "sizeref": 16.9275,
          "symbol": "circle"
         },
         "mode": "markers",
         "name": "Kaiser",
         "orientation": "h",
         "showlegend": true,
         "type": "scatter",
         "x": [
          189160
         ],
         "xaxis": "x",
         "y": [
          "Kurfuerst_Sachsen"
         ],
         "yaxis": "y"
        },
        {
         "alignmentgroup": "True",
         "bingroup": "x",
         "hovertemplate": "prop:addressee=Kaiser<br>start_point=%{x}<br>count=%{y}<extra></extra>",
         "legendgroup": "Kaiser",
         "marker": {
          "color": "#FF6692"
         },
         "name": "Kaiser",
         "offsetgroup": "Kaiser",
         "opacity": 0.5,
         "showlegend": false,
         "type": "histogram",
         "x": [
          189160
         ],
         "xaxis": "x3",
         "yaxis": "y3"
        },
        {
         "alignmentgroup": "True",
         "bingroup": "y",
         "hovertemplate": "prop:addressee=Kaiser<br>prop:speaker=%{y}<br>count=%{x}<extra></extra>",
         "legendgroup": "Kaiser",
         "marker": {
          "color": "#FF6692"
         },
         "name": "Kaiser",
         "offsetgroup": "Kaiser",
         "opacity": 0.5,
         "showlegend": false,
         "type": "histogram",
         "xaxis": "x2",
         "y": [
          "Kurfuerst_Sachsen"
         ],
         "yaxis": "y2"
        },
        {
         "customdata": [
          [
           "<I><br>gleichwohl schickte der Kurfürst aus Besorgnis vor einer dahinter steckenden<br>Schelmerei ins Schloß<br><br><br><br><br></I>"
          ]
         ],
         "hovertemplate": "prop:addressee=Bediente_von_Juetebock<br>start_point=%{x}<br>prop:speaker=%{y}<br>size=%{marker.size}<br>Annotation=%{customdata[0]}<extra></extra>",
         "legendgroup": "Bediente_von_Juetebock",
         "marker": {
          "color": "#B6E880",
          "size": [
           250
          ],
          "sizemode": "area",
          "sizeref": 16.9275,
          "symbol": "circle"
         },
         "mode": "markers",
         "name": "Bediente_von_Juetebock",
         "orientation": "h",
         "showlegend": true,
         "type": "scatter",
         "x": [
          194822
         ],
         "xaxis": "x",
         "y": [
          "Kurfuerst_Brandenburg"
         ],
         "yaxis": "y"
        },
        {
         "alignmentgroup": "True",
         "bingroup": "x",
         "hovertemplate": "prop:addressee=Bediente_von_Juetebock<br>start_point=%{x}<br>count=%{y}<extra></extra>",
         "legendgroup": "Bediente_von_Juetebock",
         "marker": {
          "color": "#B6E880"
         },
         "name": "Bediente_von_Juetebock",
         "offsetgroup": "Bediente_von_Juetebock",
         "opacity": 0.5,
         "showlegend": false,
         "type": "histogram",
         "x": [
          194822
         ],
         "xaxis": "x3",
         "yaxis": "y3"
        },
        {
         "alignmentgroup": "True",
         "bingroup": "y",
         "hovertemplate": "prop:addressee=Bediente_von_Juetebock<br>prop:speaker=%{y}<br>count=%{x}<extra></extra>",
         "legendgroup": "Bediente_von_Juetebock",
         "marker": {
          "color": "#B6E880"
         },
         "name": "Bediente_von_Juetebock",
         "offsetgroup": "Bediente_von_Juetebock",
         "opacity": 0.5,
         "showlegend": false,
         "type": "histogram",
         "xaxis": "x2",
         "y": [
          "Kurfuerst_Brandenburg"
         ],
         "yaxis": "y2"
        },
        {
         "customdata": [
          [
           "<I><br>daß er wegen seines bewaffneten Einfalls in Sachsen, und der<br>dabei verübten Gewalttätigkeiten, kraft des mit dem Kurfürsten von Sachsen<br>zu Lützen abgeschlossenen Vergleichs, nicht belangt werden könne<br><br><br><br></I>"
          ]
         ],
         "hovertemplate": "prop:addressee=Brandenburger_Kammergericht<br>start_point=%{x}<br>prop:speaker=%{y}<br>size=%{marker.size}<br>Annotation=%{customdata[0]}<extra></extra>",
         "legendgroup": "Brandenburger_Kammergericht",
         "marker": {
          "color": "#FF97FF",
          "size": [
           200
          ],
          "sizemode": "area",
          "sizeref": 16.9275,
          "symbol": "circle"
         },
         "mode": "markers",
         "name": "Brandenburger_Kammergericht",
         "orientation": "h",
         "showlegend": true,
         "type": "scatter",
         "x": [
          202449
         ],
         "xaxis": "x",
         "y": [
          "Michael_Kohlhaas"
         ],
         "yaxis": "y"
        },
        {
         "alignmentgroup": "True",
         "bingroup": "x",
         "hovertemplate": "prop:addressee=Brandenburger_Kammergericht<br>start_point=%{x}<br>count=%{y}<extra></extra>",
         "legendgroup": "Brandenburger_Kammergericht",
         "marker": {
          "color": "#FF97FF"
         },
         "name": "Brandenburger_Kammergericht",
         "offsetgroup": "Brandenburger_Kammergericht",
         "opacity": 0.5,
         "showlegend": false,
         "type": "histogram",
         "x": [
          202449
         ],
         "xaxis": "x3",
         "yaxis": "y3"
        },
        {
         "alignmentgroup": "True",
         "bingroup": "y",
         "hovertemplate": "prop:addressee=Brandenburger_Kammergericht<br>prop:speaker=%{y}<br>count=%{x}<extra></extra>",
         "legendgroup": "Brandenburger_Kammergericht",
         "marker": {
          "color": "#FF97FF"
         },
         "name": "Brandenburger_Kammergericht",
         "offsetgroup": "Brandenburger_Kammergericht",
         "opacity": 0.5,
         "showlegend": false,
         "type": "histogram",
         "xaxis": "x2",
         "y": [
          "Michael_Kohlhaas"
         ],
         "yaxis": "y2"
        },
        {
         "customdata": [
          [
           "<I><br>lebt wohl, Kinderchen, lebt wohl!<br><br><br><br><br><br></I>"
          ]
         ],
         "hovertemplate": "prop:addressee=Kohlhaas_Kinder<br>start_point=%{x}<br>prop:speaker=%{y}<br>size=%{marker.size}<br>Annotation=%{customdata[0]}<extra></extra>",
         "legendgroup": "Kohlhaas_Kinder",
         "marker": {
          "color": "#FECB52",
          "size": [
           33
          ],
          "sizemode": "area",
          "sizeref": 16.9275,
          "symbol": "circle"
         },
         "mode": "markers",
         "name": "Kohlhaas_Kinder",
         "orientation": "h",
         "showlegend": true,
         "type": "scatter",
         "x": [
          212440
         ],
         "xaxis": "x",
         "y": [
          "Zigeunerin"
         ],
         "yaxis": "y"
        },
        {
         "alignmentgroup": "True",
         "bingroup": "x",
         "hovertemplate": "prop:addressee=Kohlhaas_Kinder<br>start_point=%{x}<br>count=%{y}<extra></extra>",
         "legendgroup": "Kohlhaas_Kinder",
         "marker": {
          "color": "#FECB52"
         },
         "name": "Kohlhaas_Kinder",
         "offsetgroup": "Kohlhaas_Kinder",
         "opacity": 0.5,
         "showlegend": false,
         "type": "histogram",
         "x": [
          212440
         ],
         "xaxis": "x3",
         "yaxis": "y3"
        },
        {
         "alignmentgroup": "True",
         "bingroup": "y",
         "hovertemplate": "prop:addressee=Kohlhaas_Kinder<br>prop:speaker=%{y}<br>count=%{x}<extra></extra>",
         "legendgroup": "Kohlhaas_Kinder",
         "marker": {
          "color": "#FECB52"
         },
         "name": "Kohlhaas_Kinder",
         "offsetgroup": "Kohlhaas_Kinder",
         "opacity": 0.5,
         "showlegend": false,
         "type": "histogram",
         "xaxis": "x2",
         "y": [
          "Zigeunerin"
         ],
         "yaxis": "y2"
        },
        {
         "customdata": [
          [
           "<I><br>ob er das wunderbare Weib, das ihm den Zettel übergeben,<br>kenne<br><br><br><br><br></I>"
          ]
         ],
         "hovertemplate": "prop:addressee=Kastellan<br>start_point=%{x}<br>prop:speaker=%{y}<br>size=%{marker.size}<br>Annotation=%{customdata[0]}<extra></extra>",
         "legendgroup": "Kastellan",
         "marker": {
          "color": "#636efa",
          "size": [
           62
          ],
          "sizemode": "area",
          "sizeref": 16.9275,
          "symbol": "circle"
         },
         "mode": "markers",
         "name": "Kastellan",
         "orientation": "h",
         "showlegend": true,
         "type": "scatter",
         "x": [
          217903
         ],
         "xaxis": "x",
         "y": [
          "Michael_Kohlhaas"
         ],
         "yaxis": "y"
        },
        {
         "alignmentgroup": "True",
         "bingroup": "x",
         "hovertemplate": "prop:addressee=Kastellan<br>start_point=%{x}<br>count=%{y}<extra></extra>",
         "legendgroup": "Kastellan",
         "marker": {
          "color": "#636efa"
         },
         "name": "Kastellan",
         "offsetgroup": "Kastellan",
         "opacity": 0.5,
         "showlegend": false,
         "type": "histogram",
         "x": [
          217903
         ],
         "xaxis": "x3",
         "yaxis": "y3"
        },
        {
         "alignmentgroup": "True",
         "bingroup": "y",
         "hovertemplate": "prop:addressee=Kastellan<br>prop:speaker=%{y}<br>count=%{x}<extra></extra>",
         "legendgroup": "Kastellan",
         "marker": {
          "color": "#636efa"
         },
         "name": "Kastellan",
         "offsetgroup": "Kastellan",
         "opacity": 0.5,
         "showlegend": false,
         "type": "histogram",
         "xaxis": "x2",
         "y": [
          "Michael_Kohlhaas"
         ],
         "yaxis": "y2"
        },
        {
         "customdata": [
          [
           "<I><br>da, Mütterchen; das gehört dir!<br><br><br><br><br><br></I>"
          ]
         ],
         "hovertemplate": "prop:addressee=Mutter_Hersens<br>start_point=%{x}<br>prop:speaker=%{y}<br>size=%{marker.size}<br>Annotation=%{customdata[0]}<extra></extra>",
         "legendgroup": "Mutter_Hersens",
         "marker": {
          "color": "#EF553B",
          "size": [
           31
          ],
          "sizemode": "area",
          "sizeref": 16.9275,
          "symbol": "circle"
         },
         "mode": "markers",
         "name": "Mutter_Hersens",
         "orientation": "h",
         "showlegend": true,
         "type": "scatter",
         "x": [
          221183
         ],
         "xaxis": "x",
         "y": [
          "Michael_Kohlhaas"
         ],
         "yaxis": "y"
        },
        {
         "alignmentgroup": "True",
         "bingroup": "x",
         "hovertemplate": "prop:addressee=Mutter_Hersens<br>start_point=%{x}<br>count=%{y}<extra></extra>",
         "legendgroup": "Mutter_Hersens",
         "marker": {
          "color": "#EF553B"
         },
         "name": "Mutter_Hersens",
         "offsetgroup": "Mutter_Hersens",
         "opacity": 0.5,
         "showlegend": false,
         "type": "histogram",
         "x": [
          221183
         ],
         "xaxis": "x3",
         "yaxis": "y3"
        },
        {
         "alignmentgroup": "True",
         "bingroup": "y",
         "hovertemplate": "prop:addressee=Mutter_Hersens<br>prop:speaker=%{y}<br>count=%{x}<extra></extra>",
         "legendgroup": "Mutter_Hersens",
         "marker": {
          "color": "#EF553B"
         },
         "name": "Mutter_Hersens",
         "offsetgroup": "Mutter_Hersens",
         "opacity": 0.5,
         "showlegend": false,
         "type": "histogram",
         "xaxis": "x2",
         "y": [
          "Michael_Kohlhaas"
         ],
         "yaxis": "y2"
        }
       ],
       "layout": {
        "barmode": "overlay",
        "height": 2220,
        "legend": {
         "itemsizing": "constant",
         "title": {
          "text": "prop:addressee"
         },
         "tracegroupgap": 0
        },
        "template": {
         "data": {
          "bar": [
           {
            "error_x": {
             "color": "rgb(36,36,36)"
            },
            "error_y": {
             "color": "rgb(36,36,36)"
            },
            "marker": {
             "line": {
              "color": "white",
              "width": 0.5
             }
            },
            "type": "bar"
           }
          ],
          "barpolar": [
           {
            "marker": {
             "line": {
              "color": "white",
              "width": 0.5
             }
            },
            "type": "barpolar"
           }
          ],
          "carpet": [
           {
            "aaxis": {
             "endlinecolor": "rgb(36,36,36)",
             "gridcolor": "white",
             "linecolor": "white",
             "minorgridcolor": "white",
             "startlinecolor": "rgb(36,36,36)"
            },
            "baxis": {
             "endlinecolor": "rgb(36,36,36)",
             "gridcolor": "white",
             "linecolor": "white",
             "minorgridcolor": "white",
             "startlinecolor": "rgb(36,36,36)"
            },
            "type": "carpet"
           }
          ],
          "choropleth": [
           {
            "colorbar": {
             "outlinewidth": 1,
             "tickcolor": "rgb(36,36,36)",
             "ticks": "outside"
            },
            "type": "choropleth"
           }
          ],
          "contour": [
           {
            "colorbar": {
             "outlinewidth": 1,
             "tickcolor": "rgb(36,36,36)",
             "ticks": "outside"
            },
            "colorscale": [
             [
              0,
              "#440154"
             ],
             [
              0.1111111111111111,
              "#482878"
             ],
             [
              0.2222222222222222,
              "#3e4989"
             ],
             [
              0.3333333333333333,
              "#31688e"
             ],
             [
              0.4444444444444444,
              "#26828e"
             ],
             [
              0.5555555555555556,
              "#1f9e89"
             ],
             [
              0.6666666666666666,
              "#35b779"
             ],
             [
              0.7777777777777778,
              "#6ece58"
             ],
             [
              0.8888888888888888,
              "#b5de2b"
             ],
             [
              1,
              "#fde725"
             ]
            ],
            "type": "contour"
           }
          ],
          "contourcarpet": [
           {
            "colorbar": {
             "outlinewidth": 1,
             "tickcolor": "rgb(36,36,36)",
             "ticks": "outside"
            },
            "type": "contourcarpet"
           }
          ],
          "heatmap": [
           {
            "colorbar": {
             "outlinewidth": 1,
             "tickcolor": "rgb(36,36,36)",
             "ticks": "outside"
            },
            "colorscale": [
             [
              0,
              "#440154"
             ],
             [
              0.1111111111111111,
              "#482878"
             ],
             [
              0.2222222222222222,
              "#3e4989"
             ],
             [
              0.3333333333333333,
              "#31688e"
             ],
             [
              0.4444444444444444,
              "#26828e"
             ],
             [
              0.5555555555555556,
              "#1f9e89"
             ],
             [
              0.6666666666666666,
              "#35b779"
             ],
             [
              0.7777777777777778,
              "#6ece58"
             ],
             [
              0.8888888888888888,
              "#b5de2b"
             ],
             [
              1,
              "#fde725"
             ]
            ],
            "type": "heatmap"
           }
          ],
          "heatmapgl": [
           {
            "colorbar": {
             "outlinewidth": 1,
             "tickcolor": "rgb(36,36,36)",
             "ticks": "outside"
            },
            "colorscale": [
             [
              0,
              "#440154"
             ],
             [
              0.1111111111111111,
              "#482878"
             ],
             [
              0.2222222222222222,
              "#3e4989"
             ],
             [
              0.3333333333333333,
              "#31688e"
             ],
             [
              0.4444444444444444,
              "#26828e"
             ],
             [
              0.5555555555555556,
              "#1f9e89"
             ],
             [
              0.6666666666666666,
              "#35b779"
             ],
             [
              0.7777777777777778,
              "#6ece58"
             ],
             [
              0.8888888888888888,
              "#b5de2b"
             ],
             [
              1,
              "#fde725"
             ]
            ],
            "type": "heatmapgl"
           }
          ],
          "histogram": [
           {
            "marker": {
             "line": {
              "color": "white",
              "width": 0.6
             }
            },
            "type": "histogram"
           }
          ],
          "histogram2d": [
           {
            "colorbar": {
             "outlinewidth": 1,
             "tickcolor": "rgb(36,36,36)",
             "ticks": "outside"
            },
            "colorscale": [
             [
              0,
              "#440154"
             ],
             [
              0.1111111111111111,
              "#482878"
             ],
             [
              0.2222222222222222,
              "#3e4989"
             ],
             [
              0.3333333333333333,
              "#31688e"
             ],
             [
              0.4444444444444444,
              "#26828e"
             ],
             [
              0.5555555555555556,
              "#1f9e89"
             ],
             [
              0.6666666666666666,
              "#35b779"
             ],
             [
              0.7777777777777778,
              "#6ece58"
             ],
             [
              0.8888888888888888,
              "#b5de2b"
             ],
             [
              1,
              "#fde725"
             ]
            ],
            "type": "histogram2d"
           }
          ],
          "histogram2dcontour": [
           {
            "colorbar": {
             "outlinewidth": 1,
             "tickcolor": "rgb(36,36,36)",
             "ticks": "outside"
            },
            "colorscale": [
             [
              0,
              "#440154"
             ],
             [
              0.1111111111111111,
              "#482878"
             ],
             [
              0.2222222222222222,
              "#3e4989"
             ],
             [
              0.3333333333333333,
              "#31688e"
             ],
             [
              0.4444444444444444,
              "#26828e"
             ],
             [
              0.5555555555555556,
              "#1f9e89"
             ],
             [
              0.6666666666666666,
              "#35b779"
             ],
             [
              0.7777777777777778,
              "#6ece58"
             ],
             [
              0.8888888888888888,
              "#b5de2b"
             ],
             [
              1,
              "#fde725"
             ]
            ],
            "type": "histogram2dcontour"
           }
          ],
          "mesh3d": [
           {
            "colorbar": {
             "outlinewidth": 1,
             "tickcolor": "rgb(36,36,36)",
             "ticks": "outside"
            },
            "type": "mesh3d"
           }
          ],
          "parcoords": [
           {
            "line": {
             "colorbar": {
              "outlinewidth": 1,
              "tickcolor": "rgb(36,36,36)",
              "ticks": "outside"
             }
            },
            "type": "parcoords"
           }
          ],
          "pie": [
           {
            "automargin": true,
            "type": "pie"
           }
          ],
          "scatter": [
           {
            "marker": {
             "colorbar": {
              "outlinewidth": 1,
              "tickcolor": "rgb(36,36,36)",
              "ticks": "outside"
             }
            },
            "type": "scatter"
           }
          ],
          "scatter3d": [
           {
            "line": {
             "colorbar": {
              "outlinewidth": 1,
              "tickcolor": "rgb(36,36,36)",
              "ticks": "outside"
             }
            },
            "marker": {
             "colorbar": {
              "outlinewidth": 1,
              "tickcolor": "rgb(36,36,36)",
              "ticks": "outside"
             }
            },
            "type": "scatter3d"
           }
          ],
          "scattercarpet": [
           {
            "marker": {
             "colorbar": {
              "outlinewidth": 1,
              "tickcolor": "rgb(36,36,36)",
              "ticks": "outside"
             }
            },
            "type": "scattercarpet"
           }
          ],
          "scattergeo": [
           {
            "marker": {
             "colorbar": {
              "outlinewidth": 1,
              "tickcolor": "rgb(36,36,36)",
              "ticks": "outside"
             }
            },
            "type": "scattergeo"
           }
          ],
          "scattergl": [
           {
            "marker": {
             "colorbar": {
              "outlinewidth": 1,
              "tickcolor": "rgb(36,36,36)",
              "ticks": "outside"
             }
            },
            "type": "scattergl"
           }
          ],
          "scattermapbox": [
           {
            "marker": {
             "colorbar": {
              "outlinewidth": 1,
              "tickcolor": "rgb(36,36,36)",
              "ticks": "outside"
             }
            },
            "type": "scattermapbox"
           }
          ],
          "scatterpolar": [
           {
            "marker": {
             "colorbar": {
              "outlinewidth": 1,
              "tickcolor": "rgb(36,36,36)",
              "ticks": "outside"
             }
            },
            "type": "scatterpolar"
           }
          ],
          "scatterpolargl": [
           {
            "marker": {
             "colorbar": {
              "outlinewidth": 1,
              "tickcolor": "rgb(36,36,36)",
              "ticks": "outside"
             }
            },
            "type": "scatterpolargl"
           }
          ],
          "scatterternary": [
           {
            "marker": {
             "colorbar": {
              "outlinewidth": 1,
              "tickcolor": "rgb(36,36,36)",
              "ticks": "outside"
             }
            },
            "type": "scatterternary"
           }
          ],
          "surface": [
           {
            "colorbar": {
             "outlinewidth": 1,
             "tickcolor": "rgb(36,36,36)",
             "ticks": "outside"
            },
            "colorscale": [
             [
              0,
              "#440154"
             ],
             [
              0.1111111111111111,
              "#482878"
             ],
             [
              0.2222222222222222,
              "#3e4989"
             ],
             [
              0.3333333333333333,
              "#31688e"
             ],
             [
              0.4444444444444444,
              "#26828e"
             ],
             [
              0.5555555555555556,
              "#1f9e89"
             ],
             [
              0.6666666666666666,
              "#35b779"
             ],
             [
              0.7777777777777778,
              "#6ece58"
             ],
             [
              0.8888888888888888,
              "#b5de2b"
             ],
             [
              1,
              "#fde725"
             ]
            ],
            "type": "surface"
           }
          ],
          "table": [
           {
            "cells": {
             "fill": {
              "color": "rgb(237,237,237)"
             },
             "line": {
              "color": "white"
             }
            },
            "header": {
             "fill": {
              "color": "rgb(217,217,217)"
             },
             "line": {
              "color": "white"
             }
            },
            "type": "table"
           }
          ]
         },
         "layout": {
          "annotationdefaults": {
           "arrowhead": 0,
           "arrowwidth": 1
          },
          "autotypenumbers": "strict",
          "coloraxis": {
           "colorbar": {
            "outlinewidth": 1,
            "tickcolor": "rgb(36,36,36)",
            "ticks": "outside"
           }
          },
          "colorscale": {
           "diverging": [
            [
             0,
             "rgb(103,0,31)"
            ],
            [
             0.1,
             "rgb(178,24,43)"
            ],
            [
             0.2,
             "rgb(214,96,77)"
            ],
            [
             0.3,
             "rgb(244,165,130)"
            ],
            [
             0.4,
             "rgb(253,219,199)"
            ],
            [
             0.5,
             "rgb(247,247,247)"
            ],
            [
             0.6,
             "rgb(209,229,240)"
            ],
            [
             0.7,
             "rgb(146,197,222)"
            ],
            [
             0.8,
             "rgb(67,147,195)"
            ],
            [
             0.9,
             "rgb(33,102,172)"
            ],
            [
             1,
             "rgb(5,48,97)"
            ]
           ],
           "sequential": [
            [
             0,
             "#440154"
            ],
            [
             0.1111111111111111,
             "#482878"
            ],
            [
             0.2222222222222222,
             "#3e4989"
            ],
            [
             0.3333333333333333,
             "#31688e"
            ],
            [
             0.4444444444444444,
             "#26828e"
            ],
            [
             0.5555555555555556,
             "#1f9e89"
            ],
            [
             0.6666666666666666,
             "#35b779"
            ],
            [
             0.7777777777777778,
             "#6ece58"
            ],
            [
             0.8888888888888888,
             "#b5de2b"
            ],
            [
             1,
             "#fde725"
            ]
           ],
           "sequentialminus": [
            [
             0,
             "#440154"
            ],
            [
             0.1111111111111111,
             "#482878"
            ],
            [
             0.2222222222222222,
             "#3e4989"
            ],
            [
             0.3333333333333333,
             "#31688e"
            ],
            [
             0.4444444444444444,
             "#26828e"
            ],
            [
             0.5555555555555556,
             "#1f9e89"
            ],
            [
             0.6666666666666666,
             "#35b779"
            ],
            [
             0.7777777777777778,
             "#6ece58"
            ],
            [
             0.8888888888888888,
             "#b5de2b"
            ],
            [
             1,
             "#fde725"
            ]
           ]
          },
          "colorway": [
           "#1F77B4",
           "#FF7F0E",
           "#2CA02C",
           "#D62728",
           "#9467BD",
           "#8C564B",
           "#E377C2",
           "#7F7F7F",
           "#BCBD22",
           "#17BECF"
          ],
          "font": {
           "color": "rgb(36,36,36)"
          },
          "geo": {
           "bgcolor": "white",
           "lakecolor": "white",
           "landcolor": "white",
           "showlakes": true,
           "showland": true,
           "subunitcolor": "white"
          },
          "hoverlabel": {
           "align": "left"
          },
          "hovermode": "closest",
          "mapbox": {
           "style": "light"
          },
          "paper_bgcolor": "white",
          "plot_bgcolor": "white",
          "polar": {
           "angularaxis": {
            "gridcolor": "rgb(232,232,232)",
            "linecolor": "rgb(36,36,36)",
            "showgrid": false,
            "showline": true,
            "ticks": "outside"
           },
           "bgcolor": "white",
           "radialaxis": {
            "gridcolor": "rgb(232,232,232)",
            "linecolor": "rgb(36,36,36)",
            "showgrid": false,
            "showline": true,
            "ticks": "outside"
           }
          },
          "scene": {
           "xaxis": {
            "backgroundcolor": "white",
            "gridcolor": "rgb(232,232,232)",
            "gridwidth": 2,
            "linecolor": "rgb(36,36,36)",
            "showbackground": true,
            "showgrid": false,
            "showline": true,
            "ticks": "outside",
            "zeroline": false,
            "zerolinecolor": "rgb(36,36,36)"
           },
           "yaxis": {
            "backgroundcolor": "white",
            "gridcolor": "rgb(232,232,232)",
            "gridwidth": 2,
            "linecolor": "rgb(36,36,36)",
            "showbackground": true,
            "showgrid": false,
            "showline": true,
            "ticks": "outside",
            "zeroline": false,
            "zerolinecolor": "rgb(36,36,36)"
           },
           "zaxis": {
            "backgroundcolor": "white",
            "gridcolor": "rgb(232,232,232)",
            "gridwidth": 2,
            "linecolor": "rgb(36,36,36)",
            "showbackground": true,
            "showgrid": false,
            "showline": true,
            "ticks": "outside",
            "zeroline": false,
            "zerolinecolor": "rgb(36,36,36)"
           }
          },
          "shapedefaults": {
           "fillcolor": "black",
           "line": {
            "width": 0
           },
           "opacity": 0.3
          },
          "ternary": {
           "aaxis": {
            "gridcolor": "rgb(232,232,232)",
            "linecolor": "rgb(36,36,36)",
            "showgrid": false,
            "showline": true,
            "ticks": "outside"
           },
           "baxis": {
            "gridcolor": "rgb(232,232,232)",
            "linecolor": "rgb(36,36,36)",
            "showgrid": false,
            "showline": true,
            "ticks": "outside"
           },
           "bgcolor": "white",
           "caxis": {
            "gridcolor": "rgb(232,232,232)",
            "linecolor": "rgb(36,36,36)",
            "showgrid": false,
            "showline": true,
            "ticks": "outside"
           }
          },
          "title": {
           "x": 0.05
          },
          "xaxis": {
           "automargin": true,
           "gridcolor": "rgb(232,232,232)",
           "linecolor": "rgb(36,36,36)",
           "showgrid": false,
           "showline": true,
           "ticks": "outside",
           "title": {
            "standoff": 15
           },
           "zeroline": false,
           "zerolinecolor": "rgb(36,36,36)"
          },
          "yaxis": {
           "automargin": true,
           "gridcolor": "rgb(232,232,232)",
           "linecolor": "rgb(36,36,36)",
           "showgrid": false,
           "showline": true,
           "ticks": "outside",
           "title": {
            "standoff": 15
           },
           "zeroline": false,
           "zerolinecolor": "rgb(36,36,36)"
          }
         }
        },
        "title": {
         "text": "direct_speech, indirect_speech, narrated_character_speech in Kleist's 1810-KOHLHAAS"
        },
        "width": 1000,
        "xaxis": {
         "anchor": "y",
         "domain": [
          0,
          0.7363
         ],
         "title": {
          "text": "start_point"
         }
        },
        "xaxis2": {
         "anchor": "y2",
         "domain": [
          0.7413,
          1
         ],
         "matches": "x2",
         "showgrid": true,
         "showline": false,
         "showticklabels": false,
         "ticks": ""
        },
        "xaxis3": {
         "anchor": "y3",
         "domain": [
          0,
          0.7363
         ],
         "matches": "x",
         "showgrid": true,
         "showticklabels": false
        },
        "xaxis4": {
         "anchor": "y4",
         "domain": [
          0.7413,
          1
         ],
         "matches": "x2",
         "showgrid": true,
         "showline": false,
         "showticklabels": false,
         "ticks": ""
        },
        "yaxis": {
         "anchor": "x",
         "domain": [
          0,
          0.7326
         ],
         "title": {
          "text": "prop:speaker"
         }
        },
        "yaxis2": {
         "anchor": "x2",
         "domain": [
          0,
          0.7326
         ],
         "matches": "y",
         "showgrid": true,
         "showticklabels": false
        },
        "yaxis3": {
         "anchor": "x3",
         "domain": [
          0.7426,
          1
         ],
         "matches": "y3",
         "showgrid": true,
         "showline": false,
         "showticklabels": false,
         "ticks": ""
        },
        "yaxis4": {
         "anchor": "x4",
         "domain": [
          0.7426,
          1
         ],
         "matches": "y3",
         "showgrid": true,
         "showline": false,
         "showticklabels": false,
         "ticks": ""
        }
       }
      }
     },
     "metadata": {},
     "output_type": "display_data"
    }
   ],
   "source": [
    "single_text_scatter(\n",
    "    text='1810-kohlhaas',\n",
    "    tags=['direct_speech', 'indirect_speech', 'narrated_character_speech'],\n",
    "    y_column='prop:speaker',\n",
    "    color_column='prop:addressee'\n",
    ")"
   ]
  },
  {
   "cell_type": "markdown",
   "metadata": {},
   "source": [
    "### Network Graph and Stats\n",
    "In the example the character speech interaction is plotted for the first,\n",
    "the second and the third textpart in *Michael Kohlhaas* as a interactive network graph."
   ]
  },
  {
   "cell_type": "markdown",
   "metadata": {},
   "source": [
    "#### First Text Part of *Michael Kohlhaas*"
   ]
  },
  {
   "cell_type": "code",
   "execution_count": null,
   "metadata": {},
   "outputs": [],
   "source": [
    "Network(\n",
    "    text='1810-kohlhaas',\n",
    "    network_annotations='character_speech',\n",
    "    start_point=0,\n",
    "    end_point=0.33\n",
    ").plot(node_factor=30)"
   ]
  },
  {
   "cell_type": "markdown",
   "metadata": {},
   "source": [
    "#### Second Text Part of *Michael Kohlhaas*"
   ]
  },
  {
   "cell_type": "code",
   "execution_count": null,
   "metadata": {},
   "outputs": [],
   "source": [
    "Network(\n",
    "    text='1810-kohlhaas',\n",
    "    network_annotations='character_speech',\n",
    "    start_point=0.33,\n",
    "    end_point=0.66\n",
    ").plot(node_factor=30)"
   ]
  },
  {
   "cell_type": "markdown",
   "metadata": {},
   "source": [
    "#### Third Text Part of *Michael Kohlhaas*"
   ]
  },
  {
   "cell_type": "code",
   "execution_count": null,
   "metadata": {},
   "outputs": [],
   "source": [
    "Network(\n",
    "    text='1810-kohlhaas',\n",
    "    network_annotations='character_speech',\n",
    "    start_point=0.66,\n",
    "    end_point=1.0\n",
    ").plot(node_factor=30)"
   ]
  },
  {
   "cell_type": "markdown",
   "metadata": {},
   "source": [
    "### Plot Embedded Narrations in a Drama "
   ]
  },
  {
   "cell_type": "code",
   "execution_count": null,
   "metadata": {},
   "outputs": [],
   "source": [
    "single_text_scatter(\n",
    "    text='1806-krug',\n",
    "    tags=['secondary_narration'],\n",
    "    y_column='prop:falsification_status',\n",
    "    color_column='prop:addressee'\n",
    ")"
   ]
  },
  {
   "cell_type": "code",
   "execution_count": null,
   "metadata": {},
   "outputs": [],
   "source": [
    "Network(\n",
    "    text='1806-krug',\n",
    "    network_annotations='embedded_narrations',\n",
    "    start_point=0,\n",
    "    end_point=1.0,\n",
    ").plot(\n",
    "    node_factor=30,\n",
    "    node_alpha=10\n",
    ")"
   ]
  }
 ],
 "metadata": {
  "interpreter": {
   "hash": "87fea37bc2fc5e48df9c556e0c5d422e790f997aa4713ca3dbac94eb0b0e073b"
  },
  "kernelspec": {
   "display_name": "Python 3.8.10 64-bit (windows store)",
   "language": "python",
   "name": "python3"
  },
  "language_info": {
   "codemirror_mode": {
    "name": "ipython",
    "version": 3
   },
   "file_extension": ".py",
   "mimetype": "text/x-python",
   "name": "python",
   "nbconvert_exporter": "python",
   "pygments_lexer": "ipython3",
   "version": "3.8.10"
  },
  "orig_nbformat": 4
 },
 "nbformat": 4,
 "nbformat_minor": 2
}
