{
 "cells": [
  {
   "cell_type": "markdown",
   "metadata": {},
   "source": [
    "# Character Speech and Embedded Narrations in Kleist's Dramas and Novellas"
   ]
  },
  {
   "cell_type": "code",
   "execution_count": 1,
   "metadata": {},
   "outputs": [],
   "source": [
    "from narrview.scatter import subcorpus_scatter, single_text_scatter"
   ]
  },
  {
   "cell_type": "markdown",
   "metadata": {},
   "source": [
    "## Visualize Subcorpus Annotations as Interactive Scatter Plot\n",
    "For this plot type exist the following options:\n",
    "- `corpus=`\n",
    "  - `'Novellas'`\n",
    "  - `'Dramas'`\n",
    "- `tags=` (Here you can choose any combination of tags as a list)\n",
    "  - `['direct_speech', 'indirect_speech', 'narrated_character_speech']`\n",
    "  - `['secondary_narration', 'tertiary_narration']`\n",
    "- `color_column=`\n",
    "  - `'tag'`\n",
    "  - `'prop:character_speech'`\n",
    "  - `'prop:informativeness'`\n",
    "  - `'prop:falsification_status'`\n",
    "  - `'prop:relation_narrator-event_time'`"
   ]
  },
  {
   "cell_type": "markdown",
   "metadata": {},
   "source": [
    "### Plot Character Speech in Novellas"
   ]
  },
  {
   "cell_type": "code",
   "execution_count": null,
   "metadata": {},
   "outputs": [],
   "source": [
    "subcorpus_scatter(\n",
    "    corpus='Novellas',                                  \n",
    "    tags=['direct_speech', 'indirect_speech', 'narrated_character_speech'],\n",
    "    color_column='tag'\n",
    ")"
   ]
  },
  {
   "cell_type": "markdown",
   "metadata": {},
   "source": [
    "### Plot Embedded Narrations in Dramas"
   ]
  },
  {
   "cell_type": "code",
   "execution_count": null,
   "metadata": {},
   "outputs": [],
   "source": [
    "subcorpus_scatter(\n",
    "    corpus='Dramas',                                  \n",
    "    tags=['secondary_narration', 'tertiary_narration'],\n",
    "    color_column='prop:relation_narrator-event_time'\n",
    ")"
   ]
  },
  {
   "cell_type": "markdown",
   "metadata": {},
   "source": [
    "## Visualize Single Text Annotations as Interactive Scatter Plot\n",
    "For this plot type exist the following options:\n",
    "- `subcorpus=`\n",
    "  - `\"Novellas\"`\n",
    "  - `\"Dramas\"`\n",
    "- `text=`\n",
    "  - `\"1802-schroffenstein\"` \tin combination with: `subcorpus=\"Dramas\"`\n",
    "  - `\"1806-amphitryon\"` \tin combination with: `subcorpus=\"Dramas\"`\n",
    "  - `\"1806-krug\"` \tin combination with: `subcorpus=\"Dramas\"`\n",
    "  - `\"1807-penthesilea\"` \tin combination with: `subcorpus=\"Dramas\"`\n",
    "  - `\"1808-hermannsschlacht\"` \tin combination with: `subcorpus=\"Dramas\"`\n",
    "  - `\"1808-kaethchen\"` \tin combination with: `subcorpus=\"Dramas\"`\n",
    "  - `\"1810-homburg\"` \tin combination with: `subcorpus=\"Dramas\"`\n",
    "  - `\"1807-erdbeben\"` \tin combination with: `subcorpus=\"Dramas\"`\n",
    "  - `\"1808-marquise\"` \tin combination with: `subcorpus=\"Dramas\"`\n",
    "  - `\"1810-caecilie\"` \tin combination with: `subcorpus=\"Dramas\"`\n",
    "  - `\"1810-kohlhaas\"` \tin combination with: `subcorpus=\"Dramas\"`\n",
    "  - `\"1811-findling\"` \tin combination with: `subcorpus=\"Dramas\"`\n",
    "  - `\"1811-verlobung\"` \tin combination with: `subcorpus=\"Dramas\"`\n",
    "  - `\"1811-zweikampf\"` \tin combination with: `subcorpus=\"Dramas\"`\n",
    "- `tags=` (Here you can choose any combination of tags as a list)\n",
    "  - `['direct_speech', 'indirect_speech', 'narrated_character_speech']`\n",
    "  - `['secondary_narration', 'tertiary_narration']`\n",
    "- `y_column=`\n",
    "  - `'prop:speaker'`\n",
    "  - `'prop:addressee'`\n",
    "  - `'tag'`\n",
    "  - `'prop:character_speech'`\n",
    "  - `'prop:informativeness'`\n",
    "  - `'prop:falsification_status'`\n",
    "  - `'prop:relation_narrator-event_time'`\n",
    "- `color_column=`\n",
    "  - `'prop:speaker'`\n",
    "  - `'prop:addressee'`\n",
    "  - `'tag'`\n",
    "  - `'prop:character_speech'`\n",
    "  - `'prop:informativeness'`\n",
    "  - `'prop:falsification_status'`\n",
    "  - `'prop:relation_narrator-event_time'`"
   ]
  },
  {
   "cell_type": "markdown",
   "metadata": {},
   "source": [
    "### Plot Character Speech in a Novella"
   ]
  },
  {
   "cell_type": "code",
   "execution_count": null,
   "metadata": {},
   "outputs": [],
   "source": [
    "single_text_scatter(\n",
    "    subcorpus='Novellas',\n",
    "    text='1810-kohlhaas',\n",
    "    tags=['direct_speech', 'indirect_speech', 'narrated_character_speech'],\n",
    "    y_column='prop:speaker',\n",
    "    color_column='prop:addressee'\n",
    ")"
   ]
  },
  {
   "cell_type": "markdown",
   "metadata": {},
   "source": [
    "### Plot Embedded Narrations in a Drama "
   ]
  },
  {
   "cell_type": "code",
   "execution_count": null,
   "metadata": {},
   "outputs": [],
   "source": [
    "single_text_scatter(\n",
    "    subcorpus='Dramas',\n",
    "    text='1806-krug',\n",
    "    tags=['secondary_narration'],\n",
    "    y_column='prop:falsification_status',\n",
    "    color_column='prop:addressee'\n",
    ")"
   ]
  }
 ],
 "metadata": {
  "interpreter": {
   "hash": "87fea37bc2fc5e48df9c556e0c5d422e790f997aa4713ca3dbac94eb0b0e073b"
  },
  "kernelspec": {
   "display_name": "Python 3.8.10 64-bit (windows store)",
   "language": "python",
   "name": "python3"
  },
  "language_info": {
   "codemirror_mode": {
    "name": "ipython",
    "version": 3
   },
   "file_extension": ".py",
   "mimetype": "text/x-python",
   "name": "python",
   "nbconvert_exporter": "python",
   "pygments_lexer": "ipython3",
   "version": "3.8.10"
  },
  "orig_nbformat": 4
 },
 "nbformat": 4,
 "nbformat_minor": 2
}
